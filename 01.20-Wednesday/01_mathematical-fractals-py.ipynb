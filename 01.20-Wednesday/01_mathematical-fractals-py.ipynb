{
 "cells": [
  {
   "cell_type": "markdown",
   "metadata": {
    "colab_type": "text",
    "id": "84m46FCY6DXZ"
   },
   "source": [
    "# Mathematical Fractals\n",
    "\"A fractal is a way of seeing infinity.\" ~ *Benoit Mandelbrot*"
   ]
  },
  {
   "cell_type": "markdown",
   "metadata": {
    "colab_type": "text",
    "id": "vSLyD5vGCmJn"
   },
   "source": [
    "## Logistic map\n",
    "Maps parameterized by a discrete-time parameter often take the form of iterated functions. One prototypical example is the **logistic map**,\n",
    "\n",
    "$$ x_{n+1} = rx_n(1 - x_n),$$\n",
    "\n",
    "where $r$ is a constant parameter, and $x_n$ lies on the interval $[0,1]$. To identify the unique properties of this system, we want to visualize how the map evolves with successive iterations as a function of the parameter $r$, and to determine the state of the system after many iterations.\n",
    "\n",
    "We start by defining some library imports we will need in this notebook."
   ]
  },
  {
   "cell_type": "code",
   "execution_count": null,
   "metadata": {
    "colab": {},
    "colab_type": "code",
    "id": "XwaRx3plO_mh"
   },
   "outputs": [],
   "source": [
    "import numpy as np\n",
    "import ipywidgets as widgets\n",
    "from numba import njit\n",
    "from mathematical_fractals_utils import *\n",
    "from IPython.display import HTML"
   ]
  },
  {
   "cell_type": "markdown",
   "metadata": {
    "colab_type": "text",
    "id": "LQ0fRSv7LvCT"
   },
   "source": [
    "Next, we want to define a function ```logistic``` which takes the parameter $r$ and current state $x$ and computes the next iterate of the logistic map."
   ]
  },
  {
   "cell_type": "code",
   "execution_count": null,
   "metadata": {
    "colab": {},
    "colab_type": "code",
    "id": "bErHUHlpFo29"
   },
   "outputs": [],
   "source": [
    "def logistic(x, r):\n",
    "    ''' Compute the next iterate of the logistic map. '''\n",
    "    return r*x*(1 - x)"
   ]
  },
  {
   "cell_type": "code",
   "execution_count": null,
   "metadata": {},
   "outputs": [],
   "source": [
    "logistic(0.25, 2.5)"
   ]
  },
  {
   "cell_type": "markdown",
   "metadata": {
    "colab_type": "text",
    "id": "ZD9CxcfKMNEQ"
   },
   "source": [
    "Now, let's create a function `calc_trajectory(func, x0, N, args)` to perform the logistic map sequentially over $N$ iterations starting from the state $x_0$ and record the path taken. We will visualize the result by plotting $x_n$ on the x-axis and $x_{n+1}$ on the y-axis. The procedure is as follows:\n",
    "\n",
    "1. Given the starting point $x=x_0$, evaluate $y=$ `logistic(x, r)` and record the value $(x, y)$.\n",
    "2. Update the initial state by sending $y \\rightarrow x$ and again record $(x, y)$.\n",
    "3. Repeat the process, keeping track of $(x, y)$ at each step.\n",
    "\n",
    "The function returns an array of all the recorded points after a specified number of iterations $N$.\n",
    "Plotting this result produces a **cobweb plot** that is useful for analyzing the kinds of final states or **orbits** toward which the system evolves."
   ]
  },
  {
   "cell_type": "code",
   "execution_count": null,
   "metadata": {
    "colab": {},
    "colab_type": "code",
    "id": "Evm6jg51Mo4m"
   },
   "outputs": [],
   "source": [
    "def calc_trajectory(fmap, x0, N, *args):\n",
    "    ''' Evaluate the function fmap sequentially over N iterations and return an array of points of the path taken.\n",
    "        Inputs:\n",
    "            fmap - function of the iterative map\n",
    "            x0 - initial value\n",
    "            N  - number of iterations\n",
    "            args - additional arguments taken by fmap\n",
    "        Outputs:\n",
    "            points - array of traversed points\n",
    "    '''\n",
    "    points = np.zeros((2*N, 2))           # array to store all (x,y) pairs\n",
    "    x, y = x0, 0                          # initialization\n",
    "    points[0,:] = [x, y]                  # store initial condition\n",
    "\n",
    "    for i in range(1,N):\n",
    "        y = fmap(x, *args)                # compute next iterate\n",
    "        points[2*i-1,:] = [x, y]\n",
    "        x = y                             # set next initial condition\n",
    "        points[2*i,:] = [x, y]\n",
    "    y = fmap(x, *args)                    # compute and record the final point\n",
    "    points[-1,:] = [x, y]\n",
    "    return points"
   ]
  },
  {
   "cell_type": "code",
   "execution_count": null,
   "metadata": {
    "scrolled": false
   },
   "outputs": [],
   "source": [
    "x0 = 0.25\n",
    "r = 3.5\n",
    "N = 100\n",
    "\n",
    "# calculate trajectory\n",
    "points = calc_trajectory(logistic, x0, N, r)\n",
    "\n",
    "# display labeled cobweb plot\n",
    "f, ax = cobweb_plot(logistic, points, r);"
   ]
  },
  {
   "cell_type": "markdown",
   "metadata": {
    "colab_type": "text",
    "id": "PZ-2iFroQs2h"
   },
   "source": [
    "The cell below wraps the calls to `calc_trajectory` and `cobweb_plot` inside an interactive slider that can be used to explore the final orbits for different choices of $r$."
   ]
  },
  {
   "cell_type": "code",
   "execution_count": null,
   "metadata": {
    "colab": {},
    "colab_type": "code",
    "id": "-R8JCloyRq-v"
   },
   "outputs": [],
   "source": [
    "r_slider = widgets.FloatSlider(value=2.5, min=1., max=4., step=0.01, description='r:', readout_format='.2f')\n",
    "@widgets.interact(r = r_slider)\n",
    "def cobweb_slider(r=2.5):\n",
    "    points = calc_trajectory(logistic, x0, N, r)\n",
    "    cobweb_plot(logistic, points, r)"
   ]
  },
  {
   "cell_type": "markdown",
   "metadata": {
    "colab_type": "text",
    "id": "vIXa-1f82-ub"
   },
   "source": [
    "For certain intervals of the parameter $r$, the map settles into periodic orbits about one or more fixed points, while in other cases, it behaves chaotically. These parameter intervals and the corresponding orbits can be visualized using an **orbit diagram**, which is a plot of the stable orbits $x$ at a particular value of the parameter $r$.\n",
    "\n",
    "Let's write a function ```calc_orbits``` iterate through a transient of $400$ iterations and then output only the following $100$ iterations, for $1000$ different values of $r$ in the range $r=2.4$ to $r=4.0$."
   ]
  },
  {
   "cell_type": "code",
   "execution_count": null,
   "metadata": {},
   "outputs": [],
   "source": [
    "def calc_orbits(out, fmap, x0, *args, warmup=400):\n",
    "    ''' Iterate the function fmap through a transient of warmup iterations and return an array of the final orbits.\n",
    "        Inputs:\n",
    "            out - output array to store final orbits\n",
    "            fmap - function of the iterative map\n",
    "            x0 - initial value\n",
    "            args - additional arguments taken by fmap\n",
    "            warmup - number of transient iterations\n",
    "    '''\n",
    "    # iterate through transient behavior\n",
    "    x = x0\n",
    "    for i in range(warmup):\n",
    "        x = fmap(x, *args)\n",
    "        \n",
    "    # output long-term behavior\n",
    "    out[0] = fmap(x, *args)\n",
    "    for i in range(len(out)-1):\n",
    "        out[i+1] = fmap(out[i], *args)"
   ]
  },
  {
   "cell_type": "code",
   "execution_count": null,
   "metadata": {},
   "outputs": [],
   "source": [
    "x0 = 0.5\n",
    "r = np.linspace(2.4,4.,1000)           # range of r values\n",
    "out = np.zeros((100, len(r)))          # initialize array to store output\n",
    "calc_orbits(out, logistic, x0, r)      # calculate orbits\n",
    "\n",
    "# display labeled orbit diagram\n",
    "f, ax = orbit_diagram(out, r);"
   ]
  },
  {
   "cell_type": "markdown",
   "metadata": {
    "colab_type": "text",
    "id": "t0fpfGlTTIbt"
   },
   "source": [
    "Note the bifurcations in the orbit diagram at values of $r$ where **period doubling** occurs. The orbit diagram is in fact **fractal**; if we zoom in, the diagram looks self-similar. This is a clue that chaotic maps can actually be used to generate fractals."
   ]
  },
  {
   "cell_type": "markdown",
   "metadata": {
    "colab_type": "text",
    "id": "XPYBP3ccLld7"
   },
   "source": [
    "## Julia set\n",
    "The **Julia set** is the set of initial points whose orbits remain bounded under iterations of a given map. As an example, let's look at the quadratic Julia set, which is the Julia set of the discrete two-dimensional map given by the family of complex quadratic polynomials:\n",
    "\n",
    "$$z_{n+1} = z_n^2 + c,$$\n",
    "\n",
    "where $z_n$ and $c$ are both complex.\n",
    "\n",
    "To start, we define a function ```quadratic``` which takes as input the parameter $c$ and current state $z$ and computes the next iterate of the quadratic map. Note that the built-in function ```complex``` can be used to create a complex number given a real part $x$ and imaginary part $y$ as ```complex(x,y)```."
   ]
  },
  {
   "cell_type": "code",
   "execution_count": null,
   "metadata": {
    "colab": {},
    "colab_type": "code",
    "id": "EFeaa9A47lE0"
   },
   "outputs": [],
   "source": [
    "@njit\n",
    "def quadratic(z, c):\n",
    "    ''' Compute the next iterate of the discrete quadratic map. '''\n",
    "    return z**2 + c"
   ]
  },
  {
   "cell_type": "code",
   "execution_count": null,
   "metadata": {},
   "outputs": [],
   "source": [
    "quadratic(complex(1., 1.), complex(-0.4, 0.6))"
   ]
  },
  {
   "cell_type": "markdown",
   "metadata": {
    "colab_type": "text",
    "id": "b2KzZQhjUJXz"
   },
   "source": [
    "To determine if a point is a member of the Julia set, we will create a function ```julia``` to iteratively call our map a specified number of times and return one of the following:\n",
    "1. If upon iteration, a point goes beyond some escape radius $R$, we will call that orbit unbounded and return the number of iterations it took to escape.\n",
    "2. If the point never escapes in the given number of steps, we simply return the maximum number of iterations."
   ]
  },
  {
   "cell_type": "code",
   "execution_count": null,
   "metadata": {
    "colab": {},
    "colab_type": "code",
    "id": "5egONTDmUjho"
   },
   "outputs": [],
   "source": [
    "@njit\n",
    "def julia(fmap, z0, p, R=10, max_iters=500):\n",
    "    ''' Determine whether a point z0 belongs to the Julia set of a function given a maximum number of iterations.\n",
    "        Inputs:\n",
    "            fmap - function of the iterative map\n",
    "            z0 - initial value\n",
    "            p - parameter(s) taken by fmap\n",
    "            R - escape radius radius beyond which orbits are considered unbounded\n",
    "            max_iters - maximum number of iterations\n",
    "        Outputs:\n",
    "            number of iterations required to escape (or max_iters if orbit remains bounded)\n",
    "    '''\n",
    "    z = z0\n",
    "    for i in range(1, max_iters+1):\n",
    "        z = fmap(z, p)\n",
    "        if abs(z) >= R:\n",
    "            return i\n",
    "    return max_iters"
   ]
  },
  {
   "cell_type": "code",
   "execution_count": null,
   "metadata": {},
   "outputs": [],
   "source": [
    "z0 = complex(1., 1.)\n",
    "c = complex(-0.4, 0.6)\n",
    "julia(quadratic, z0, c)"
   ]
  },
  {
   "cell_type": "markdown",
   "metadata": {
    "colab_type": "text",
    "id": "HGzApLM3UuR9"
   },
   "source": [
    "We are interested in the number of iterations required for escape for many different points. Since our map involves complex numbers, $z = x + iy$, we can represent these points in a two-dimensional space with the real and imaginary parts on the x- and y-axes, respectively.\n",
    "\n",
    "Let's create a function ```make_fractal``` that takes a two-dimensional array of points $(x,y)$ representing the initial values $z_0 = x + iy$, and for each point calculates the output of ```julia``` (or a similar function, to be introduced later!). Since the Julia set is just one example of a set that generates a fractal, we will keep ```make_fractal``` generic by using the variable name ```fset``` for a function like ```julia```."
   ]
  },
  {
   "cell_type": "code",
   "execution_count": null,
   "metadata": {
    "colab": {},
    "colab_type": "code",
    "id": "yjFrGJpVVtcD"
   },
   "outputs": [],
   "source": [
    "@njit\n",
    "def make_fractal(out, fset, fmap, L, p, R=10, max_iters=500):\n",
    "    ''' Compute the set fset of the function given by fmap for each point in a specified image domain.\n",
    "        Inputs:\n",
    "            out - two-dimensional output array\n",
    "            fset - function of the set to compute (e.g. julia)\n",
    "            fmap - function of the iterative map (e.g. quadratic)\n",
    "            L - extent of image domain given by [-L,L]x[-L,L]\n",
    "            p - parameter(s) taken by fmap\n",
    "            R - escape radius radius beyond which orbits are considered unbounded\n",
    "            max_iters - maximum number of iterations\n",
    "    '''\n",
    "    \n",
    "    ny, nx = out.shape\n",
    "    dx = 2*L/nx\n",
    "    dy = 2*L/ny\n",
    "    \n",
    "    for i in range(nx):\n",
    "        x = -L + i*dx\n",
    "        for j in range(ny):\n",
    "            y = -L + j*dy\n",
    "            out[j,i] = fset(fmap, complex(x, y), p, R, max_iters)"
   ]
  },
  {
   "cell_type": "code",
   "execution_count": null,
   "metadata": {},
   "outputs": [],
   "source": [
    "nx, ny = 2000, 2000\n",
    "out = np.zeros((nx, ny), dtype=np.int64)\n",
    "L = 1.5\n",
    "c = complex(-0.4, 0.6)\n",
    "make_fractal(out, julia, quadratic, L, c)\n",
    "\n",
    "# display image\n",
    "f, ax = fractal_plot(out, palette='default');"
   ]
  },
  {
   "cell_type": "markdown",
   "metadata": {},
   "source": [
    "Larger ```nx```, ```ny```, and ```max_iters``` allow you to resolve more details but will take longer to run. You can change the color palette used for plotting by changing the ```palette``` argument to the name of one of these [colormaps](https://matplotlib.org/3.1.0/tutorials/colors/colormaps.html).\n",
    "\n",
    "To save an image, you can run a cell like the following, where ```f``` is the handle to the figure object, i.e. ```f, ax = fractal_plot(out)```. It will be saved in the same directory as this notebook and should appear in the Jupyter navigation window, where you can select it and download it."
   ]
  },
  {
   "cell_type": "code",
   "execution_count": null,
   "metadata": {},
   "outputs": [],
   "source": [
    "f.savefig('my_figure.png', dpi=400)"
   ]
  },
  {
   "cell_type": "markdown",
   "metadata": {
    "colab_type": "text",
    "id": "9P6AIallGI0C"
   },
   "source": [
    "Explore the kinds of fractals generated by different values of the constant $c$ using the widget below."
   ]
  },
  {
   "cell_type": "code",
   "execution_count": null,
   "metadata": {
    "colab": {},
    "colab_type": "code",
    "id": "NWRMh4umf4bE"
   },
   "outputs": [],
   "source": [
    "nx, ny = 2000, 2000\n",
    "out = np.zeros((nx, ny), dtype=np.int64)\n",
    "L = 1.5\n",
    "\n",
    "@widgets.interact_manual(c = ['romanesco', 'paisley', 'snowflake', 'vortices'])\n",
    "def quadratic_julia_dropdown(c='romanesco'):   \n",
    "    # suggested parameter sets\n",
    "    romanesco = complex(-0.4, 0.6)\n",
    "    paisley = complex(0.285, 0.01)\n",
    "    snowflake = complex(-0.59, 0.49)\n",
    "    vortices = complex(-0.8, 0.156)\n",
    "    \n",
    "    make_fractal(out, julia, quadratic, L, eval(c))\n",
    "    fractal_plot(out, palette='default')"
   ]
  },
  {
   "cell_type": "markdown",
   "metadata": {
    "colab_type": "text",
    "id": "xx2VO9JjY7Tn"
   },
   "source": [
    "Use the sliders to find some other interesting patterns."
   ]
  },
  {
   "cell_type": "code",
   "execution_count": null,
   "metadata": {
    "colab": {},
    "colab_type": "code",
    "id": "jcV5Qrf3Ufyl"
   },
   "outputs": [],
   "source": [
    "nx, ny = 2000, 2000\n",
    "out = np.zeros((nx, ny), dtype=np.int64)\n",
    "L = 1.5\n",
    "\n",
    "re_slider = widgets.FloatSlider(value=-0.4, min=-1., max=1., step=0.01, description='Re[c]:', readout_format='.2f')\n",
    "im_slider = widgets.FloatSlider(value=0.6, min=-1., max=1., step=0.01, description='Im[c]:', readout_format='.2f')\n",
    "\n",
    "@widgets.interact_manual(x=re_slider, y=im_slider)\n",
    "def quadratic_julia_slider(x=-4., y=0.6):\n",
    "    make_fractal(out, julia, quadratic, L, complex(x,y))\n",
    "    fractal_plot(out, palette='default')"
   ]
  },
  {
   "cell_type": "markdown",
   "metadata": {
    "colab_type": "text",
    "id": "VJAI__QOnXQf"
   },
   "source": [
    "Now let's animate how the fractal patterns evolve as we gradually tune $c$. To make the movie, we'll want to build up a stack of fractal images with a frame for each value of $c$. This is handled by ```make_fractal_stack```."
   ]
  },
  {
   "cell_type": "code",
   "execution_count": null,
   "metadata": {
    "colab": {},
    "colab_type": "code",
    "id": "KiwyRPGanXnx"
   },
   "outputs": [],
   "source": [
    "def make_fractal_stack(out, fset, fmap, L, ps, R=10, max_iters=500):\n",
    "    ''' Compute the set fset of the function given by fmap for each point in a specified image domain.\n",
    "        Inputs:\n",
    "            out - two-dimensional output array\n",
    "            fset - function of the set to compute (e.g. julia)\n",
    "            fmap - function of the iterative map (e.g. quadratic)\n",
    "            L - extent of image domain given by [-L,L]x[-L,L]\n",
    "            ps - array of parameter(s) taken by fmap\n",
    "            R - escape radius radius beyond which orbits are considered unbounded\n",
    "            max_iters - maximum number of iterations\n",
    "            frames - number of frames in the movie\n",
    "    '''\n",
    "    for i, p in enumerate(ps):\n",
    "        make_fractal(out[:,:,i], fset, fmap, L, p, R=R, max_iters=max_iters)"
   ]
  },
  {
   "cell_type": "markdown",
   "metadata": {
    "colab_type": "text",
    "id": "O8eH6HY9a_8p"
   },
   "source": [
    "We will sweep $c$ over the range $c = 0.7885e^{i \\theta}$, with $\\theta$ running from $0$ to $2 \\pi$."
   ]
  },
  {
   "cell_type": "code",
   "execution_count": null,
   "metadata": {},
   "outputs": [],
   "source": [
    "frames = 100                            # number of frames\n",
    "\n",
    "# make an array of constants c\n",
    "T = np.linspace(0, 2*np.pi, frames)\n",
    "cs = np.array([complex(0.7885*np.cos(t), 0.7885*np.sin(t)) for t in T])\n",
    "\n",
    "\n",
    "# define a 3d array to store the movie\n",
    "nx, ny = 500, 500\n",
    "out = np.zeros((nx, ny, frames), dtype=np.int64)\n",
    "L = 1.5\n",
    "\n",
    "make_fractal_stack(out, julia, quadratic, L, cs, max_iters=100)"
   ]
  },
  {
   "cell_type": "code",
   "execution_count": null,
   "metadata": {},
   "outputs": [],
   "source": [
    "ani = fractal_movie(out, palette='default')\n",
    "HTML(ani.to_html5_video())"
   ]
  },
  {
   "cell_type": "markdown",
   "metadata": {
    "colab_type": "text",
    "id": "u-oer4GgCqQE"
   },
   "source": [
    "## Mandelbrot set\n",
    "A complement to the Julia set is the **Mandelbrot set**, which is the parameter space of possible $c$ values for which the quadratic map remains bounded when initialized at $z_0 = 0 + 0i$.\n",
    "\n",
    "Due to their similarity, we can can repurpose all our existing code when simulating the Mandelbrot set if we define our function ```mandel``` identically to ```julia```, but reverse the order of the arguments $z_0$ and $c$ in the function inputs. Then, we just need to remember to pass $z_0 = 0 + 0i$ for the initial value."
   ]
  },
  {
   "cell_type": "code",
   "execution_count": null,
   "metadata": {
    "colab": {},
    "colab_type": "code",
    "id": "AAysf59ABi5s"
   },
   "outputs": [],
   "source": [
    "@njit\n",
    "def mandel(fmap, p, z0, R=10, max_iters=50):\n",
    "    ''' Determine whether a point p belongs to the Mandelbrot set of a function given a maximum number of iterations.\n",
    "        Inputs:\n",
    "            fmap - function of the iterative map\n",
    "            p - parameter(s) taken by fmap\n",
    "            z0 - initial value\n",
    "            R - escape radius radius beyond which orbits are considered unbounded\n",
    "            max_iters - maximum number of iterations\n",
    "        Outputs:\n",
    "            number of iterations required to escape (or max_iters if orbit remains bounded)\n",
    "    '''\n",
    "    z = z0\n",
    "    for i in range(1, max_iters+1):\n",
    "        z = fmap(z, p)\n",
    "        if abs(z) >= R:\n",
    "            return i\n",
    "    return max_iters"
   ]
  },
  {
   "cell_type": "markdown",
   "metadata": {
    "colab_type": "text",
    "id": "AbiNJclCERUc"
   },
   "source": [
    "Now we can visualize the Mandelbrot set reusing the ```quadratic``` and ```make_fractal``` functions defined earlier."
   ]
  },
  {
   "cell_type": "code",
   "execution_count": null,
   "metadata": {
    "colab": {},
    "colab_type": "code",
    "id": "DHG2dCj8D9QL"
   },
   "outputs": [],
   "source": [
    "nx, ny = 2000, 2000\n",
    "out = np.zeros((nx, ny), dtype=np.int64)\n",
    "L = 1.5\n",
    "z0 = complex(0., 0.)\n",
    "make_fractal(out, mandel, quadratic, L, z0)\n",
    "\n",
    "# display image\n",
    "f, ax = fractal_plot(np.sqrt(out), palette='default');"
   ]
  },
  {
   "cell_type": "markdown",
   "metadata": {},
   "source": [
    "### Interpretation\n",
    "The image below notes the analogy between the Mandelbrot set and an orbit diagram. Each lobe in the Mandelbrot set corresponds to a parameter window of bounded orbits (trajectories that never escaped within the maximum number of iterations). The biggest lobe corresponds to a fixed point (orbit of period one), the second to an orbit with period two, and so on. This is reminiscent of the orbit diagram we made for the logistic map, except that instead of tuning one real parameter $r$, to construct the Mandelbrot set we tuned the complex parameter $c$.\n",
    "![fractal summary](https://drive.google.com/uc?id=1VaiAzrereCNui6rTQn8_EE6UsrRyAJQ3)"
   ]
  },
  {
   "cell_type": "markdown",
   "metadata": {
    "colab_type": "text",
    "id": "A8PSeQRUfg2f"
   },
   "source": [
    "### Blowing in the Wind\n",
    "\n",
    "What happens if we make the initial point $z_0$ non-zero and compute its Mandelbrot set? The code below makes a video that sweeps $z_0$ along the diagonal from $0+0i$ to $1+i$. The Mandelbrot set looks like it's blowing away in the wind!"
   ]
  },
  {
   "cell_type": "code",
   "execution_count": null,
   "metadata": {},
   "outputs": [],
   "source": [
    "# number of frames\n",
    "frames = 100\n",
    "\n",
    "# make an array of initial conditions z0\n",
    "z0s = np.array([complex(i,i) for i in np.linspace(0,1,frames)])\n",
    "\n",
    "\n",
    "# define a 3d array to store the movie\n",
    "nx, ny = 500, 500\n",
    "out = np.zeros((nx, ny, frames), dtype=np.int64)\n",
    "L = 1.5\n",
    "\n",
    "make_fractal_stack(out, mandel, quadratic, L, z0s, max_iters=50)"
   ]
  },
  {
   "cell_type": "code",
   "execution_count": null,
   "metadata": {
    "scrolled": false
   },
   "outputs": [],
   "source": [
    "ani = fractal_movie(out, palette='default')\n",
    "HTML(ani.to_html5_video())"
   ]
  },
  {
   "cell_type": "markdown",
   "metadata": {
    "colab_type": "text",
    "id": "pG4kzO43G0a_"
   },
   "source": [
    "## Examples playground\n",
    "\n",
    "Why not try and plot the Julia sets of other maps?\n",
    "Let's try the function:\n",
    "\n",
    "$$z_{n+1} = c\\text{sin}(z_n)$$"
   ]
  },
  {
   "cell_type": "code",
   "execution_count": null,
   "metadata": {
    "colab": {},
    "colab_type": "code",
    "id": "SERg5bx1bDOS"
   },
   "outputs": [],
   "source": [
    "@njit\n",
    "def sinusoid(z, c):\n",
    "    return c*np.sin(z)"
   ]
  },
  {
   "cell_type": "code",
   "execution_count": null,
   "metadata": {},
   "outputs": [],
   "source": [
    "nx, ny = 1000, 1000\n",
    "out = np.zeros((nx, ny), dtype=np.int64)\n",
    "c = complex(-0.2, 1.)\n",
    "L = 1.5\n",
    "make_fractal(out, julia, sinusoid, L, c, max_iters=200)\n",
    "\n",
    "# display image\n",
    "f, ax = fractal_plot(out, palette='default');"
   ]
  },
  {
   "cell_type": "markdown",
   "metadata": {
    "colab_type": "text",
    "id": "owPk9BKvbqRP"
   },
   "source": [
    "Play around with the extent $L$ of the image domain below."
   ]
  },
  {
   "cell_type": "code",
   "execution_count": null,
   "metadata": {
    "colab": {},
    "colab_type": "code",
    "id": "7ozJ7VulenPM"
   },
   "outputs": [],
   "source": [
    "nx, ny = 1000, 1000\n",
    "out = np.zeros((nx, ny), dtype=np.int64)\n",
    "\n",
    "domain_slider = widgets.FloatSlider(value=1.5, min=0.2, max=10, step=0.1, description='L:', readout_format='.1f')\n",
    "@widgets.interact_manual(L=domain_slider)\n",
    "def sinusoid_julia_slider(L=1.5):\n",
    "    make_fractal(out, julia, sinusoid, L, complex(-0.2, 1.), max_iters=200)\n",
    "    fractal_plot(out, palette='default')"
   ]
  },
  {
   "cell_type": "markdown",
   "metadata": {
    "colab_type": "text",
    "id": "SNfVoizctlj8"
   },
   "source": [
    "How about the complex analogue of the logistic map?\n",
    "\n",
    "$$z_{n+1} = cz_n(1 - z_n)$$"
   ]
  },
  {
   "cell_type": "code",
   "execution_count": null,
   "metadata": {
    "colab": {},
    "colab_type": "code",
    "id": "ZVrww81hraab"
   },
   "outputs": [],
   "source": [
    "@njit\n",
    "def complex_logistic(z, c):\n",
    "    return c*z*(1 - z)"
   ]
  },
  {
   "cell_type": "code",
   "execution_count": null,
   "metadata": {},
   "outputs": [],
   "source": [
    "nx, ny = 1000, 1000\n",
    "out = np.zeros((nx, ny), dtype=np.int64)\n",
    "c = complex(-0.2, 1.)\n",
    "L = 0.2\n",
    "make_fractal(out, julia, complex_logistic, L, c)\n",
    "\n",
    "# display image\n",
    "f, ax = fractal_plot(out, palette='default');"
   ]
  },
  {
   "cell_type": "code",
   "execution_count": null,
   "metadata": {
    "colab": {},
    "colab_type": "code",
    "id": "-JMvjrlIt1e4"
   },
   "outputs": [],
   "source": [
    "nx, ny = 1000, 1000\n",
    "out = np.zeros((nx, ny), dtype=np.int64)\n",
    "\n",
    "domain_slider = widgets.FloatSlider(value=0.2, min=0.001, max=0.5, step=0.005, description='L:', readout_format='.3f')\n",
    "@widgets.interact_manual(L=domain_slider)\n",
    "def complex_logistic_julia_slider(L=0.2):\n",
    "    make_fractal(out, julia, complex_logistic, L, complex(-0.2, 1.))\n",
    "    fractal_plot(out, palette='default')"
   ]
  }
 ],
 "metadata": {
  "@webio": {
   "lastCommId": null,
   "lastKernelId": null
  },
  "colab": {
   "authorship_tag": "ABX9TyO5v09l8w6ycLNV4hB0EFWT",
   "collapsed_sections": [],
   "include_colab_link": true,
   "name": "mathematical_fractals_solutions.ipynb",
   "provenance": []
  },
  "kernelspec": {
   "display_name": "Python 3",
   "language": "python",
   "name": "python3"
  },
  "language_info": {
   "codemirror_mode": {
    "name": "ipython",
    "version": 3
   },
   "file_extension": ".py",
   "mimetype": "text/x-python",
   "name": "python",
   "nbconvert_exporter": "python",
   "pygments_lexer": "ipython3",
   "version": "3.7.5"
  }
 },
 "nbformat": 4,
 "nbformat_minor": 1
}
