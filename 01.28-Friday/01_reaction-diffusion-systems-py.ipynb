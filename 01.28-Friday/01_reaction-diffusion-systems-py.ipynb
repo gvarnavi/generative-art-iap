{
 "cells": [
  {
   "cell_type": "markdown",
   "metadata": {
    "colab_type": "text",
    "id": "view-in-github"
   },
   "source": [
    "[![Open In Colab](https://colab.research.google.com/assets/colab-badge.svg)](http://colab.research.google.com/github/gvarnavi/generative-art-iap/blob/master/01.28-Friday/01_reaction-diffusion-systems-py.ipynb)"
   ]
  },
  {
   "cell_type": "markdown",
   "metadata": {
    "id": "98cyHVgqWlLn"
   },
   "source": [
    "# Gray-Scott Model of Reaction-Diffusion\n",
    "\n",
    "![reaction-diffusion](https://raw.githubusercontent.com/gvarnavi/generative-art-iap/master/01.28-Friday/visuals/reaction_diffusion.png)\n",
    "\n",
    "The Gray-Scott model of reaction-diffusion models two interacting species, $U$ and $V$, that both react and diffuse in space. The chemical reaction between the two species is given by\n",
    "\n",
    "$$\n",
    "\\begin{aligned}\n",
    "U + 2V &\\rightarrow 3V \\\\\n",
    "V &\\rightarrow P\n",
    "\\end{aligned}\n",
    "$$\n",
    "\n",
    "where $P$ represents an inert product that depletes the amount of $V$ present. Each species $U$ and $V$ has a corresponding concentration, $u$ and $v$, respectively. The evolution of the concentrations in time is given by the following system of partial differential equations (PDE):\n",
    "\n",
    "$$\n",
    "\\begin{aligned}\n",
    "\\frac{\\partial{u}}{\\partial{t}} &= D_u\\nabla^2u - uv^2 + f(1-u) \\\\\n",
    "\\frac{\\partial{v}}{\\partial{t}} &= D_v\\nabla^2v + uv^2 - (f+k)v\n",
    "\\end{aligned}\n",
    "$$\n",
    "\n",
    "Let's break down the contributions to these equations.\n",
    "\n",
    "#### Diffusion\n",
    "$D_u$ and $D_v$ represent the diffusion constants of each species, and $\\nabla^2$ is the Laplace operator in 2D, given by\n",
    "\n",
    "$$ \\nabla^2 = \\frac{\\partial^2}{\\partial x^2} + \\frac{\\partial^2}{\\partial y^2}.$$ \n",
    "\n",
    "Both species respond to the concentrations of their surroundings. If more $U$ is present at a particular point than in its surroundings, $\\nabla^2u$ will be negative, and $u$ will decrease at that point.\n",
    "\n",
    "#### Reaction\n",
    "According to the chemical reaction, one $U$ and two $V$ react to produce $3V$; as a result, the reaction *rate* is proportional to $uv^2$. This reaction depletes $u$ but increases $v$ in the differential equation.\n",
    "\n",
    "#### Replenishment\n",
    "The species $U$ is replenished from the environment (e.g. an adjacent reservoir) in proportion to $1-u$, with a constant of proportionality $f$ known as the *feed rate*. The feed rate is one of the key parameters we will tune to observe different patterns.\n",
    "\n",
    "#### Depletion\n",
    "The species $V$ depletes by forming an inert product $P$. This depletion proceeds at a rate proportional to $v$ and the sum $f+k$, where $k$ is known as the *kill rate*. This is the second term we will tune to vary the pattern formation.\n",
    "\n",
    "Our goal in this session will be to explore the variety of interesting visual patterns this simple yet rich interacting system can exhibit, which have analogs in biological pattern formation such as spots or stripes. For reference, the following website offers an interactive look into the phase diagram spanned by the $f$ and $k$ parameters: [Reaction-Diffusion by the Gray-Scott Model: Pearson's Parametrization](http://mrob.com/pub/comp/xmorphia/index.html).\n",
    "\n",
    "We'll start by importing the necessary libraries:"
   ]
  },
  {
   "cell_type": "code",
   "execution_count": null,
   "metadata": {
    "id": "qI18ILff-Ne-"
   },
   "outputs": [],
   "source": [
    "import numpy as np\n",
    "import matplotlib.pyplot as plt\n",
    "import matplotlib.animation as animation\n",
    "import time\n",
    "import ipywidgets as widgets\n",
    "from skimage.data import binary_blobs\n",
    "from skimage.io import imread\n",
    "from scipy.integrate import solve_ivp\n",
    "from IPython.display import HTML, display"
   ]
  },
  {
   "cell_type": "markdown",
   "metadata": {
    "id": "6TSoE3PAWqFu"
   },
   "source": [
    "Below, we define two functions which we will use to format and make plots and animations."
   ]
  },
  {
   "cell_type": "code",
   "execution_count": null,
   "metadata": {
    "id": "bbqs4TMD-WY1"
   },
   "outputs": [],
   "source": [
    "def plot_pattern(u, colormap='twilight'):\n",
    "    '''Plot the concentration as a color image.\n",
    "    u - grid of concentrations of one species.\n",
    "    colormap - an optional specification for a colormap to use.\n",
    "    '''\n",
    "    fig, ax = plt.subplots(1,1,figsize=(6,6))\n",
    "    im = ax.imshow(u, cmap=plt.get_cmap(colormap),\n",
    "                   vmin = 0.2, vmax = 1,\n",
    "                   interpolation='bicubic',\n",
    "                   extent=[-1, 1, -1, 1], alpha=0.8)\n",
    "    ax.tick_params(labelsize=14)\n",
    "    ax.set_xlim(-1,1); ax.set_ylim(-1,1)\n",
    "    ax.axis('off')\n",
    "    ax.grid(False)\n",
    "    \n",
    "    # return handles to figure, axis, and image\n",
    "    return fig, ax, im\n",
    "\n",
    "def animate_pattern(out, colormap='twilight'):\n",
    "    '''\n",
    "    Animate the concentration over time.\n",
    "    out - 3d array of frames.\n",
    "    colormap - an optional specification for a colormap to use.\n",
    "    '''\n",
    "    frames = out.shape[-1]\n",
    "    fig, ax, im = plot_pattern(out[:,:,0], colormap)\n",
    "\n",
    "    def animate(i):\n",
    "        '''Plot updates for animation.'''\n",
    "        im.set_array(out[:,:,i])\n",
    "        return im,\n",
    "\n",
    "    ani = animation.FuncAnimation(fig, animate, frames=frames, interval=100, blit=True)\n",
    "    plt.close(fig)\n",
    "    return ani"
   ]
  },
  {
   "cell_type": "markdown",
   "metadata": {
    "id": "FDUJb4MUW5XA"
   },
   "source": [
    "The initialization of our system requires preparing two $N\\times N$ grids: one for the concentration $u$ of the first species, and the other the concentration $v$ of the second species. We will use a built-in function ```binary_blobs``` which generates a binary image of random, blob-like structures. Where our image is 1, we will initialize $u$ to $0.5$, and to $1$ otherwise. Where our image is 1, we will initialize $v$ to $0.25$, and to $0$ otherwise. Optionally, we also provide an argument to invert the background; instead of a $U$-dominant background, we have $V$-dominant instead. Some patterns can only be realized with this type of initialization."
   ]
  },
  {
   "cell_type": "code",
   "execution_count": null,
   "metadata": {
    "id": "Fb25qEpy-iEu"
   },
   "outputs": [],
   "source": [
    "def init_blobs(N, inverse=False):\n",
    "    '''Initialize values of a two-component system randomly.'''\n",
    "    mask = binary_blobs(N, blob_size_fraction=0.1, volume_fraction=0.2)\n",
    "    if inverse:\n",
    "        u = np.zeros((N,N)); u[mask] = 0.5\n",
    "        v = np.ones((N,N)); v[mask] = 0.25\n",
    "    else:\n",
    "        u = np.ones((N,N)); u[mask] = 0.5\n",
    "        v = np.zeros((N,N)); v[mask] = 0.25\n",
    "    return u, v"
   ]
  },
  {
   "cell_type": "markdown",
   "metadata": {
    "id": "HDNB0LRwW8gU"
   },
   "source": [
    "Let's plot an example of the initial state. Note that you can change the color palette used for plotting by changing the ```colormap``` argument in ```plot_pattern``` below to the name of one of these [colormaps](https://matplotlib.org/stable/tutorials/colors/colormaps.html)."
   ]
  },
  {
   "cell_type": "code",
   "execution_count": null,
   "metadata": {
    "id": "wh4umcoC-kZC"
   },
   "outputs": [],
   "source": [
    "# initialize\n",
    "N = 128\n",
    "u, v = init_blobs(N)\n",
    "\n",
    "# plot the u-component\n",
    "fig, ax, im = plot_pattern(u, colormap='twilight');"
   ]
  },
  {
   "cell_type": "markdown",
   "metadata": {
    "id": "1lpsa6lYXAoq"
   },
   "source": [
    "On a 2D grid, we can discretize the Laplacian of each species concentration, for example $\\nabla^2u$, as follows:\n",
    "\n",
    "$$\n",
    "\\nabla^2u_{i,j} \\approx \\frac{-4u_{i,j}+u_{i+1,j}+u_{i-1,j}+u_{i,j+1}+u_{i,j-1}}{h^2}\n",
    "$$\n",
    "\n",
    "where $h$ is the lattice spacing. We'll use a square domain on $[-1,1]\\times [-1,1]$ discretized into $N\\times N$ grid points with periodic boundaries; thus our spacing is given by $h=2/N$.\n",
    "\n",
    "You'll notice that the sum of the coefficients of the discrete Laplacian is zero. This enforces mass conservation; since the Laplacian of the concentration is proportional to the rate of inflow or outflow from any point in space, the outflow from any given point must equal the sum of inflow contributions that point makes to any of its neighbors. \n",
    "\n",
    "Since we'll need to perform two Laplace operations at each integration step, one for each species concentration, we will write a general function for the Laplace operator that can be repurposed several times."
   ]
  },
  {
   "cell_type": "code",
   "execution_count": null,
   "metadata": {
    "id": "MfreAL3p-mbn"
   },
   "outputs": [],
   "source": [
    "# Compute the Laplacian over a 2D grid.\n",
    "def laplacian2D(u, N):\n",
    "    '''Compute the Laplacian of concentration.\n",
    "    u - an array of concentrations.\n",
    "    N - the system size in each dimension (2D).\n",
    "    '''    \n",
    "    h = 2./N\n",
    "    h2i = 1./(h*h)\n",
    "    lap = (-4*u + np.roll(u,1,axis=0) \\\n",
    "                + np.roll(u,-1,axis=0) \\\n",
    "                + np.roll(u,1,axis=1) \\\n",
    "                + np.roll(u,-1,axis=1))*h2i\n",
    "    return lap"
   ]
  },
  {
   "cell_type": "markdown",
   "metadata": {
    "id": "MTLuey1NXF6n"
   },
   "source": [
    "Our original set of equations is a system of PDEs, but by discretizing the spatial dimensions on an $N\\times N$ grid, we convert our system to a set of ODEs with time as the continuous integration variable. The Gray-Scott system of ODEs is defined in the function ```gray_scott``` below."
   ]
  },
  {
   "cell_type": "code",
   "execution_count": null,
   "metadata": {
    "id": "wPWkc0sW-qeC"
   },
   "outputs": [],
   "source": [
    "def gray_scott(t, q, N, Du, Dv, f, k):\n",
    "    '''Spatially discretized PDE for the Gray-Scott reaction-diffusion system.\n",
    "        t - the current time.\n",
    "        q - a linear array of concentrations u and v.\n",
    "        N - the system size in each dimension.\n",
    "        Du, Dv - the diffusion constants.\n",
    "        f - the feed rate.\n",
    "        k - the kill rate.\n",
    "    '''\n",
    "    u, v = q[:N*N].reshape(N,N), q[N*N:].reshape(N,N) # unpack the species concentrations\n",
    "    \n",
    "    # compute the Laplacians.\n",
    "    Lu = laplacian2D(u, N)\n",
    "    Lv = laplacian2D(v, N)\n",
    "\n",
    "    du = Du*Lu - u*v*v + f*(1 - u)\n",
    "    dv = Dv*Lv + u*v*v - (f + k)*v\n",
    "    \n",
    "    dq = np.zeros(2*N*N)\n",
    "    dq[:N*N], dq[N*N:] = du.ravel(), dv.ravel()\n",
    "    return dq"
   ]
  },
  {
   "cell_type": "markdown",
   "metadata": {
    "id": "lIU1qMFqX2sc"
   },
   "source": [
    "Finally, the function ```solve``` integrates the ODEs using the function ```solve_ivp``` from the Python ```scipy``` library."
   ]
  },
  {
   "cell_type": "code",
   "execution_count": null,
   "metadata": {
    "id": "4hMUy772-vDB"
   },
   "outputs": [],
   "source": [
    "def solve(fun, ti, tf, nt, qi, args):\n",
    "    '''\n",
    "    fun - the function to integrate\n",
    "    ti, tf - starting and ending integration times.\n",
    "    nt - number of equally spaced output points on [ti, tf].\n",
    "    qi - initial conditions [u, v].\n",
    "    args - tuple of model parameters (Du, Dv, a, b, c).\n",
    "    rtol, atol - tolerance for tuning the accuracy of the solver.\n",
    "    '''\n",
    "    u, v = qi                           # unpack initial components\n",
    "    N = len(u)                          # extract grid dimension\n",
    "    t_eval = np.linspace(ti, tf, nt)    # evaluation points\n",
    "    Du, Dv, f, k = args                 # unpack extra arguments\n",
    "    \n",
    "    start_time = time.time()            # time the integration\n",
    "    \n",
    "    # integrate the differential equation using finite differences\n",
    "    sol = solve_ivp(lambda t, y: fun(t, y, N, Du, Dv, f, k), [ti, tf], \n",
    "                    np.hstack([u.ravel(), v.ravel()]), t_eval=t_eval, method='RK23')\n",
    "    u = sol.y[:N*N,:].reshape(N,N,len(t_eval))\n",
    "    \n",
    "    # print elapsed time\n",
    "    print('elapsed time (s): ', time.time() - start_time)\n",
    "    \n",
    "    return u"
   ]
  },
  {
   "cell_type": "code",
   "execution_count": null,
   "metadata": {
    "id": "IF1sPz5s-xbw"
   },
   "outputs": [],
   "source": [
    "# parameters\n",
    "Du = 2e-5\n",
    "Dv = 1e-5\n",
    "f = 0.058\n",
    "k = 0.065\n",
    "\n",
    "ti = 0\n",
    "tf = 6000\n",
    "frames = 100\n",
    "\n",
    "# solve\n",
    "out = solve(gray_scott, ti, tf, frames, [u, v], args = (Du, Dv, f, k))\n",
    "fig, ax, im = plot_pattern(out[:,:,-1], colormap='twilight');"
   ]
  },
  {
   "cell_type": "code",
   "execution_count": null,
   "metadata": {
    "id": "MezAwJC8-0um"
   },
   "outputs": [],
   "source": [
    "# create animation\n",
    "ani = animate_pattern(out)\n",
    "HTML(ani.to_html5_video())"
   ]
  },
  {
   "cell_type": "markdown",
   "metadata": {
    "id": "pVpq5k5dX7wC"
   },
   "source": [
    "With our integration routine set up, let's explore some of the varied patterns of the Gray-Scott system using an interactive widget. The following widget features some presets of feed and kill rates to try as starting points."
   ]
  },
  {
   "cell_type": "code",
   "execution_count": null,
   "metadata": {
    "id": "TbdH7UyW-3lf"
   },
   "outputs": [],
   "source": [
    "@widgets.interact_manual(presets = ['puffs','stripes','cells','worms','bubbles'])\n",
    "def interactive_menu_plot(presets='puffs'):\n",
    "    h = display(display_id=True)\n",
    "    puffs = [0.010, 0.047]\n",
    "    stripes = [0.030, 0.057]\n",
    "    cells = [0.026, 0.061]\n",
    "    worms = [0.058, 0.065]\n",
    "    bubbles = [0.090, 0.059]\n",
    "    \n",
    "    inverse=False\n",
    "    if presets in ['bubbles']:\n",
    "        inverse=True\n",
    "    \n",
    "    # get parameters\n",
    "    f, k = eval(presets)\n",
    "    Du = 2e-5\n",
    "    Dv = 1e-5\n",
    "    \n",
    "    # initialize u and v\n",
    "    N = 128\n",
    "    u, v = init_blobs(N, inverse)\n",
    "    \n",
    "    # solve\n",
    "    ti = 0\n",
    "    tf = 6000\n",
    "    frames = 100\n",
    "    out = solve(gray_scott, ti, tf, frames, [u, v], args = (Du, Dv, f, k))\n",
    "\n",
    "    # create animation\n",
    "    print('creating animation...')\n",
    "    ani = animate_pattern(out, colormap='twilight')\n",
    "\n",
    "    # display animation\n",
    "    h.display(HTML(ani.to_html5_video()))"
   ]
  },
  {
   "cell_type": "markdown",
   "metadata": {
    "id": "AbRaAKEDX_Lr"
   },
   "source": [
    "To more flexibly vary the model parameters, the widget below provides sliders for the feed and kill rates."
   ]
  },
  {
   "cell_type": "code",
   "execution_count": null,
   "metadata": {
    "id": "X-UqhgduDOVa"
   },
   "outputs": [],
   "source": [
    "feed_slider = widgets.FloatSlider(\n",
    "    value=0.03, min=0.01, max=0.1, step=0.001,\n",
    "    description='Feed rate:', readout_format='.3f',)\n",
    "kill_slider = widgets.FloatSlider(\n",
    "    value=0.057, min=0.04, max=0.07, step=0.001,\n",
    "    description='Kill rate:', readout_format='.3f',)\n",
    "\n",
    "@widgets.interact_manual(f=feed_slider, k=kill_slider, inverse=['True', 'False'])\n",
    "def interactive_slider_plot(f=0.03, k=0.057, inverse='False'):\n",
    "    h = display(display_id=True)\n",
    "\n",
    "    # initialize u and v\n",
    "    N = 128\n",
    "    u, v = init_blobs(N, eval(inverse))\n",
    "    \n",
    "    # solve\n",
    "    Du = 2e-5\n",
    "    Dv = 1e-5\n",
    "    ti = 0\n",
    "    tf = 6000\n",
    "    frames = 100\n",
    "    out = solve(gray_scott, ti, tf, frames, [u, v], args = (Du, Dv, f, k))\n",
    "    \n",
    "    # create animation\n",
    "    print('creating animation...')\n",
    "    ani = animate_pattern(out, colormap='twilight')\n",
    "\n",
    "    # display animation\n",
    "    h.display(HTML(ani.to_html5_video()))"
   ]
  },
  {
   "cell_type": "markdown",
   "metadata": {
    "id": "Qpou7acqYCnP"
   },
   "source": [
    "We can also seed the reaction with an image! A number of different silhouettes are provided in the Github repository."
   ]
  },
  {
   "cell_type": "code",
   "execution_count": null,
   "metadata": {},
   "outputs": [],
   "source": [
    "!git clone https://github.com/gvarnavi/generative-art-iap.git\n",
    "%cd generative-art-iap/01.28-Friday"
   ]
  },
  {
   "cell_type": "code",
   "execution_count": null,
   "metadata": {},
   "outputs": [],
   "source": [
    "# print contents\n",
    "%ls icons"
   ]
  },
  {
   "cell_type": "code",
   "execution_count": null,
   "metadata": {},
   "outputs": [],
   "source": [
    "import cv2\n",
    "\n",
    "# convert a black and white image to a mask, resizing as necessary.\n",
    "def init_image(N, image, inverse=False):\n",
    "    '''Initialize values of a two-component system on a custom pattern.'''\n",
    "    mask = imread(\"icons/\"+image+\".png\", as_gray=True)\n",
    "    m, n = mask.shape\n",
    "    scale = 128./min(m,n)\n",
    "    width = int(n*scale)\n",
    "    height = int(m*scale)\n",
    "    dim = (width, height)\n",
    "    mask = cv2.resize(mask, dim)\n",
    "    m, n = mask.shape\n",
    "    mask = mask[m//2-N//2:m//2+N//2,n//2-N//2:n//2+N//2]\n",
    "    mask[mask > 0] = 1\n",
    "    mask = np.logical_not(mask)\n",
    "\n",
    "    # initialize concentrations\n",
    "    if inverse:\n",
    "        u = np.zeros((N,N)); u[mask] = 0.5\n",
    "        v = np.ones((N,N)); v[mask] = 0.25\n",
    "    else:\n",
    "        u = np.ones((N,N)); u[mask] = 0.5\n",
    "        v = np.zeros((N,N)); v[mask] = 0.25\n",
    "    return u, v"
   ]
  },
  {
   "cell_type": "code",
   "execution_count": null,
   "metadata": {},
   "outputs": [],
   "source": [
    "# initialize u and v based on seed image\n",
    "N = 128\n",
    "u, v = init_image(N, 'dinosaur')\n",
    "plot_pattern(u, colormap='twilight');\n",
    "plt.show()"
   ]
  },
  {
   "cell_type": "code",
   "execution_count": null,
   "metadata": {
    "id": "78ZTbws_EIMX"
   },
   "outputs": [],
   "source": [
    "# set parameters\n",
    "Du = 2e-5\n",
    "Dv = 1e-5\n",
    "f = 0.0545\n",
    "k = 0.062\n",
    "\n",
    "ti = 0\n",
    "tf = 6000\n",
    "frames = 100\n",
    "\n",
    "# solve\n",
    "out = solve(gray_scott, ti, tf, frames, [u, v], args = (Du, Dv, f, k))\n",
    "fig, ax, im = plot_pattern(out[:,:,-1], colormap='twilight');"
   ]
  },
  {
   "cell_type": "code",
   "execution_count": null,
   "metadata": {
    "id": "0fbbNlS4RsQU"
   },
   "outputs": [],
   "source": [
    "# create animation\n",
    "ani = animate_pattern(out, colormap='twilight')\n",
    "\n",
    "# display animation\n",
    "HTML(ani.to_html5_video())"
   ]
  }
 ],
 "metadata": {
  "colab": {
   "authorship_tag": "ABX9TyOUCNn6ubKju+F79vC4JW85",
   "collapsed_sections": [],
   "include_colab_link": true,
   "name": "01_reaction-diffusion-systems-py.ipynb",
   "provenance": []
  },
  "kernelspec": {
   "display_name": "Python 3",
   "language": "python",
   "name": "python3"
  },
  "language_info": {
   "codemirror_mode": {
    "name": "ipython",
    "version": 3
   },
   "file_extension": ".py",
   "mimetype": "text/x-python",
   "name": "python",
   "nbconvert_exporter": "python",
   "pygments_lexer": "ipython3",
   "version": "3.8.3"
  }
 },
 "nbformat": 4,
 "nbformat_minor": 1
}
