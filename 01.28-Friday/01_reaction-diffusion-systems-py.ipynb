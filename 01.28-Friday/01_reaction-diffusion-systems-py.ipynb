{
 "cells": [
  {
   "cell_type": "markdown",
   "metadata": {
    "colab_type": "text",
    "id": "view-in-github"
   },
   "source": [
    "[![Open In Colab](https://colab.research.google.com/assets/colab-badge.svg)](http://colab.research.google.com/github/gvarnavi/generative-art-iap/blob/master/01.28-Friday/01_reaction-diffusion-systems-py.ipynb)"
   ]
  },
  {
   "cell_type": "markdown",
   "metadata": {
    "id": "98cyHVgqWlLn"
   },
   "source": [
    "# Gray-Scott Model of Reaction Diffusion\n",
    "\n",
    "The Gray-Scott model of a reaction diffusion system with two interacting species $U$ and $V$ is given by:\n",
    "$$\n",
    "\\begin{align}\n",
    "\\frac{\\partial{u}}{\\partial{t}} &= D_u\\nabla^2u - uv^2 + f(1-u) \\\\\n",
    "\\frac{\\partial{v}}{\\partial{t}} &= D_v\\nabla^2v + uv^2 - (f+k)v\n",
    "\\end{align}\n",
    "$$\n",
    "\n",
    "where $u$ and $v$ represent the concentrations of the two species $U$ and $V$, respectively, $D_u$ and $D_v$ their respective diffusion constants, and $f$ and $k$ the feed rate and kill rate, respectively. $\\nabla^2$ is the Laplace operator, which in this two-dimensional problem is given by:\n",
    "\n",
    "$$ \\nabla^2 = \\frac{\\partial^2}{\\partial x^2} + \\frac{\\partial^2}{\\partial y^2}.$$\n",
    "\n",
    "For different parameter choices, this model can producing very diverse patterns which mimic patterns found in nature, such as spots and stripes. At the microscopic level, two chemical reactions govern the system above:\n",
    "\n",
    "$$\n",
    "\\begin{align}\n",
    "U + 2V &\\rightarrow 3V \\\\\n",
    "V &\\rightarrow P\n",
    "\\end{align}\n",
    "$$\n",
    "\n",
    "where $P$ represents an inert product which depletes the amount of $V$ present. Our goal will be to explore the variety of interesting visual patterns this simple yet rich interacting system can exhibit. For reference, the following website offers an interactive look into the phase diagram spanned by the $f$ and $k$ parameters: [Reaction-Diffusion by the Gray-Scott Model: Pearson's Parametrization](http://mrob.com/pub/comp/xmorphia/index.html).\n",
    "\n",
    "\n",
    "We'll start by importing the necessary libraries:"
   ]
  },
  {
   "cell_type": "code",
   "execution_count": null,
   "metadata": {
    "id": "qI18ILff-Ne-"
   },
   "outputs": [],
   "source": [
    "import numpy as np\n",
    "import matplotlib.pyplot as plt\n",
    "import matplotlib.animation as animation\n",
    "import time\n",
    "import ipywidgets as widgets\n",
    "from skimage.data import binary_blobs, checkerboard\n",
    "from skimage.io import imread\n",
    "from scipy.signal import convolve2d\n",
    "from scipy.integrate import solve_ivp\n",
    "from IPython.display import HTML, display"
   ]
  },
  {
   "cell_type": "markdown",
   "metadata": {
    "id": "6TSoE3PAWqFu"
   },
   "source": [
    "Below, we define two functions which we will use to format and make plots and animations."
   ]
  },
  {
   "cell_type": "code",
   "execution_count": null,
   "metadata": {
    "id": "bbqs4TMD-WY1"
   },
   "outputs": [],
   "source": [
    "def plot_pattern(u, colormap='twilight'):\n",
    "    '''Plot the concentration as a color image.\n",
    "    u - grid of concentrations of one species.\n",
    "    colormap - an optional specification for a colormap to use.\n",
    "    '''\n",
    "    fig, ax = plt.subplots(1,1,figsize=(6,6))\n",
    "    im = ax.imshow(u, cmap=plt.get_cmap(colormap),\n",
    "                   vmin = 0.3, vmax = 1,\n",
    "                   interpolation='bicubic',\n",
    "                   extent=[-1, 1, -1, 1], alpha=0.8)\n",
    "    ax.tick_params(labelsize=14)\n",
    "    ax.set_xlim(-1,1); ax.set_ylim(-1,1)\n",
    "    ax.axis('off')\n",
    "    ax.grid(False)\n",
    "    \n",
    "    # return handles to figure, axis, and image\n",
    "    return fig, ax, im\n",
    "\n",
    "def animate_pattern(out, colormap='twilight'):\n",
    "    '''\n",
    "    Animate the concentration over time.\n",
    "    out - 3d array of frames.\n",
    "    colormap - an optional specification for a colormap to use.\n",
    "    '''\n",
    "    frames = out.shape[-1]\n",
    "    fig, ax, im = plot_pattern(out[:,:,0], colormap)\n",
    "\n",
    "    def animate(i):\n",
    "        '''Plot updates for animation.'''\n",
    "        im.set_array(out[:,:,i])\n",
    "        return im,\n",
    "\n",
    "    ani = animation.FuncAnimation(fig, animate, frames=frames, interval=50, blit=True)\n",
    "    plt.close(fig)\n",
    "    return ani"
   ]
  },
  {
   "cell_type": "markdown",
   "metadata": {
    "id": "FDUJb4MUW5XA"
   },
   "source": [
    "The initialization of our system requires preparing two $N\\times N$ grids: one for the concentration $u$ of the first species, and the other the concentration $v$ of the second species. We will use a built-in function ```binary_blobs``` which generates a binary image of random, blob-like structures. Where our image is 1, we will initialize $u$ to $0.5$, and to $1$ otherwise. Where our image is 1, we will initialize $v$ to $0.25$, and to $0$ otherwise."
   ]
  },
  {
   "cell_type": "code",
   "execution_count": null,
   "metadata": {
    "id": "Fb25qEpy-iEu"
   },
   "outputs": [],
   "source": [
    "def init_blobs(N, seed=12):\n",
    "    '''Initialize values of a two-component system randomly.'''\n",
    "    np.random.seed(seed)\n",
    "    mask = binary_blobs(N, blob_size_fraction=0.1, volume_fraction=0.3, seed=seed)\n",
    "    u = np.ones((N,N)); u[mask] = 0.5\n",
    "    v = np.zeros((N,N)); v[mask] = 0.25\n",
    "    return u, v"
   ]
  },
  {
   "cell_type": "markdown",
   "metadata": {
    "id": "HDNB0LRwW8gU"
   },
   "source": [
    "Let's plot an example of the initial state. Note that you can change the color palette used for plotting by changing the ```colormap``` argument in ```plot_pattern``` below to the name of one of these [colormaps](https://matplotlib.org/3.1.0/tutorials/colors/colormaps.html)."
   ]
  },
  {
   "cell_type": "code",
   "execution_count": null,
   "metadata": {
    "id": "wh4umcoC-kZC"
   },
   "outputs": [],
   "source": [
    "# initialize\n",
    "N = 100\n",
    "u, v = init_blobs(N, seed=12)\n",
    "\n",
    "# plot the u-component\n",
    "fig, ax, im = plot_pattern(u, colormap='twilight');"
   ]
  },
  {
   "cell_type": "markdown",
   "metadata": {
    "id": "1lpsa6lYXAoq"
   },
   "source": [
    "We can discretize the Laplace operator $\\nabla^2$ using a 2D convolution operation with the kernel:\n",
    "\n",
    "$$\n",
    "\\begin{bmatrix}\n",
    "0.05 & 0.2 & 0.05 \\\\\n",
    "0.2 & -1 & 0.2 \\\\\n",
    "0.05 & 0.2 & 0.05\n",
    "\\end{bmatrix}\n",
    "$$\n",
    "\n",
    "You'll notice that the sum over all values of the discrete Laplacian is zero. This enforces mass conservation; since the Laplacian of the concentration is proportional to the rate of inflow or outflow from any point in space, the outflow from any given point must equal the sum of inflow contributions that point makes to any of its neighbors. \n",
    "\n",
    "Since we'll need to perform two Laplace operations at each integration step, one for each species concentration, we will write a general function for the Laplace operator that can be repurposed several times."
   ]
  },
  {
   "cell_type": "code",
   "execution_count": null,
   "metadata": {
    "id": "MfreAL3p-mbn"
   },
   "outputs": [],
   "source": [
    "# use convolution to compute the Laplacian.\n",
    "def laplacian2D(u, N):\n",
    "    '''Compute the Laplacian of concentration.\n",
    "    u - a linear array of concentrations (linear for compatibility with solver).\n",
    "    N - the system size in each dimension (2D).\n",
    "    '''    \n",
    "    kernel = np.array([[0.05,0.2,0.05],\n",
    "                       [0.2,-1,0.2],\n",
    "                       [0.05,0.2,0.05]])\n",
    "\n",
    "    lap = convolve2d(u.reshape((N,N)), kernel,\n",
    "                     mode = 'same',\n",
    "                     boundary = 'wrap') # periodic boundaries\n",
    "    return lap.ravel()"
   ]
  },
  {
   "cell_type": "code",
   "execution_count": null,
   "metadata": {
    "id": "tmWXpWL8-ouX"
   },
   "outputs": [],
   "source": [
    "Lu = laplacian2D(u, N)\n",
    "print(Lu)"
   ]
  },
  {
   "cell_type": "markdown",
   "metadata": {
    "id": "MTLuey1NXF6n"
   },
   "source": [
    "Our original set of equations is a system of PDEs, but by discretizing the spatial dimensions on an $N\\times N$ grid, we convert our system to a set of ODEs with time as the continuous integration variable. The Gray-Scott system of ODEs is defined in the function ```gray_scott``` below."
   ]
  },
  {
   "cell_type": "code",
   "execution_count": null,
   "metadata": {
    "id": "wPWkc0sW-qeC"
   },
   "outputs": [],
   "source": [
    "def gray_scott(t, q, N, Du, Dv, f, k):\n",
    "    '''Spatially discretized PDE for the Gray-Scott reaction-diffusion system.\n",
    "        t - the current time.\n",
    "        q - a linear array of concentrations u and v.\n",
    "        N - the system size in each dimension.\n",
    "        Du, Dv - the diffusion constants.\n",
    "        f - the feed rate.\n",
    "        k - the kill rate.\n",
    "    '''\n",
    "    u, v = q[:N*N], q[N*N:] # unpack the species concentrations\n",
    "    dq = np.zeros(2*N*N)\n",
    "    \n",
    "    # compute the Laplacians.\n",
    "    Lu = laplacian2D(u, N)\n",
    "    Lv = laplacian2D(v, N)\n",
    "\n",
    "    du = Du*Lu - u*v*v + f*(1 - u)\n",
    "    dv = Dv*Lv + u*v*v - (f + k)*v\n",
    "    \n",
    "    dq[:N*N], dq[N*N:] = du, dv\n",
    "    return dq"
   ]
  },
  {
   "cell_type": "code",
   "execution_count": null,
   "metadata": {
    "id": "dgnpQk4i-tLi"
   },
   "outputs": [],
   "source": [
    "# parameters\n",
    "Du = 0.3\n",
    "Dv = 0.1\n",
    "f = 0.06\n",
    "k = 0.063\n",
    "\n",
    "t = 0\n",
    "q = np.hstack([u.ravel(), v.ravel()])\n",
    "\n",
    "dq = gray_scott(t, q, N, Du, Dv, f, k)\n",
    "print(dq)"
   ]
  },
  {
   "cell_type": "markdown",
   "metadata": {
    "id": "lIU1qMFqX2sc"
   },
   "source": [
    "Finally, the function ```solve``` integrates the ODEs using the function ```solve_ivp``` from the Python ```scipy``` library."
   ]
  },
  {
   "cell_type": "code",
   "execution_count": null,
   "metadata": {
    "id": "4hMUy772-vDB"
   },
   "outputs": [],
   "source": [
    "def solve(fun, ti, tf, nt, qi, args, rtol=1e-6, atol=1e-6):\n",
    "    '''\n",
    "    fun - the function to integrate\n",
    "    ti, tf - starting and ending integration times.\n",
    "    nt - number of equally spaced output points on [ti, tf].\n",
    "    qi - initial conditions [u, v].\n",
    "    args - tuple of model parameters (Du, Dv, a, b, c).\n",
    "    rtol, atol - tolerance for tuning the accuracy of the solver.\n",
    "    '''\n",
    "    u, v = qi                           # unpack initial components\n",
    "    N = len(u)                          # extract grid dimension\n",
    "    t_eval = np.linspace(ti, tf, nt)    # evaluation points\n",
    "    Du, Dv, f, k = args                 # unpack extra arguments\n",
    "    \n",
    "    start_time = time.time()            # time the integration\n",
    "    \n",
    "    # integrate the differential equation using finite differences\n",
    "    sol = solve_ivp(lambda t, y: fun(t, y, N, Du, Dv, f, k), [ti, tf], np.hstack([u.ravel(), v.ravel()]),\n",
    "                    t_eval=t_eval, rtol=rtol, atol=atol, method='RK23')\n",
    "    u = sol.y[:N*N,:].reshape(N,N,len(t_eval))\n",
    "    \n",
    "    # print elapsed time\n",
    "    print('elapsed time (s): ', time.time() - start_time)\n",
    "    \n",
    "    return u"
   ]
  },
  {
   "cell_type": "code",
   "execution_count": null,
   "metadata": {
    "id": "IF1sPz5s-xbw"
   },
   "outputs": [],
   "source": [
    "ti = 0\n",
    "tf = 3000\n",
    "frames = 100\n",
    "\n",
    "# solve\n",
    "out = solve(gray_scott, ti, tf, frames, [u, v], args = (Du, Dv, f, k))\n",
    "fig, ax, im = plot_pattern(out[:,:,-1], colormap='twilight');"
   ]
  },
  {
   "cell_type": "code",
   "execution_count": null,
   "metadata": {
    "id": "MezAwJC8-0um"
   },
   "outputs": [],
   "source": [
    "# create animation\n",
    "ani = animate_pattern(out, colormap='twilight')\n",
    "HTML(ani.to_html5_video())"
   ]
  },
  {
   "cell_type": "markdown",
   "metadata": {
    "id": "pVpq5k5dX7wC"
   },
   "source": [
    "With our integration routine set up, let's explore some of the varied patterns of the Gray-Scott system using an interactive widget. Use the slider to explore the resulting phases when varying the ratio of diffusion constants $D_u/D_v$, and the feed and kill rates (some presets and the descriptions of their phases are given as guidance)."
   ]
  },
  {
   "cell_type": "code",
   "execution_count": null,
   "metadata": {
    "id": "TbdH7UyW-3lf"
   },
   "outputs": [],
   "source": [
    "diffusion_slider = widgets.FloatSlider(\n",
    "    value=2., min=2., max=4., step=0.1,\n",
    "    description='Du/Dv:', readout_format='.1f')\n",
    "\n",
    "@widgets.interact_manual(d=diffusion_slider,\n",
    "                         presets = ['1. f=0.06, k=0.063',\n",
    "                                    '2. f=0.02, k=0.048',\n",
    "                                    '3. f=0.041, k=0.057',\n",
    "                                    '4. f=0.02, k=0.057'])\n",
    "def interactive_menu_plot(d=4, presets='1. f=0.06, k=0.063'):\n",
    "    h = display(display_id=True)\n",
    "    \n",
    "    params = [[0.06, 0.063], # blocky maze\n",
    "              [0.02, 0.048], # rounded maze\n",
    "              [0.041, 0.057],# bubbles\n",
    "              [0.02, 0.057]] # cell division\n",
    "\n",
    "    \n",
    "    # get parameters\n",
    "    f, k = params[eval(presets[0])-1]\n",
    "    Du = 0.3\n",
    "    Dv = Du/d\n",
    "    \n",
    "    # initialize u and v\n",
    "    N = 100\n",
    "    u, v = init_blobs(N, seed=12)\n",
    "    \n",
    "    # solve\n",
    "    ti = 0\n",
    "    tf = int(10000/d)\n",
    "    frames = 100\n",
    "    out = solve(gray_scott, ti, tf, frames, [u, v], args = (Du, Dv, f, k))\n",
    "\n",
    "    # create animation\n",
    "    print('creating animation...')\n",
    "    ani = animate_pattern(out, colormap='twilight')\n",
    "\n",
    "    # display animation\n",
    "    h.display(HTML(ani.to_html5_video()))"
   ]
  },
  {
   "cell_type": "markdown",
   "metadata": {
    "id": "AbRaAKEDX_Lr"
   },
   "source": [
    "To more flexibly vary the model parameters, the widget below provides sliders for the feed and kill rates. You can use the above presets as starting points for finding your own patterns!"
   ]
  },
  {
   "cell_type": "code",
   "execution_count": null,
   "metadata": {
    "id": "X-UqhgduDOVa"
   },
   "outputs": [],
   "source": [
    "diffusion_slider = widgets.FloatSlider(\n",
    "    value=3., min=2., max=4., step=0.1,\n",
    "    description='Du/Dv:', readout_format='.1f')\n",
    "feed_slider = widgets.FloatSlider(\n",
    "    value=0.03, min=0.005, max=0.06, step=0.001,\n",
    "    description='Feed rate:', readout_format='.3f',)\n",
    "kill_slider = widgets.FloatSlider(\n",
    "    value=0.065, min=0.015, max=0.075, step=0.001,\n",
    "    description='Kill rate:', readout_format='.3f',)\n",
    "\n",
    "@widgets.interact_manual(\n",
    "    d=diffusion_slider, f=feed_slider, k=kill_slider)\n",
    "def interactive_slider_plot(d=3., f=0.045, k=0.063):\n",
    "    h = display(display_id=True)\n",
    "    \n",
    "    Du = 0.3\n",
    "    Dv = Du/d\n",
    "    \n",
    "    # initialize u and v\n",
    "    N = 100\n",
    "    u, v = init_blobs(N, seed=12)\n",
    "    \n",
    "    # solve\n",
    "    ti = 0\n",
    "    tf = int(10000/d)\n",
    "    frames = 100\n",
    "    out = solve(gray_scott, ti, tf, frames, [u, v], args = (Du, Dv, f, k))\n",
    "    \n",
    "    # create animation\n",
    "    print('creating animation...')\n",
    "    ani = animate_pattern(out, colormap='twilight')\n",
    "\n",
    "    # display animation\n",
    "    h.display(HTML(ani.to_html5_video()))"
   ]
  },
  {
   "cell_type": "markdown",
   "metadata": {
    "id": "Qpou7acqYCnP"
   },
   "source": [
    "Use the following three cells to manually vary any of the parameters, and then display and optionally save an animation of the result."
   ]
  },
  {
   "cell_type": "code",
   "execution_count": null,
   "metadata": {
    "id": "78ZTbws_EIMX"
   },
   "outputs": [],
   "source": [
    "# set parameters\n",
    "Du = 0.3\n",
    "Dv = 0.1\n",
    "f = 0.06\n",
    "k = 0.063\n",
    "\n",
    "# initialize u and v\n",
    "N = 100\n",
    "u, v = init_blobs(N, seed=12)\n",
    "plot_pattern(u, colormap='twilight')\n",
    "plt.show()\n",
    "\n",
    "# solve\n",
    "ti = 0\n",
    "tf = 3000\n",
    "frames = 100\n",
    "out = solve(gray_scott, ti, tf, frames, [u, v], args = (Du, Dv, f, k))"
   ]
  },
  {
   "cell_type": "code",
   "execution_count": null,
   "metadata": {
    "id": "0fbbNlS4RsQU"
   },
   "outputs": [],
   "source": [
    "# create animation\n",
    "ani = animate_pattern(out, colormap='twilight')\n",
    "\n",
    "# display animation\n",
    "HTML(ani.to_html5_video())"
   ]
  },
  {
   "cell_type": "code",
   "execution_count": null,
   "metadata": {
    "id": "gnMAGD7KR4os"
   },
   "outputs": [],
   "source": [
    "# save animation as a gif and download\n",
    "ani.save('example.gif', writer='pillow', fps=20)\n",
    "files.download('example.gif')"
   ]
  },
  {
   "cell_type": "markdown",
   "metadata": {
    "id": "k1qD5neEYORU"
   },
   "source": [
    "Let's try seeding the initial image with a different mask."
   ]
  },
  {
   "cell_type": "code",
   "execution_count": null,
   "metadata": {
    "id": "-3FH9K37R-IZ"
   },
   "outputs": [],
   "source": [
    "def init_checkerboard(N):\n",
    "    '''Initialize values of a two-component system on a checkerboard pattern.'''\n",
    "    mask = checkerboard()\n",
    "    \n",
    "    # bin mask\n",
    "    s = [int(np.floor(i/N)) for i in mask.shape]\n",
    "    if min(s)>1:\n",
    "        mask = mask[::s[0],::s[1]]\n",
    "    \n",
    "    # truncate and binarize mask\n",
    "    mask = mask[:N,:N]\n",
    "    mask[mask > 0] = 1\n",
    "    \n",
    "    u = np.ones((N,N)); u[mask.astype(np.bool)] = 0.\n",
    "    v = np.zeros((N,N)); v[mask.astype(np.bool)] = 1.\n",
    "    return u, v"
   ]
  },
  {
   "cell_type": "code",
   "execution_count": null,
   "metadata": {
    "id": "3LZnzZXaR-90"
   },
   "outputs": [],
   "source": [
    "# set parameters\n",
    "Du = 0.3\n",
    "Dv = 0.1\n",
    "f = 0.06\n",
    "k = 0.063\n",
    "\n",
    "# initialize u and v\n",
    "N = 100\n",
    "u, v = init_checkerboard(N)\n",
    "plot_pattern(u, colormap='twilight');\n",
    "plt.show()\n",
    "\n",
    "# solve\n",
    "ti = 0\n",
    "tf = 3000\n",
    "frames = 100\n",
    "out = solve(gray_scott, ti, tf, frames, [u, v], args = (Du, Dv, f, k))"
   ]
  },
  {
   "cell_type": "code",
   "execution_count": null,
   "metadata": {
    "id": "-s9JwsRiSCNQ"
   },
   "outputs": [],
   "source": [
    "# create animation\n",
    "ani = animate_pattern(out, colormap='twilight')\n",
    "\n",
    "# display animation\n",
    "HTML(ani.to_html5_video())"
   ]
  },
  {
   "cell_type": "markdown",
   "metadata": {
    "id": "35MRSZIDYSLV"
   },
   "source": [
    "Input a link to a custom initial image."
   ]
  },
  {
   "cell_type": "code",
   "execution_count": null,
   "metadata": {
    "id": "SoViajPlSGCR"
   },
   "outputs": [],
   "source": [
    "!wget \"https://i.pinimg.com/originals/9b/0d/32/9b0d32473f19eee6fc7338c76ac3e2be.jpg\"\n",
    "\n",
    "def init_custom(N):\n",
    "    '''Initialize values of a two-component system on a custom pattern.'''\n",
    "    mask = imread('/content/9b0d32473f19eee6fc7338c76ac3e2be.jpg', as_gray=True)\n",
    "    \n",
    "    # bin mask\n",
    "    s = [int(np.floor(i/N)) for i in mask.shape]\n",
    "    if min(s):\n",
    "        mask = mask[::s[0],::s[1]]\n",
    "    \n",
    "    # truncate and binarize mask\n",
    "    mask = mask[:N,:N]\n",
    "    mask[mask > 0] = 1\n",
    "\n",
    "    # initialize concentrations\n",
    "    u = np.ones((N,N)); u[mask.astype(np.bool)] = 0.\n",
    "    v = np.zeros((N,N)); v[mask.astype(np.bool)] = 1.\n",
    "    return u, v"
   ]
  },
  {
   "cell_type": "code",
   "execution_count": null,
   "metadata": {
    "id": "-JJtOc-bSIwa"
   },
   "outputs": [],
   "source": [
    "# set parameters\n",
    "Du = 0.3\n",
    "Dv = 0.1\n",
    "f = 0.06\n",
    "k = 0.063\n",
    "\n",
    "# initialize u and v\n",
    "N = 100\n",
    "u, v = init_custom(N)\n",
    "plot_pattern(u, colormap='twilight');\n",
    "plt.show()\n",
    "\n",
    "# solve\n",
    "ti = 0\n",
    "tf = 3000\n",
    "frames = 100\n",
    "out = solve(gray_scott, ti, tf, frames, [u, v], args = (Du, Dv, f, k))"
   ]
  },
  {
   "cell_type": "code",
   "execution_count": null,
   "metadata": {
    "id": "Z_jqZ_tFSLR3"
   },
   "outputs": [],
   "source": [
    "# create animation\n",
    "ani = animate_pattern(out, colormap='twilight')\n",
    "\n",
    "# display animation\n",
    "HTML(ani.to_html5_video())"
   ]
  },
  {
   "cell_type": "code",
   "execution_count": null,
   "metadata": {
    "id": "o3HklAlzWbRT"
   },
   "outputs": [],
   "source": []
  }
 ],
 "metadata": {
  "colab": {
   "authorship_tag": "ABX9TyOUCNn6ubKju+F79vC4JW85",
   "collapsed_sections": [],
   "include_colab_link": true,
   "name": "01_reaction-diffusion-systems-py.ipynb",
   "provenance": []
  },
  "kernelspec": {
   "display_name": "Python 3",
   "language": "python",
   "name": "python3"
  },
  "language_info": {
   "codemirror_mode": {
    "name": "ipython",
    "version": 3
   },
   "file_extension": ".py",
   "mimetype": "text/x-python",
   "name": "python",
   "nbconvert_exporter": "python",
   "pygments_lexer": "ipython3",
   "version": "3.7.5"
  }
 },
 "nbformat": 4,
 "nbformat_minor": 1
}
