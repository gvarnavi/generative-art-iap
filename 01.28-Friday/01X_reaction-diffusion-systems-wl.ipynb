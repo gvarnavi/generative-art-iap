{
 "cells": [
  {
   "cell_type": "markdown",
   "id": "07ed3993",
   "metadata": {},
   "source": [
    "# Reaction Diffusion Systems"
   ]
  },
  {
   "cell_type": "markdown",
   "id": "2fc6f2fd",
   "metadata": {},
   "source": [
    "The Gray-Scott model of a reaction diffusion system with two interacting species U and V is given by:\n",
    "\n",
    "$$\n",
    "\\begin{aligned}\n",
    "\\frac{\\partial{u}}{\\partial{t}} &= D_u\\nabla^2u - uv^2 + f(1-u) \\\\\n",
    "\\frac{\\partial{v}}{\\partial{t}} &= D_v\\nabla^2v + uv^2 - (f+k)v\n",
    "\\end{aligned}\n",
    "$$\n",
    "\n",
    "where $u$ and $v$ represent the concentrations of the two species $U$ and $V$, respectively, $D_u$ and $D_v$ their respective diffusion constants, and $f$ and $k$ the feed rate and kill rate, respectively. $\\nabla^2$ is the Laplace operator, which in this two-dimensional problem is given by:"
   ]
  },
  {
   "cell_type": "code",
   "execution_count": null,
   "id": "c6d083d1",
   "metadata": {},
   "outputs": [],
   "source": [
    "Laplacian[u[x, y], {x, y}]"
   ]
  },
  {
   "cell_type": "markdown",
   "id": "3158cacf",
   "metadata": {},
   "source": [
    "For different parameter choices, this model can producing very diverse patterns which mimic patterns found in nature, such as spots and stripes.  \n",
    "\n",
    "At the microscopic level, two chemical reactions govern the system above:\n",
    "\n",
    "$$\n",
    "\\begin{aligned}\n",
    "U + 2V &\\rightarrow 3V \\\\\n",
    "V &\\rightarrow P\n",
    "\\end{aligned}\n",
    "$$\n",
    "\n",
    "where $P$ represents an inert product which depletes the amount of $V$ present. Our goal will be to explore the variety of interesting visual patterns this simple yet rich interacting system can exhibit. For reference, the following website offers an interactive look into the phase diagram spanned by the $f$ and $k$ parameters: [Reaction-Diffusion by the Gray-Scott Model: Pearson's Parametrization](http://mrob.com/pub/comp/xmorphia/index.html)."
   ]
  },
  {
   "cell_type": "markdown",
   "id": "8819430f",
   "metadata": {},
   "source": [
    "## Finite Element Method\n",
    "\n",
    "We'll implement this using the finite element method.  \n",
    "This will give us flexibility over the domain and boundary conditions to solver over."
   ]
  },
  {
   "cell_type": "code",
   "execution_count": null,
   "id": "1b85d62b",
   "metadata": {},
   "outputs": [],
   "source": [
    "eqn[\"gray-scott\"][Du_, Dv_, f_, k_] = {\n",
    "    Derivative[1, 0, 0][u][t, x, y] + Inactive[Div][(-Du Inactive[Grad][u[t, x, y], {x, y}]), {x,y}] +\n",
    "       (v[t, x, y]^2 + f) u[t, x, y] == f, \n",
    "    Derivative[1, 0, 0][u][v, x, y] + Inactive[Div][(-Dv Inactive[Grad][v[t, x, y], {x, y}]), {x,y}] +\n",
    "        (-u[t, x, y] v[t, x, y] + f + k) v[t, x, y] == 0\n",
    "    };"
   ]
  },
  {
   "cell_type": "markdown",
   "id": "63bf649e",
   "metadata": {},
   "source": [
    "We need some initial conditions.  \n",
    "E.g. a circular seed of V in a sea of constant U"
   ]
  },
  {
   "cell_type": "code",
   "execution_count": null,
   "id": "310479bd",
   "metadata": {},
   "outputs": [],
   "source": [
    "ics[\"single-seed\"] = {\n",
    "   u[0, x, y] == 1/2,\n",
    "   v[0, x, y] == If[x^2 + y^2 <= 1/40, 1, 0]\n",
    "   };"
   ]
  },
  {
   "cell_type": "markdown",
   "id": "20c9ff3d",
   "metadata": {},
   "source": [
    "We can solve this using fixed (Dirichlet) boundary conditions:"
   ]
  },
  {
   "cell_type": "code",
   "execution_count": null,
   "id": "1dd0e47d",
   "metadata": {},
   "outputs": [],
   "source": [
    "bcs[\"fixed\"] = DirichletCondition[{u[t, x, y] == 0, v[t, x, y] == 0}, True];"
   ]
  },
  {
   "cell_type": "markdown",
   "id": "49c1cf3e",
   "metadata": {},
   "source": [
    "Over a disk domain:"
   ]
  },
  {
   "cell_type": "code",
   "execution_count": null,
   "id": "5741abdd",
   "metadata": {},
   "outputs": [],
   "source": [
    "region[\"disk\"] = Disk[];"
   ]
  },
  {
   "cell_type": "markdown",
   "id": "4b65c192",
   "metadata": {},
   "source": [
    "And solve the pde using the FEM (note: this takes a while):"
   ]
  },
  {
   "cell_type": "code",
   "execution_count": null,
   "id": "093f8560",
   "metadata": {},
   "outputs": [],
   "source": [
    "{ufun[\"gs\", \"single-seed\", \"disk\"], \n",
    "   vfun[\"gs\", \"single-seed\", \"disk\"]} =\n",
    "  NDSolveValue[{eqn[\"gray-scott\"][2 10^-5, 5 10^-6, 1/25, 3/50], \n",
    "    bcs[\"fixed\"], ics[\"single-seed\"]}, {u, v}, {x, y} \\[Element] \n",
    "    region[\"disk\"], {t, 0, 2500}, \n",
    "   Method -> {\"PDEDiscretization\" -> {\"MethodOfLines\", \n",
    "       \"SpatialDiscretization\" -> {\"FiniteElement\", \n",
    "         \"MeshOptions\" -> {\"MaxCellMeasure\" -> 0.0005}}}}];"
   ]
  },
  {
   "cell_type": "markdown",
   "id": "4bb74fb4",
   "metadata": {},
   "source": [
    "We can visualize the evolution of species V:"
   ]
  },
  {
   "cell_type": "code",
   "execution_count": null,
   "id": "a91e84b2",
   "metadata": {},
   "outputs": [],
   "source": [
    "frames[\"gs\", \"single-seed\", \"disk\"] = With[{\n",
    "    vRange =MinMax[vfun[\"gs\", \"single-seed\", \"disk\"][\"ValuesOnGrid\"]], \n",
    "    sol = vfun[\"gs\", \"single-seed\", \"disk\"], reg = region[\"disk\"]},\n",
    "   Table[ContourPlot[sol[t, x, y], {x, y} \\[Element] reg, \n",
    "     PlotRange -> All, Frame -> None, Axes -> None, ColorFunction -> Hue, \n",
    "     Contours -> (Subdivide[#1, #2, 4] & @@ vRange), PlotPoints -> 50,MaxRecursion -> 3], \n",
    "     {t, Subdivide[90, 1930, 23]}]];\n",
    "     \n",
    "Rasterize[Multicolumn[frames[\"gs\", \"single-seed\", \"disk\"], 8, Appearance -> \"Horizontal\"], ImageSize -> 800]"
   ]
  },
  {
   "cell_type": "markdown",
   "id": "97bfd2e3",
   "metadata": {},
   "source": [
    "## Spectral Methods\n",
    "\n",
    "The FEM is appealing because of its generality of domains and boundary conditions. However, the above runs quite slowly..  \n",
    "\n",
    "Here, we implement an alternative spectral method, which will run significantly faster.  \n",
    "**Note:** The code is adapted from initial code by Prof. Craig Carter.\n",
    "\n",
    "First, we setup a finite grid of wave-vectors (dual-lattice vectors for the the domain we wish to solve)"
   ]
  },
  {
   "cell_type": "code",
   "execution_count": null,
   "id": "a5b8b7dd",
   "metadata": {},
   "outputs": [],
   "source": [
    "spectralWavevector[nSize_] := Module[{baseVec},\n",
    "  baseVec = Range[-(1 + 1/nSize), 1, 2/nSize];  \n",
    "  If[EvenQ[nSize],\n",
    "   baseVec = Range[-1, 1/1, 2/nSize];\n",
    "   baseVec = Rest[baseVec];\n",
    "   baseVec = RotateLeft[baseVec, nSize/2 - 1], \n",
    "   \n",
    "   baseVec = Range[-(1 + 1/nSize), 1 + 1/nSize, 2/nSize];\n",
    "   baseVec = Most[Rest[baseVec]];\n",
    "   baseVec = RotateLeft[baseVec, (nSize - 1)/2]\n",
    "   ];\n",
    "  N[Pi] baseVec\n",
    "  ]"
   ]
  },
  {
   "cell_type": "code",
   "execution_count": null,
   "id": "1b96d27e",
   "metadata": {},
   "outputs": [],
   "source": [
    "spectralWavevectorSquared[{nx_Integer, ny_Integer}, preMultiply_ : True] := \n",
    " Module[{kx, ky, kMagnitudeSquared},\n",
    "  kx = If[preMultiply, nx, 1] Transpose[\n",
    "     ConstantArray[spectralWavevector[nx], ny]]; \n",
    "  ky = If[preMultiply, ny, 1] ConstantArray[spectralWavevector[ny], nx]; \n",
    "  kMagnitudeSquared  = kx^2 + ky^2\n",
    "  ]\n",
    "  \n",
    "ArrayPlot[ wavevectors[\"gs\", \"spectral\"] = spectralWavevectorSquared[{256, 256}]]"
   ]
  },
  {
   "cell_type": "markdown",
   "id": "1dc723c3",
   "metadata": {},
   "source": [
    "Next, we formulate our pde in Fourier space:"
   ]
  },
  {
   "cell_type": "code",
   "execution_count": null,
   "id": "1e0725c9",
   "metadata": {},
   "outputs": [],
   "source": [
    "spectralGrayScott[{u_, v_}, {diffU_, diffV_, f_, k_},  dt_][kMagnitudeSquared_] :=\n",
    " Block[\n",
    "  {fourierU = Fourier[u], \n",
    "   fourierV =  Fourier[v],\n",
    "   uvSquared  = u v^2, \n",
    "   fourieruvSquared \n",
    "   },\n",
    "  fourieruvSquared = Fourier[ uvSquared];\n",
    "  {\n",
    "   Re@InverseFourier[(fourierU +  \n",
    "        dt (Fourier[f (1 - u)] - fourieruvSquared))/(1 + \n",
    "        diffU*dt*kMagnitudeSquared)],\n",
    "   Re@InverseFourier[(fourierV + \n",
    "        dt (fourieruvSquared - Fourier[(f + k) v]))/(1 + \n",
    "        diffV*dt*kMagnitudeSquared)]\n",
    "   }\n",
    "  ]"
   ]
  },
  {
   "cell_type": "markdown",
   "id": "65b864c4",
   "metadata": {},
   "source": [
    "We need some initial conditions to solve, Let's start with the simple single-seed as before:"
   ]
  },
  {
   "cell_type": "code",
   "execution_count": null,
   "id": "3533844f",
   "metadata": {},
   "outputs": [],
   "source": [
    "uVals[\"gs\", \"single-seed\", \"spectral\"] = ConstantArray[0.5, {256, 256}];\n",
    "vVals[\"gs\", \"single-seed\", \"spectral\"] = GaussianFilter[DiskMatrix[16, {256, 256}], 4];"
   ]
  },
  {
   "cell_type": "code",
   "execution_count": null,
   "id": "8c3c2c43",
   "metadata": {},
   "outputs": [],
   "source": [
    "storedResult[\"gs\", \"single-seed\", \"spectral\"] =\n",
    "  Reap[Do[\n",
    "     {uVals[\"gs\", \"single-seed\", \"spectral\"], \n",
    "       vVals[\"gs\", \"single-seed\", \"spectral\"]} =\n",
    "      spectralGrayScott[{uVals[\"gs\", \"single-seed\", \"spectral\"], \n",
    "         vVals[\"gs\", \"single-seed\", \"spectral\"]}, {2. 10^-5, 5. 10^-6,\n",
    "          1/25., 3/50.}, 0.5][wavevectors[\"gs\", \"spectral\"]];\n",
    "     If[Mod[t, 165] == 0, \n",
    "      Sow[vVals[\"gs\", \"single-seed\", \"spectral\"]]]\n",
    "     , {t, 1, 4000}]][[2, 1]];"
   ]
  },
  {
   "cell_type": "code",
   "execution_count": null,
   "id": "2f273099",
   "metadata": {},
   "outputs": [],
   "source": [
    "Rasterize[Multicolumn[\n",
    "  ArrayPlot[#, ImageSize -> 200, Frame -> False] & /@ storedResult[\"gs\", \"single-seed\", \"spectral\"], \n",
    "    8,Appearance -> \"Horizontal\"], ImageSize -> 800]"
   ]
  },
  {
   "cell_type": "markdown",
   "id": "f1495b2a",
   "metadata": {},
   "source": [
    "Let's also start with some ink-blobs as initial conditions. We'll use our 'coarse spinodal' CA to generate these. We'll also change our f and k parameters to see 'dots and stripes'"
   ]
  },
  {
   "cell_type": "code",
   "execution_count": null,
   "id": "1e5e9922",
   "metadata": {},
   "outputs": [],
   "source": [
    "randomInkBlob[{nx_, ny_}, iterations_ : 100] :=\n",
    " Module[{rule = {976, {2, 1}, {1, 1}}, init = SparseArray[RandomInteger[{0, 1}, {nx, ny}]]},\n",
    "  GaussianFilter[First@CellularAutomaton[rule, init, {{iterations}}], nx/64]]"
   ]
  },
  {
   "cell_type": "code",
   "execution_count": null,
   "id": "a96c4f51",
   "metadata": {},
   "outputs": [],
   "source": [
    "ArrayPlot /@ Table[randomInkBlob[{256, 256}], 2]"
   ]
  },
  {
   "cell_type": "code",
   "execution_count": null,
   "id": "e846f1a7",
   "metadata": {},
   "outputs": [],
   "source": [
    "uVals[\"gs\", \"ink-blob\", \"spectral\"] = randomInkBlob[{256, 256}];\n",
    "vVals[\"gs\", \"ink-blob\", \"spectral\"] = randomInkBlob[{256, 256}];"
   ]
  },
  {
   "cell_type": "code",
   "execution_count": null,
   "id": "5c28db16",
   "metadata": {},
   "outputs": [],
   "source": [
    "storedResult[\"gs\", \"ink-blob\", \"spectral\"] =\n",
    "  Reap[Do[\n",
    "     {uVals[\"gs\", \"ink-blob\", \"spectral\"], \n",
    "       vVals[\"gs\", \"ink-blob\", \"spectral\"]} =\n",
    "      spectralGrayScott[{uVals[\"gs\", \"ink-blob\", \"spectral\"], \n",
    "         vVals[\"gs\", \"ink-blob\", \"spectral\"]}, {2. 10^-5, 5. 10^-6, \n",
    "         0.024, 0.056}, 0.125][wavevectors[\"gs\", \"spectral\"]];\n",
    "     If[Mod[t, 165] == 0, Sow[vVals[\"gs\", \"ink-blob\", \"spectral\"]]]\n",
    "     , {t, 1, 4000}]][[2, 1]];"
   ]
  },
  {
   "cell_type": "code",
   "execution_count": null,
   "id": "5c3cbc41",
   "metadata": {},
   "outputs": [],
   "source": [
    "Rasterize[Multicolumn[\n",
    "  ArrayPlot[#, ImageSize -> 200, Frame -> False] & /@ storedResult[\"gs\", \"ink-blob\", \"spectral\"], \n",
    "  8, Appearance -> \"Horizontal\"], ImageSize -> 800]"
   ]
  },
  {
   "cell_type": "markdown",
   "id": "70c573ce",
   "metadata": {},
   "source": [
    "## Cahn Hilliard Equation for Spinodal Decomposition\n",
    "\n",
    "Another important diffusion system in materials science is the Cahn Hilliard equation, which describes phase-separation in two-phase systems:\n",
    "\n",
    "$$\n",
    "\\frac{\\partial c}{\\partial t} = M_0 \\left[ \\frac{\\partial^2 f^{\\mathrm{hom}}}{\\partial c^2} \\nabla^2 c - 2K \\nabla^4 c \\right]\n",
    "$$\n",
    "\n",
    "The first term on the right is diffusive, the second term accounts for interfacial energy penalties arising from concentration gradients.   \n",
    "We'll use it to model spinodal decomposition."
   ]
  },
  {
   "cell_type": "markdown",
   "id": "9687eb2a",
   "metadata": {},
   "source": [
    "First, we need a particular free energy potential f^hom for how the two phases interact. We'll choose a simple function:"
   ]
  },
  {
   "cell_type": "code",
   "execution_count": null,
   "id": "ec518810",
   "metadata": {},
   "outputs": [],
   "source": [
    "freeEnergy[phi_] = phi^2 (1 - phi)^2;\n",
    "Plot[freeEnergy[phi], {phi, -1/2, 3/2}]"
   ]
  },
  {
   "cell_type": "markdown",
   "id": "8e6745b0",
   "metadata": {},
   "source": [
    "We'll need the gradient df/dc:"
   ]
  },
  {
   "cell_type": "code",
   "execution_count": null,
   "id": "7c9d7612",
   "metadata": {},
   "outputs": [],
   "source": [
    "Simplify[freeEnergy'[phi]]"
   ]
  },
  {
   "cell_type": "code",
   "execution_count": null,
   "id": "9a3be85b",
   "metadata": {},
   "outputs": [],
   "source": [
    "freeEnergyDerivative[phi_] = phi (2 + phi (-6 + 4 phi));"
   ]
  },
  {
   "cell_type": "markdown",
   "id": "9f4b6da9",
   "metadata": {},
   "source": [
    "We'll re-use our spectral wave-vectors functions from above.\n",
    "Finally, we implement our 4th-order pde:"
   ]
  },
  {
   "cell_type": "code",
   "execution_count": null,
   "id": "441c51e4",
   "metadata": {},
   "outputs": [],
   "source": [
    "spectralCahnHilliard[u_, kappa_,  dt_][kMagnitudeSquared_,kMagnitudeFourth_] :=\n",
    " Block[{\n",
    "   fourierDf = Fourier[freeEnergyDerivative[u]],\n",
    "   fourierU = Fourier[u] ,\n",
    "   part1,\n",
    "   part2\n",
    "   },\n",
    "  part1 = dt kMagnitudeSquared fourierDf;\n",
    "  part2 = (fourierU - part1)/(1 + dt kappa kMagnitudeFourth);\n",
    "  Re[InverseFourier[part2]]]"
   ]
  },
  {
   "cell_type": "markdown",
   "id": "b984522d",
   "metadata": {},
   "source": [
    "We'll use Obama's image again.  \n",
    "We rescale the values to initially lie very close to the unstable 'bump' in our free energy potential.\n",
    "And evolve down to the two phase-separation minima (0 and 1)"
   ]
  },
  {
   "cell_type": "code",
   "execution_count": null,
   "id": "b59e0bdc",
   "metadata": {},
   "outputs": [],
   "source": [
    "obamaImage = ColorConvert[ImageResize[Import[\"https://www.beyonddream.com/images/product/23892024.jpg\"],500], \"Grayscale\"];\n",
    "obamaData = ImageData[obamaImage];\n",
    "obamaVals[\"ch\", \"obama\"] = Rescale[obamaData, {0, 1}, {0.4999, 0.5001}];"
   ]
  },
  {
   "cell_type": "code",
   "execution_count": null,
   "id": "6d5095c8",
   "metadata": {},
   "outputs": [],
   "source": [
    "wavevectorsSquared[\"ch\", \"obama\"] = spectralWavevectorSquared[Dimensions[obamaVals[\"ch\", \"obama\"]],  False];\n",
    "wavevectorsFourth[\"ch\", \"obama\"] = wavevectorsSquared[\"ch\", \"obama\"]^2;"
   ]
  },
  {
   "cell_type": "code",
   "execution_count": null,
   "id": "23c98eb7",
   "metadata": {},
   "outputs": [],
   "source": [
    "storedResult[\"ch\", \"obama\"] =\n",
    "  Reap[Do[\n",
    "     obamaVals[\"ch\", \"obama\"] =\n",
    "      spectralCahnHilliard[obamaVals[\"ch\", \"obama\"], 7.5, 1][\n",
    "       wavevectorsSquared[\"ch\", \"obama\"], \n",
    "       wavevectorsFourth[\"ch\", \"obama\"]\n",
    "       ];\n",
    "     If[Mod[t, 40] == 0, Sow[obamaVals[\"ch\", \"obama\"]]]\n",
    "     , {t, 1, 1000}]][[2, 1]];"
   ]
  },
  {
   "cell_type": "markdown",
   "id": "fd0ac9e6",
   "metadata": {},
   "source": [
    "Finally, we visualize the decomposition:"
   ]
  },
  {
   "cell_type": "code",
   "execution_count": null,
   "id": "8ab86feb",
   "metadata": {},
   "outputs": [],
   "source": [
    "adjustRange[0] = obamaImage;\n",
    "adjustRange[frameNumber_] := storedResult[\"ch\", \"obama\"][[frameNumber]] // Image // ImageAdjust"
   ]
  },
  {
   "cell_type": "code",
   "execution_count": null,
   "id": "ecf01bd7",
   "metadata": {},
   "outputs": [],
   "source": [
    "Rasterize[Multicolumn[adjustRange /@ Range[0, 23], 8, Appearance -> \"Horizontal\"], ImageSize -> 800]"
   ]
  },
  {
   "cell_type": "code",
   "execution_count": null,
   "id": "4539a729",
   "metadata": {},
   "outputs": [],
   "source": []
  }
 ],
 "metadata": {
  "kernelspec": {
   "display_name": "Wolfram Language 13",
   "language": "Wolfram Language",
   "name": "wolframlanguage13"
  },
  "language_info": {
   "codemirror_mode": "mathematica",
   "file_extension": ".m",
   "mimetype": "application/vnd.wolfram.m",
   "name": "Wolfram Language",
   "pygments_lexer": "mathematica",
   "version": "12.0"
  }
 },
 "nbformat": 4,
 "nbformat_minor": 5
}
