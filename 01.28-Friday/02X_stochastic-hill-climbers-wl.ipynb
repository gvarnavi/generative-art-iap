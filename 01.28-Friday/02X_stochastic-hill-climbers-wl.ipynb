{
 "cells": [
  {
   "cell_type": "markdown",
   "id": "691a063d",
   "metadata": {},
   "source": [
    "# Stochastic Hill Climbers\n",
    "\n",
    "We'll code the workshop teaser!\n",
    "The idea is simple:\n",
    "\n",
    "- Start with 50 8-vertex polygons randomly in space\n",
    "  - Assign a color and transparency to each polygon\n",
    "- Randomly nudge one of the vertices\n",
    "  - If resulting image is closer to the target image, accept change, otherwise reject\n",
    "- Iterate until convergence"
   ]
  },
  {
   "cell_type": "code",
   "execution_count": null,
   "id": "b022048a",
   "metadata": {},
   "outputs": [],
   "source": [
    "obama = ImageResize[Import[\"https://www.beyonddream.com/images/product/23892024.jpg\"], 500]"
   ]
  },
  {
   "cell_type": "markdown",
   "id": "facc70e4",
   "metadata": {},
   "source": [
    "Find the 50 'dominant' colors:"
   ]
  },
  {
   "cell_type": "code",
   "execution_count": null,
   "id": "f34d8843",
   "metadata": {},
   "outputs": [],
   "source": [
    "QuaCol[i_, n_] := RGBColor /@ Union[Flatten[ImageData[ColorQuantize[i, n]], 1]]\n",
    "colors = Sort[QuaCol[obama, 50]]"
   ]
  },
  {
   "cell_type": "markdown",
   "id": "351bc995",
   "metadata": {},
   "source": [
    "Make a random polygon:"
   ]
  },
  {
   "cell_type": "code",
   "execution_count": null,
   "id": "f743c0ad",
   "metadata": {},
   "outputs": [],
   "source": [
    "pixelPts = Tuples[Range[1, #, 3] & /@ ImageDimensions[obama]];\n",
    "\n",
    "polygon[integers_, col_] := \n",
    " Block[{order = First@FindCurvePath[pixelPts[[integers]]]},\n",
    "  {Opacity[0.5], col, Polygon[integers[[order]]]}]\n",
    "  \n",
    "\n",
    "polygon[RandomChoice[Range[Length[pixelPts]], 8], Red]\n",
    "Graphics[GraphicsComplex[pixelPts, %]]"
   ]
  },
  {
   "cell_type": "markdown",
   "id": "6f3afc32",
   "metadata": {},
   "source": [
    "Make a visualization function:"
   ]
  },
  {
   "cell_type": "code",
   "execution_count": null,
   "id": "c4119127",
   "metadata": {},
   "outputs": [],
   "source": [
    "rasterize[dna_, cols_ : colors] := Rasterize[\n",
    "  Graphics[GraphicsComplex[pixelPts, \n",
    "    MapThread[polygon, {Partition[dna, 8], cols}]], ImageSize -> 500, \n",
    "   PlotRange -> {{1, 500}, {1, 417}}]]"
   ]
  },
  {
   "cell_type": "markdown",
   "id": "4bb9d79e",
   "metadata": {},
   "source": [
    "Make a collection of random polygons:"
   ]
  },
  {
   "cell_type": "code",
   "execution_count": null,
   "id": "c791fb2e",
   "metadata": {},
   "outputs": [],
   "source": [
    "rasterize[RandomSample[Range[Length[pixelPts]], 50 8]]"
   ]
  },
  {
   "cell_type": "markdown",
   "id": "5e77004f",
   "metadata": {},
   "source": [
    "Compute an image distance metric:"
   ]
  },
  {
   "cell_type": "code",
   "execution_count": null,
   "id": "aa22f367",
   "metadata": {},
   "outputs": [],
   "source": [
    "imageDistance[string_] := \n",
    " ImageDistance[obama, rasterize[string], \n",
    "  DistanceFunction -> SquaredEuclideanDistance]\n",
    "  \n",
    "imageDistance[RandomSample[Range[Length[pixelPts]], 50 8]]"
   ]
  },
  {
   "cell_type": "markdown",
   "id": "743693e4",
   "metadata": {},
   "source": [
    "'Mutate' by randomly 'nudging' a corner:"
   ]
  },
  {
   "cell_type": "code",
   "execution_count": null,
   "id": "ba5728ef",
   "metadata": {},
   "outputs": [],
   "source": [
    "mutate[m_][dna_] := \n",
    " Block[{neighs = RandomInteger[{1, Length[dna]}, m]},\n",
    "  ReplacePart[dna, \n",
    "   Thread[neighs -> RandomSample[Range[Length[pixelPts]], m]]]]"
   ]
  },
  {
   "cell_type": "markdown",
   "id": "f1053252",
   "metadata": {},
   "source": [
    "Accept/reject 'mutation' and 'evolve':"
   ]
  },
  {
   "cell_type": "code",
   "execution_count": null,
   "id": "ff366300",
   "metadata": {},
   "outputs": [],
   "source": [
    "iterate[m_] := Block[{mutation, metric, result},\n",
    "  mutation = mutate[m][dna];\n",
    "  metric = imageDistance[mutation];\n",
    "  result = If[metric < previous,\n",
    "    previous = metric;\n",
    "    mutation, dna];\n",
    "  n++;\n",
    "  result]"
   ]
  },
  {
   "cell_type": "markdown",
   "id": "ade48c54",
   "metadata": {},
   "source": [
    "**Note:** see the Wolfram cloud notebook for an interactive version of the minimization!"
   ]
  },
  {
   "cell_type": "code",
   "execution_count": null,
   "id": "635b7fc1",
   "metadata": {},
   "outputs": [],
   "source": [
    "n = 0;\n",
    "dna = RandomSample[Range[Length[pixelPts]], 50 8];\n",
    "og = previous = imageDistance[dna]"
   ]
  },
  {
   "cell_type": "code",
   "execution_count": null,
   "id": "fceb7d4e",
   "metadata": {},
   "outputs": [],
   "source": [
    "Show[rasterize[dna], \n",
    " PlotLabel -> Style[StringTemplate[\"Scaled Image Distance: `1`\"][previous/og], 24,Black]]"
   ]
  },
  {
   "cell_type": "code",
   "execution_count": null,
   "id": "de45170a",
   "metadata": {},
   "outputs": [],
   "source": [
    "Do[dna = iterate[1], {1000000}]"
   ]
  },
  {
   "cell_type": "markdown",
   "id": "92d6ae43",
   "metadata": {},
   "source": [
    "![teaser](https://raw.githubusercontent.com/gvarnavi/generative-art-iap/master/PR/teaser.gif)"
   ]
  },
  {
   "cell_type": "code",
   "execution_count": null,
   "id": "c211539c",
   "metadata": {},
   "outputs": [],
   "source": []
  }
 ],
 "metadata": {
  "kernelspec": {
   "display_name": "Wolfram Language 13",
   "language": "Wolfram Language",
   "name": "wolframlanguage13"
  },
  "language_info": {
   "codemirror_mode": "mathematica",
   "file_extension": ".m",
   "mimetype": "application/vnd.wolfram.m",
   "name": "Wolfram Language",
   "pygments_lexer": "mathematica",
   "version": "12.0"
  }
 },
 "nbformat": 4,
 "nbformat_minor": 5
}
