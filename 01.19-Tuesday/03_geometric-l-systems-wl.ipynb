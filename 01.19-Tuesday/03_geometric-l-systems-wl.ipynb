{
 "cells": [
  {
   "cell_type": "markdown",
   "metadata": {},
   "source": [
    "# Geometric L-Systems\n",
    "\n",
    "L-systems or \"Lindernmayer Systems\" originated from botany and refer to recursive systems used to model variety of organisms using:\n",
    "- An alphabet\n",
    "- An axiom (or initial state)\n",
    "- A set of replacement rules"
   ]
  },
  {
   "cell_type": "markdown",
   "metadata": {},
   "source": [
    "## Algae growth\n",
    "Let's look at a simple example first, a two-rule system used to model algae growth:\n",
    "\n",
    "![algae-growth](https://natureofcode.com/book/imgs/chapter08/ch08_24.png)\n",
    "\n",
    "- Alphabet: 'A' & 'B'\n",
    "- Axiom: 'A'\n",
    "- Rules: 'A'&rarr; 'AB', 'B' &rarr; 'A'"
   ]
  },
  {
   "cell_type": "markdown",
   "metadata": {},
   "source": [
    "We can implement this in the `wolfram language` as a one-liner.  \n",
    "We'll use the `StringReplace` function, which does the following:"
   ]
  },
  {
   "cell_type": "code",
   "execution_count": null,
   "metadata": {},
   "outputs": [],
   "source": [
    "?StringReplace"
   ]
  },
  {
   "cell_type": "markdown",
   "metadata": {},
   "source": [
    "<div class=\"alert alert-block alert-info\">\n",
    "<b>Tip:</b> Use `?` to quickly query the documentation about more `Information` on a function.\n",
    "</div>"
   ]
  },
  {
   "cell_type": "code",
   "execution_count": null,
   "metadata": {},
   "outputs": [],
   "source": [
    "StringReplace[\"ABCD\", {\"A\" -> \"AB\", \"B\" -> \"A\"}]\n",
    "NestList[StringReplace[#, {\"A\" -> \"AB\", \"B\" -> \"A\"}] &, \"A\", 4]"
   ]
  },
  {
   "cell_type": "code",
   "execution_count": null,
   "metadata": {},
   "outputs": [],
   "source": [
    "Column[NestList[StringReplace[#, {\"A\" -> \"AB\", \"B\" -> \"A\"}] &, \"A\", 4], Center]"
   ]
  },
  {
   "cell_type": "markdown",
   "metadata": {},
   "source": [
    "## Turtle Graphics\n",
    "Most operations of interest can be defined by the following \"standard\" alphabet:\n",
    "\n",
    "- F: Move forward by a specified distance & draw a line\n",
    "- G: Move forward by a specified distance w/o drawing a line\n",
    "- +: Turn right by a specified angle\n",
    "- -: Turn left by a specified angle  \n",
    "\n",
    "This is commonly referred to as 'Turtle graphics'.  \n",
    "Imagine a turtle sitting on your computer screen following a limited set of commands."
   ]
  },
  {
   "cell_type": "markdown",
   "metadata": {},
   "source": [
    "### Geometric Fractals\n",
    "For simple systems (without branches), our turtle just keeps going in a straight line.\n",
    "It is fairly straightforward in those cases to use `AnglePath`, a generalization of a random walk.\n",
    "\n",
    "We'll start by restricting our random walkers to walk on a square grid."
   ]
  },
  {
   "cell_type": "code",
   "execution_count": null,
   "metadata": {},
   "outputs": [],
   "source": [
    "Tuples[Range[-1, 1], 2]"
   ]
  },
  {
   "cell_type": "code",
   "execution_count": null,
   "metadata": {},
   "outputs": [],
   "source": [
    "(*Only selecting steps with unit legth*)\n",
    "steps = Select[Tuples[Range[-1, 1], 2], Norm[#] == 1 &]\n",
    "\n",
    "(*Randomly selecting one at each step*)\n",
    "latticeStep[] := RandomChoice[steps]"
   ]
  },
  {
   "cell_type": "code",
   "execution_count": null,
   "metadata": {},
   "outputs": [],
   "source": [
    "(*let's select 9 such random steps, starting from the origin*)\n",
    "Prepend[Table[latticeStep[], 9], {0, 0}]"
   ]
  },
  {
   "cell_type": "markdown",
   "metadata": {},
   "source": [
    "Finally, we `Accumulate` these steps and plot a line through them"
   ]
  },
  {
   "cell_type": "code",
   "execution_count": null,
   "metadata": {},
   "outputs": [],
   "source": [
    "Prepend[Table[latticeStep[], 1000], {0, 0}]//Accumulate//Line//Graphics"
   ]
  },
  {
   "cell_type": "markdown",
   "metadata": {},
   "source": [
    "We can make a better-looking visualization by using disks and opacity for our visited locations."
   ]
  },
  {
   "cell_type": "code",
   "execution_count": null,
   "metadata": {},
   "outputs": [],
   "source": [
    "With[{locations= Accumulate[Prepend[Table[latticeStep[], 1000], {0, 0}]]},\n",
    "Graphics[{Opacity[0.25], \n",
    "    Disk[#, 1/2] & /@locations}]]"
   ]
  },
  {
   "cell_type": "markdown",
   "metadata": {},
   "source": [
    "Let's relax one of those constraints, by allowing our walkers to take unit steps at any angle"
   ]
  },
  {
   "cell_type": "code",
   "execution_count": null,
   "metadata": {},
   "outputs": [],
   "source": [
    "randomStep[] := Module[{\\[Theta] = RandomReal[{0, 2 Pi}]},{Cos[\\[Theta]], Sin[\\[Theta]]}]\n",
    "Prepend[Table[randomStep[], 1000], {0, 0}] // Accumulate // Line // Graphics"
   ]
  },
  {
   "cell_type": "markdown",
   "metadata": {},
   "source": [
    "We'll make this periodic inside a square box, and visualize using our disks/opacity scheme above"
   ]
  },
  {
   "cell_type": "code",
   "execution_count": null,
   "metadata": {},
   "outputs": [],
   "source": [
    "With[{steps =Mod[Accumulate[Prepend[Table[randomStep[], 10000], {0, 0}]], 50, -25]}, \n",
    " Rasterize[\n",
    "  Multicolumn[Table[Graphics[{Opacity[0.25], Disk[#, 1/2] & /@ Take[steps, time]}, \n",
    "     PlotRange -> 25 {{-1, 1}, {-1, 1}}], \n",
    "     {time,Subdivide[1, 10001, 20]}], \n",
    "     7, Appearance -> \"Horizontal\", \n",
    "   Frame -> All]]]"
   ]
  },
  {
   "cell_type": "markdown",
   "metadata": {},
   "source": [
    "<div class=\"alert alert-block alert-warning\">\n",
    "<b>Note: </b>\n",
    "The Manipulate/Animate integration for the Wolfram-Language jupyter kernel is still lacking, so we import a grid of frames instead.\n",
    "<br>We'll use the wolfram cloud notebooks at times, when we need the functionality.\n",
    "</div>"
   ]
  },
  {
   "cell_type": "markdown",
   "metadata": {},
   "source": [
    "At this point, we can use the built-in `AnglePath` to visualize simple L-systems"
   ]
  },
  {
   "cell_type": "code",
   "execution_count": null,
   "metadata": {},
   "outputs": [],
   "source": [
    "?AnglePath"
   ]
  },
  {
   "cell_type": "code",
   "execution_count": null,
   "metadata": {},
   "outputs": [],
   "source": [
    "RandomReal[{0, 2 \\[Pi]}, 1000] // AnglePath // Line // Graphics"
   ]
  },
  {
   "cell_type": "markdown",
   "metadata": {},
   "source": [
    "We can use the second form of the function to also vary the length of the step"
   ]
  },
  {
   "cell_type": "code",
   "execution_count": null,
   "metadata": {},
   "outputs": [],
   "source": [
    "AnglePath[\n",
    "   Transpose[{RandomReal[{0, 1}, 1000], \n",
    "     RandomReal[{0, 2 \\[Pi]}, 1000]}]] // Line // Graphics"
   ]
  },
  {
   "cell_type": "markdown",
   "metadata": {},
   "source": [
    "We can take advantage of the variable length argument to control drawing/skipping letters and the variable angle argument to take turns"
   ]
  },
  {
   "cell_type": "code",
   "execution_count": null,
   "metadata": {},
   "outputs": [],
   "source": [
    "SubstitutionSystem[{\"X\" -> \"X+YF+\", \"Y\" -> \"-FX-Y\"}, \"FX\", {4}][[1]]"
   ]
  },
  {
   "cell_type": "code",
   "execution_count": null,
   "metadata": {},
   "outputs": [],
   "source": [
    "StringCases[%,{\"F\" -> {1, 0}, \"X\" -> {0, 0}, \"Y\" -> {0, 0}, \"+\" -> {0, Pi/2}, \"-\" -> {0, -Pi/2}}]"
   ]
  },
  {
   "cell_type": "code",
   "execution_count": null,
   "metadata": {},
   "outputs": [],
   "source": [
    "%//AnglePath//Line//Graphics"
   ]
  },
  {
   "cell_type": "markdown",
   "metadata": {},
   "source": [
    "<div class=\"alert alert-block alert-info\">\n",
    "<b>Tip:</b> We're using `%` to refer to the previous output for brevity\n",
    "</div>"
   ]
  },
  {
   "cell_type": "markdown",
   "metadata": {},
   "source": [
    "Let's make some visualization functions and see some systems drawn out!"
   ]
  },
  {
   "cell_type": "code",
   "execution_count": null,
   "metadata": {},
   "outputs": [],
   "source": [
    "(*Legend function to graphically illustrate replacement rules*)\n",
    "legend[rules_, axiom_, angle_, name_] := \n",
    " Block[{rp, flatRules, counter},\n",
    "  flatRules = \n",
    "   Flatten[rules /. (a_ -> b_) :> Characters[StringJoin[a, b]]];\n",
    "  rp = RulePlot[SubstitutionSystem[rules], Frame -> False, \n",
    "    Appearance -> \"Arrow\", \n",
    "    ImageSize -> Clip[40 Length[flatRules], {400, 800}]];\n",
    "  counter = 1;\n",
    "  Show[rp /. {col_, \n",
    "      Rectangle[min_, max_]} :> {{col, \n",
    "       Rectangle[min, max]}, {Text[\n",
    "        Style[flatRules[[counter++]], \n",
    "         Clip[Length[flatRules], {10, 14}], \n",
    "         If[col[[1]] == 1., Black, White]], Mean[{min, max}]]}}]]\n",
    "         \n",
    "(*Visualization function to nest substitution rules and draw last iteration*) \n",
    "visualize[name_, {rules_, axiom_, angle_, {drawLetters_, dummyLetters_},iter_}] := \n",
    " Block[{str, label, ruleLegend, fractal},\n",
    "  str = Last[SubstitutionSystem[rules, axiom, {iter}]];\n",
    "  fractal = \n",
    "   Graphics[\n",
    "    Line@AnglePath[\n",
    "      StringCases[str, \n",
    "       Join[Thread[{drawLetters -> {1, 0}}], \n",
    "        Thread[{dummyLetters -> {0, 0}}], {\"+\" -> {0, angle}, \n",
    "         \"-\" -> {0, -angle}}]]], ImageSize -> 600,\n",
    "         \n",
    "    PlotLabel -> \n",
    "     Style[StringTemplate[\n",
    "        \"`1`\\nAxiom: `2`\\tAngle: `3`\\tDraw Letters:`4`\"]\n",
    "        [name, axiom,UnitConvert[Quantity[angle, \"Radians\"], \"Degrees\"],\n",
    "        \n",
    "       StringRiffle[drawLetters, \",\"]], 18, Black]];\n",
    "  \n",
    "  ruleLegend = legend[rules, axiom, angle, name];\n",
    "  Legended[fractal, Placed[ruleLegend, Bottom]]]"
   ]
  },
  {
   "cell_type": "markdown",
   "metadata": {},
   "source": [
    "### Examples\n",
    "- Dragon Curve\n",
    "  - Alphabet: F X Y + -\n",
    "  - Axiom: FX\n",
    "  - Drawing Letters: F\n",
    "  - Rules: (X -> X +Y F +) &  (Y ->- F X- Y)\n",
    "  - Angle : 90 Degrees"
   ]
  },
  {
   "cell_type": "code",
   "execution_count": null,
   "metadata": {},
   "outputs": [],
   "source": [
    "dragonCurve = \n",
    " visualize[\"Dragon Curve\", \n",
    " {{\"X\" -> \"X+YF+\", \"Y\" -> \"-FX-Y\"}, \n",
    " \"FX\", \\[Pi]/2, \n",
    " {{\"F\"}, {\"X\", \"Y\"}}, \n",
    " 12}]"
   ]
  },
  {
   "cell_type": "markdown",
   "metadata": {},
   "source": [
    "- Sierpinski Triangle\n",
    "  - Alphabet: F G + -\n",
    "  - Axiom: F\n",
    "  - Drawing Letters: F, G\n",
    "  - Rules: (F -> G + F + G) &  (G -> F - G - F)\n",
    "  - Angle : 60 Degrees"
   ]
  },
  {
   "cell_type": "code",
   "execution_count": null,
   "metadata": {},
   "outputs": [],
   "source": [
    "sierpinskiTriangle = \n",
    " visualize[\"Sierpinski Triangle\", \n",
    " {{\"F\" -> \"G+F+G\", \"G\" -> \"F-G-F\"}, \n",
    "   \"F\", \\[Pi]/3, \n",
    "   {{\"F\", \"G\"}, {}}, 8}]"
   ]
  },
  {
   "cell_type": "markdown",
   "metadata": {},
   "source": [
    "- Diffusion Limited Aggregation\n",
    "  - Alphabet: F +\n",
    "  - Axiom: F + F + F + F\n",
    "  - Drawing Letters: F\n",
    "  - Rules: F -> F F + F + + F + F\n",
    "  - Angle : 90 Degrees"
   ]
  },
  {
   "cell_type": "code",
   "execution_count": null,
   "metadata": {},
   "outputs": [],
   "source": [
    "dla = visualize[\"Diffusion Limited Aggregation\", \n",
    "{{\"F\" -> \"FF+F++F+F\"}, \n",
    "   \"F+F+F+F\", \\[Pi]/2, \n",
    "   {{\"F\"}, {}}, 6}]"
   ]
  },
  {
   "cell_type": "markdown",
   "metadata": {},
   "source": [
    "### Push-Pop Systems\n",
    "For systems involving push and pop, we need to implement a stack and such write our own visualization function.  \n",
    "In particular, we'll introduce two new symbols to our rule-set:\n",
    "\n",
    "- [: Save current location & **optionally** turn right\n",
    "- ]: Restore previous location & **optionally** turn left\n",
    "\n",
    "We start by specifying an \"algorithmic\" way  of specifying rotate right and left.\n",
    "Essentially we just need a cyclic +/- modifier."
   ]
  },
  {
   "cell_type": "code",
   "execution_count": null,
   "metadata": {},
   "outputs": [],
   "source": [
    "I^2 (*turn right*)\n",
    "I^4 (*turn left*)\n",
    "I^6 (*push and turn right*)\n",
    "I^8 (*pop and turn left*)"
   ]
  },
  {
   "cell_type": "markdown",
   "metadata": {},
   "source": [
    "Next, let's write our own nesting function:"
   ]
  },
  {
   "cell_type": "code",
   "execution_count": null,
   "metadata": {},
   "outputs": [],
   "source": [
    "nest[state_, rules_, iter_] := Nest[Flatten[# /. rules] &, state, iter]\n",
    "nest[{\"F\", 2, 2, \"F\", 2, 2,\"F\"}, {\"F\" -> {\"F\", 4, \"F\", 2, 2, \"F\", 4, \"F\"}}, 2]"
   ]
  },
  {
   "cell_type": "markdown",
   "metadata": {},
   "source": [
    "Finally, we write our visualization function:"
   ]
  },
  {
   "cell_type": "code",
   "execution_count": null,
   "metadata": {},
   "outputs": [],
   "source": [
    "(*Implementating a push-pop style stack*)\n",
    "visualizeLSystemPushPop[state_, rotAngle_, drawLetters_, rotateOnPushPopQ_:True] := \n",
    " Module[{currentAngle = 0, currentLocation = {0, 0}, \n",
    "   currentState = {}, savedState = {}, savedAngle = 0, \n",
    "   savedLocation = {0, 0}},\n",
    "  (Switch[#,\n",
    "      6,\n",
    "      savedState = {savedAngle, savedLocation, savedState},\n",
    "      8,\n",
    "      {savedAngle, savedLocation, savedState} = savedState,\n",
    "      \n",
    "      _?(Or @@ Thread[# == drawLetters] &),\n",
    "      \n",
    "      currentState = {currentState, \n",
    "        Line@{savedLocation, \n",
    "          savedLocation += {Cos@savedAngle, Sin@savedAngle}}}];\n",
    "     \n",
    "     If[\n",
    "     If[rotateOnPushPopQ,\n",
    "     NumericQ[#],\n",
    "     #==2||#==4], savedAngle += I^# rotAngle]) & /@ state;\n",
    "  \n",
    "  Graphics[Flatten@currentState, ImageSize -> 500]\n",
    "  ]\n",
    "\n",
    "(*utility function to convert b/w the numeric and string rule representations*)\n",
    "convertRules[rules_] := rules /. (a_ -> b_) :> (a -> StringJoin @@ (b /. {2 -> \"+\", 4 -> \"-\", 6 -> \"[\", 8 -> \"]\"}))\n",
    "\n",
    "(*Visualization function to nest push-pop substitution rules and draw last iteration*) \n",
    "visualizePushPop[name_, {rules_, axiom_, angle_, {drawLetters_, dummyLetters_}, iter_},rotateOnPushPopQ_:True] := \n",
    " Block[{str, label, ruleLegend, fractal},\n",
    "  fractal = \n",
    "   Show[visualizeLSystemPushPop[\n",
    "     nest[{axiom}, rules, iter], angle,\n",
    "      drawLetters, rotateOnPushPopQ], ImageSize -> 600, \n",
    "    PlotLabel -> \n",
    "     Style[StringTemplate[\n",
    "        \"`1`\\nAxiom: `2`\\tAngle: `3`\\tDraw Letters:`4`\"][name, axiom, \n",
    "       UnitConvert[Quantity[angle, \"Radians\"], \"Degrees\"], \n",
    "       StringRiffle[drawLetters, \",\"]], 18, Black]];\n",
    "       \n",
    "  ruleLegend = legend[convertRules[rules],axiom, angle, name];\n",
    "  Legended[fractal, Placed[ruleLegend, Bottom]]]"
   ]
  },
  {
   "cell_type": "markdown",
   "metadata": {},
   "source": [
    "### Examples\n",
    "- Fractal Plant\n",
    "  - Alphabet: X F + - [ ]\n",
    "  - Axiom: X\n",
    "  - Drawing Letters: F, X\n",
    "  - Rules:(X -> F + [ [ X ] - X ] - F [ - F X ] + X) & (F -> F F\n",
    "  - Angle : 15 Degrees\n",
    "  - Rotate on Push/Pop : True"
   ]
  },
  {
   "cell_type": "code",
   "execution_count": null,
   "metadata": {},
   "outputs": [],
   "source": [
    "fractalPlant = \n",
    " visualizePushPop[\"Fractal Plant\", \n",
    " {{\"X\" -> {\"F\", 4, 6, 6, \"X\", 8, 2, \"X\", 8, 2, \"F\", 6, 2, \"F\", \"X\", 8, 4, \"X\"}, \n",
    " \"F\" -> {\"F\", \"F\"}}, \"X\", \\[Pi]/12, {{\"F\", \"X\"}, {}}, 4},True]"
   ]
  },
  {
   "cell_type": "markdown",
   "metadata": {},
   "source": [
    "- Bush\n",
    "  - Alphabet: F + - [ ]\n",
    "  - Axiom: F\n",
    "  - Drawing Letters: F\n",
    "  - Rules:F -> FF+[+F-F-F]-[-F+F+F]\n",
    "  - Angle : 22.5 Degrees\n",
    "  - Rotate on Push/Pop : False"
   ]
  },
  {
   "cell_type": "code",
   "execution_count": null,
   "metadata": {},
   "outputs": [],
   "source": [
    "bush = \n",
    " visualizePushPop[\"Bush\", \n",
    " {{\"F\" -> {\"F\", \"F\", 2, 6, 2, \"F\", 4, \"F\", 4, \"F\", 8, 4, 6, 4, \"F\", 2, \n",
    "   \"F\", 2, \"F\", 8}}, \"F\", 22.5 Degree, {{\"F\"}, {}}, 4},False]"
   ]
  },
  {
   "cell_type": "markdown",
   "metadata": {},
   "source": [
    "## Your turn!\n",
    "Play around with the `visualize` or `visualizePushPop` functions to come up with your own fractals.  \n",
    "[Paul Bourke's website](http://paulbourke.net/fractals/lsys/) is an excellent starting point for L-system rules!  \n",
    "(Note: the website defines push/pop w/o rotation so make sure to pass the Boolean flag `False` as the last argument, if you use rules from there.)"
   ]
  },
  {
   "cell_type": "markdown",
   "metadata": {},
   "source": [
    "## (Time-permitting) Genetic L-Systems\n",
    "The fractals we investigated above required very specific rules - can we instead randomly produce them?  \n",
    "We'll use the [wolfram cloud notebook](https://www.wolframcloud.com/obj/gvarnavi/Published/03X_geometric-l-systems.nb) for this, to allow some interactivity!"
   ]
  },
  {
   "cell_type": "code",
   "execution_count": null,
   "metadata": {},
   "outputs": [],
   "source": []
  }
 ],
 "metadata": {
  "kernelspec": {
   "display_name": "Wolfram Language 12.2",
   "language": "Wolfram Language",
   "name": "wolframlanguage12.2"
  },
  "language_info": {
   "codemirror_mode": "mathematica",
   "file_extension": ".m",
   "mimetype": "application/vnd.wolfram.m",
   "name": "Wolfram Language",
   "pygments_lexer": "mathematica",
   "version": "12.0"
  }
 },
 "nbformat": 4,
 "nbformat_minor": 4
}
