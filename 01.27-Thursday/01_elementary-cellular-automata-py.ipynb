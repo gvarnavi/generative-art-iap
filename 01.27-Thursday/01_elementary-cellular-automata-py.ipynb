{
 "cells": [
  {
   "cell_type": "markdown",
   "metadata": {},
   "source": [
    "[![Open In Colab](https://colab.research.google.com/assets/colab-badge.svg)](https://colab.research.google.com/github/gvarnavi/generative-art-iap/blob/master/01.27-Thursday/01_elementary-cellular-automata-py.ipynb)"
   ]
  },
  {
   "cell_type": "markdown",
   "metadata": {
    "id": "-fEefDpydOYA"
   },
   "source": [
    "# Cellular automata in 1D\n",
    "A cellular automaton is a system of interacting cells on a grid whose future state depends on the states of neighboring cells according to a pre-defined rule. Let's start by looking at cellular automata in one dimension. The following represents a sequence of cells:\n",
    "![cells](https://drive.google.com/uc?id=1Tk7475unfbg4ngirrVEF7OTwuxb6_W2_)\n",
    "\n",
    "The state of each cell is represented by a binary value, and in 1D, each cell has two neighbors. Thus, we can look at the \"code\" formed by considering a cell and its two neighbors in the order left, center, right (LCR).\n",
    "\n",
    "![triplets](https://drive.google.com/uc?id=13mAjRgJ3nBcVa_8qosi-J_UvozXH98OP)\n",
    "\n",
    "This binary triplet, such as 011 in the example shown, can be thought of as a unique identifier for that specific neighbor state configuration. We can also convert the representation of the code from binary to decimal.\n",
    "\n",
    "If our codes are only 3 digits long in binary, how many possible combinations are there? There are $2\\times2\\times2=8$ possibilities. Thus, our rules for the evolution of cellular automata must prescribe an outcome for each of the 8 possible configurations we can observe. These rules were formalized and extensively studied by Wolfram. Each rule is expressed as an 8-bit binary string, such as the example Rule 30 below:\n",
    "\n",
    "![rules](https://drive.google.com/uc?id=14v1PEupPk9eOWWUNKzG2BUktb2WN2S48)\n",
    "\n",
    "For each of the 8 neighbor configurations, the rule defines the state of the **center cell** in the next time step.\n",
    "\n",
    "We'll begin by writing a function that allows us to simulate cellular automata in one dimension. First, let's implement a helper function that allows us to generate the 8-bit rule representations."
   ]
  },
  {
   "cell_type": "code",
   "execution_count": null,
   "metadata": {
    "id": "d9fruefwiJgv"
   },
   "outputs": [],
   "source": [
    "%matplotlib inline\n",
    "import numpy as np\n",
    "import matplotlib.pyplot as plt\n",
    "\n",
    "def get_rule(n):\n",
    "    '''Get the binary representation of a rule. Valid codes are n=0 to n=255.'''\n",
    "    if n<0 or n>255:\n",
    "        raise ValueError(\"Rule index must be between 0 and 255.\")\n",
    "        \n",
    "    # use a numpy built-in function for converting a number to an 8-bit binary representation.\n",
    "    rule = np.array([int(i) for i in np.binary_repr(n, 8)], dtype=np.uint8)\n",
    "    plot_rule(rule) # visualize the rule.\n",
    "    return rule\n",
    "\n",
    "def plot_rule(rule):\n",
    "    fig, ax = plt.subplots(1,1,figsize=(8,1))\n",
    "    ax.pcolormesh(rule.reshape(1,-1), edgecolors='w', linewidth=1)\n",
    "    ax.axis('off')\n",
    "    plt.show()"
   ]
  },
  {
   "cell_type": "code",
   "execution_count": null,
   "metadata": {
    "colab": {
     "base_uri": "https://localhost:8080/",
     "height": 85
    },
    "id": "l5LxhoNoiYZ4",
    "outputId": "dc1a6365-c16b-4568-9d6f-b71a3f373e9b"
   },
   "outputs": [],
   "source": [
    "rule = get_rule(2)"
   ]
  },
  {
   "cell_type": "markdown",
   "metadata": {
    "id": "OKqPlicZiqPN"
   },
   "source": [
    "There are several different ways to implement the update for cellular automata, which applies a specified rule to a set of cells. Here, we present an approach using **convolution**. A visual representation of discrete convolution is illustrated below:\n",
    "\n",
    "![convolution](https://drive.google.com/uc?id=1JUHWN7bIbTrtTBXMrka-g7FJAZsKppsg)\n",
    "\n",
    "A convolution **kernel** scans across an array, here representing the cell states. At each position, the coinciding values of the kernel and array are multiplied, then added together. If the operation is performed cyclically, such that the kernel wraps back to the beginning, the result is a new array of the same size as the original, whose values have been transformed by the kernel.\n",
    "\n",
    "In the context of cellular automata, we can use convolution to perform binary-to-decimal conversion, by choosing the kernel $[2^0,2^1,2^2]=[1,2,4]$. Thus, we convert all triplet states to their decimal representation, an integer from 0 to 7. Then, we can use this decimal code to find the appropriate next state based on our chosen rule.\n",
    "\n",
    "![bin2dec](https://drive.google.com/uc?id=10Q35rKcY1DMJImUQ0lLHMsd_L9y_HaAL)\n",
    "\n",
    "The function ```cellular_automaton``` below performs a simulation of a cellular automaton given a rule, the number of discrete steps to advance in time, and the initial states of the cells. Internally, the ```step``` function applies a 1D convolution to convert the current cell states to their decimal representations, then determine the next states based on the supplied rule.\n"
   ]
  },
  {
   "cell_type": "code",
   "execution_count": null,
   "metadata": {
    "id": "I2dqAuGNibI6"
   },
   "outputs": [],
   "source": [
    "from scipy.ndimage import convolve1d\n",
    "\n",
    "def cellular_automaton(rule, steps, init):\n",
    "    \"\"\"Simulate a cellular automaton.\n",
    "    rule - the 8-bit representation of the rule.\n",
    "    steps - the number of iterations to perform.\n",
    "    init - the initial state of the cells.\n",
    "    \"\"\"\n",
    "    size = len(init) # get the number of cells.\n",
    "    cells = np.zeros((steps+1, size), dtype=np.uint8)\n",
    "    cells[0,:] = init\n",
    "    \n",
    "    def step(cells, rule):\n",
    "        # convolve cells with \"converter\" array to convert binary LCR triplets\n",
    "        # to base 10 integers from 0 to 7.\n",
    "        bin2dec = np.array([1,2,4], dtype=np.int)\n",
    "        decimal_rep = convolve1d(cells, bin2dec, mode='wrap')\n",
    "\n",
    "        # Get updated patterns from the rule. Note the rule is written in reverse order\n",
    "        # (000 corresponds to the leftmost digit, 111 corresponds to the rightmost digit).\n",
    "        return rule[7 - decimal_rep]\n",
    "    \n",
    "    # Apply the step function iteratively.\n",
    "    for i in range(steps):\n",
    "        cells[i+1,:] = step(cells[i,:], rule)\n",
    "    return cells\n",
    "\n",
    "# simple function to plot states.\n",
    "def plot_cells(cells):\n",
    "    plt.figure(figsize=(9,9))\n",
    "    plt.imshow(cells, interpolation='nearest')\n",
    "    plt.axis('off')\n",
    "    plt.show()"
   ]
  },
  {
   "cell_type": "markdown",
   "metadata": {
    "id": "DhgNSZs7jq0R"
   },
   "source": [
    "Below, we test our implementation on a system of 201 cells following Rule 18. We start by only turning on the center-most cell as our initial condition."
   ]
  },
  {
   "cell_type": "code",
   "execution_count": null,
   "metadata": {
    "id": "irdSVGiAjn-0"
   },
   "outputs": [],
   "source": [
    "n = 18 # rule to follow\n",
    "rule = get_rule(n)"
   ]
  },
  {
   "cell_type": "markdown",
   "metadata": {
    "id": "KNljrAJrkLy3"
   },
   "source": [
    "Run the simulation, which plots the cell states over time moving down:"
   ]
  },
  {
   "cell_type": "code",
   "execution_count": null,
   "metadata": {
    "id": "fQCcinznkHZz"
   },
   "outputs": [],
   "source": [
    "N = 201 # number of cells\n",
    "T = 100  # number of time steps\n",
    "\n",
    "# set the initial condition to a single \"on\" cell in the middle.\n",
    "init = np.zeros(N, dtype=np.uint8); init[N//2] = 1\n",
    "cells = cellular_automaton(rule, T, init)\n",
    "plot_cells(cells)"
   ]
  },
  {
   "cell_type": "markdown",
   "metadata": {
    "id": "AXe389EDkvKJ"
   },
   "source": [
    "We can also randomly initialize the cell states:"
   ]
  },
  {
   "cell_type": "code",
   "execution_count": null,
   "metadata": {
    "colab": {
     "base_uri": "https://localhost:8080/",
     "height": 683
    },
    "id": "iXt-5sSUk6uK",
    "outputId": "3e263341-7875-4a2a-c818-c8c3f7abb764"
   },
   "outputs": [],
   "source": [
    "n = 54 # rule to follow\n",
    "rule = get_rule(n)\n",
    "\n",
    "N = 201 # number of cells\n",
    "T = 100  # number of time steps\n",
    "\n",
    "# set a random initial condition.\n",
    "np.random.seed(12)\n",
    "init = (np.random.random(N)>0.5).astype(np.uint8)\n",
    "cells = cellular_automaton(rule, T, init)\n",
    "plot_cells(cells)"
   ]
  },
  {
   "cell_type": "markdown",
   "metadata": {
    "id": "gWXv90D1kgD8"
   },
   "source": [
    "Try and experiment with different rules! How many possible rules are there in 1D?"
   ]
  },
  {
   "cell_type": "markdown",
   "metadata": {
    "id": "lzH33cQjlqZZ"
   },
   "source": [
    "# Cellular Automata in 2D\n",
    "The principle of update rules based on nearest-neighbor states can also be extended to 2D. Two types of \"neighborhoods\" are commonly considered: a 5-cell (von Neumann) and a 9-cell (Moore) neighboorhood. Here, we'll focus on the von Neumann neighborhood.\n",
    "![neighborhoods](https://drive.google.com/uc?id=1sPTTDRFi-oFaw_QgH1uz6Ij4shNg_kXL)\n",
    "\n",
    "This means that each neighbor configuration will be represented by a 5-digit binary code instead of a 3-digit code, for a total of $2^5=32$ unique configurations. As a result, our rules will be represented by 32 digits instead of 8. You may have realized that in 1D, there were only $2^8=256$ possible rules. In 2D using a von Neumann neighborhood, there are $2^{32}=4294967296$! To help us explore this vast space of possible combinations, we first write a ```get_rule2d``` helper function with an additional feature to allow for a random fraction of cells to turn on."
   ]
  },
  {
   "cell_type": "code",
   "execution_count": null,
   "metadata": {
    "id": "hP2UAiPUlae5"
   },
   "outputs": [],
   "source": [
    "from scipy.signal import convolve2d\n",
    "\n",
    "def get_rule2d(n, random=False):\n",
    "    '''Get the binary representation of a rule. This can be done in two ways:\n",
    "       1. If random is False (default), n is interpreted as a specific rule index.\n",
    "          Valid values are 0 to 4294967295 (=2^32-1).\n",
    "       2. If random is True, n is interpreted as the fraction (on average) of cell\n",
    "          outcomes which should be set to \"on\" by the rule.\n",
    "    '''\n",
    "    # if random is False, interpret n as a specific rule index\n",
    "    if not random:\n",
    "        if n<0 or n>int(pow(2,32)):\n",
    "            raise ValueError(\"Rule index must be between 0 and 4294967295.\")\n",
    "        rule = np.array([int(i) for i in np.binary_repr(n, 32)], dtype=np.uint32)\n",
    "    \n",
    "    # otherwise, interpret n as the fraction of \"on\" outcomes (on average) to randomly select:\n",
    "    else:\n",
    "        rule = (np.random.random(32)<n).astype(np.uint32)\n",
    "    plot_rule2d(rule)\n",
    "    return rule\n",
    "\n",
    "def plot_rule2d(rule):\n",
    "    fig, axes = plt.subplots(2,32,figsize=(18,2))\n",
    "    axes = axes.flat\n",
    "    bin2dec = np.array([[0,8,0],[4,16,2],[0,1,0]], dtype=np.int) # binary to decimal convolution kernel\n",
    "    for i in range(32): # iterate through all 32 von Neumann neighborhood configurations\n",
    "        neigh = np.array([int(i) for i in np.binary_repr(i, 5)]) # get the binary representation\n",
    "        cells = np.zeros((3,3)); cells[2,1]=neigh[1];            # create a single 3x3 neighborhood\n",
    "        cells[1,2]=neigh[2]; cells[1,1]=neigh[0];                # as prescribed by the binary \n",
    "        cells[1,0]=neigh[3]; cells[0,1]=neigh[4]                 # representation\n",
    "\n",
    "        decimal_rep = convolve2d(cells, bin2dec,\n",
    "                                mode = 'same',\n",
    "                                boundary = 'wrap').astype(np.int) # convert to decimal by convolution\n",
    "        step = np.nan*np.ones((3,3))\n",
    "        step[1,1] = rule[31 - decimal_rep][1,1]                   # get the next step for the center cell\n",
    "                                                                  # by applying the rule\n",
    "        axes[31-i].imshow(cells, vmin=0, vmax=1)                  # plot the neighborhood\n",
    "        axes[63-i].imshow(step, vmin=0, vmax=1)                   # plot the center cell next state\n",
    "        axes[31-i].axis('off'); axes[63-i].axis('off')\n",
    "    plt.show()"
   ]
  },
  {
   "cell_type": "code",
   "execution_count": null,
   "metadata": {
    "colab": {
     "base_uri": "https://localhost:8080/",
     "height": 269
    },
    "id": "nYL33LNntf8n",
    "outputId": "914bcdc2-955c-4fbc-9327-ce8e880798aa"
   },
   "outputs": [],
   "source": [
    "# A specific rule:\n",
    "rule = get_rule2d(406)\n",
    "\n",
    "# Randomly generate a rule with (on average) half of the cells turning on:\n",
    "rule = get_rule2d(0.5, random=True)"
   ]
  },
  {
   "cell_type": "markdown",
   "metadata": {
    "id": "RUpgyvGeuY7m"
   },
   "source": [
    "Once again, we perform a convolution to convert our binary neighborhood representation to a decimal, this time with a two-dimensional kernel\n",
    "$\n",
    "\\begin{bmatrix}\n",
    "0 & 2^3 & 0 \\\\\n",
    "2^2 & 2^4 & 2^1 \\\\\n",
    "0 & 2^0 & 0\n",
    "\\end{bmatrix}\n",
    "=\n",
    "\\begin{bmatrix}\n",
    "0 & 8 & 0 \\\\\n",
    "4 & 16 & 2 \\\\\n",
    "0 & 1 & 0\n",
    "\\end{bmatrix}\n",
    "$\n",
    "that acts as our binary-to-decimal converter.\n",
    "\n",
    "The function ```cellular_automaton2d``` steps forward the 2D cellular automaton in time."
   ]
  },
  {
   "cell_type": "code",
   "execution_count": null,
   "metadata": {
    "id": "eox9rQSatwIB"
   },
   "outputs": [],
   "source": [
    "from IPython.display import clear_output\n",
    "\n",
    "def cellular_automaton2d(rule, steps, init):\n",
    "    \"\"\"Simulate a cellular automaton in two dimensions using majority rule.\n",
    "    rule - the 32-bit representation of the rule\n",
    "    steps - the number of iterations to perform.\n",
    "    init - the initial state of the cells.\n",
    "    \"\"\"\n",
    "    cells = np.zeros((steps+1, init.shape[0], init.shape[1]), dtype=np.uint8)\n",
    "    cells[0] = np.copy(init)\n",
    "    plot_cells(cells[0])\n",
    "    clear_output(wait=True)\n",
    "    \n",
    "    def step2d(cells, rule):\n",
    "        # Apply binary to decimal conversion for von Neumann (5-square) neighborhood\n",
    "        bin2dec = np.array([[0,8,0],[4,16,2],[0,1,0]], dtype=np.int)\n",
    "        decimal_rep = convolve2d(cells, bin2dec,\n",
    "                                 mode = 'same',\n",
    "                                 boundary = 'wrap') # periodic boundaries\n",
    "        return rule[31 - decimal_rep]\n",
    "    \n",
    "    # Apply the step function iteratively.\n",
    "    for i in range(steps):\n",
    "        cells[i+1] = step2d(cells[i], rule)\n",
    "        plot_cells(cells[i+1])\n",
    "        clear_output(wait=True)\n",
    "    return cells"
   ]
  },
  {
   "cell_type": "markdown",
   "metadata": {
    "id": "iVqAhRVbwy3O"
   },
   "source": [
    "Let's run a simulation on a $201\\times201$ grid with a randomly generated rule, and random initial condition."
   ]
  },
  {
   "cell_type": "code",
   "execution_count": null,
   "metadata": {
    "colab": {
     "base_uri": "https://localhost:8080/",
     "height": 44
    },
    "id": "hmMHO8KSvKZJ",
    "outputId": "1ab25df0-f988-4125-9a6c-2e0540869757"
   },
   "outputs": [],
   "source": [
    "np.random.seed(12)\n",
    "rule = get_rule2d(0.2, random=True) # rule to follow"
   ]
  },
  {
   "cell_type": "code",
   "execution_count": null,
   "metadata": {},
   "outputs": [],
   "source": [
    "N = 201 # number of cells in each dimension\n",
    "T = 100  # number of steps\n",
    "\n",
    "# set a random initial condition.\n",
    "init = (np.random.rand(N,N)>0.5).astype(np.uint8)\n",
    "cells = cellular_automaton2d(rule, T, init)"
   ]
  },
  {
   "cell_type": "markdown",
   "metadata": {},
   "source": [
    "The code below defines a function for generating an animation of the results:"
   ]
  },
  {
   "cell_type": "code",
   "execution_count": null,
   "metadata": {},
   "outputs": [],
   "source": [
    "import matplotlib.animation as animation\n",
    "from IPython.display import HTML\n",
    "\n",
    "#generate a sequence of plots assembled into an animation.\n",
    "def make_animation(cells):\n",
    "    frames = len(cells)\n",
    "    fig, ax = plt.subplots(1,1,figsize=(6,6))\n",
    "    im = ax.imshow(cells[0], interpolation='nearest')\n",
    "    ax.axis('off'); fig.tight_layout()\n",
    "\n",
    "    def animate(i):\n",
    "        '''Plot updates for animation.'''\n",
    "        im.set_array(cells[i])\n",
    "        return im,\n",
    "\n",
    "    ani = animation.FuncAnimation(fig, animate, frames=frames, interval=100, blit=True)\n",
    "    plt.close(fig)\n",
    "    return ani"
   ]
  },
  {
   "cell_type": "code",
   "execution_count": null,
   "metadata": {},
   "outputs": [],
   "source": [
    "# create animation\n",
    "ani = make_animation(cells)\n",
    "\n",
    "# display the animation\n",
    "HTML(ani.to_html5_video())"
   ]
  },
  {
   "cell_type": "code",
   "execution_count": null,
   "metadata": {},
   "outputs": [],
   "source": [
    "# save animation as gif\n",
    "ani.save('cellular_automata.gif', writer='pillow', fps=20)"
   ]
  },
  {
   "cell_type": "markdown",
   "metadata": {
    "id": "paHATR3W3mg1"
   },
   "source": [
    "Let's also test a specific rule by number, and initialize only an \"on\" cell at the center:"
   ]
  },
  {
   "cell_type": "code",
   "execution_count": null,
   "metadata": {
    "colab": {
     "base_uri": "https://localhost:8080/",
     "height": 143
    },
    "id": "vDGgD-he3lWh",
    "outputId": "5454d059-5a7b-4d2d-9526-198d341ba363"
   },
   "outputs": [],
   "source": [
    "# some interesting ones to consider: 406, 15678, 156278, 159526, 431422\n",
    "rule = get_rule2d(406) # rule to follow"
   ]
  },
  {
   "cell_type": "code",
   "execution_count": null,
   "metadata": {
    "colab": {
     "base_uri": "https://localhost:8080/",
     "height": 597
    },
    "id": "Za_v6GSG4BHk",
    "outputId": "fe15a771-8074-445a-c2db-c609b872aa59"
   },
   "outputs": [],
   "source": [
    "N = 201 # number of cells in each dimension\n",
    "T = 100  # number of steps\n",
    "\n",
    "init = np.zeros((N,N),dtype=np.uint8); init[N//2,N//2] = 1\n",
    "cells = cellular_automaton2d(rule, T, init)"
   ]
  },
  {
   "cell_type": "code",
   "execution_count": null,
   "metadata": {},
   "outputs": [],
   "source": [
    "# create animation\n",
    "ani = make_animation(cells)\n",
    "\n",
    "# display the animation\n",
    "HTML(ani.to_html5_video())"
   ]
  },
  {
   "cell_type": "code",
   "execution_count": null,
   "metadata": {},
   "outputs": [],
   "source": [
    "# save animation as gif\n",
    "ani.save('cellular_automata.gif', writer='pillow', fps=20)"
   ]
  },
  {
   "cell_type": "markdown",
   "metadata": {
    "id": "KReArzu8y-3z"
   },
   "source": [
    "# References\n",
    "http://mathworld.wolfram.com/ElementaryCellularAutomaton.html"
   ]
  }
 ],
 "metadata": {
  "colab": {
   "collapsed_sections": [],
   "name": "cellular-automata-extended.ipynb",
   "provenance": []
  },
  "kernelspec": {
   "display_name": "Python 3 (ipykernel)",
   "language": "python",
   "name": "python3"
  },
  "language_info": {
   "codemirror_mode": {
    "name": "ipython",
    "version": 3
   },
   "file_extension": ".py",
   "mimetype": "text/x-python",
   "name": "python",
   "nbconvert_exporter": "python",
   "pygments_lexer": "ipython3",
   "version": "3.7.7"
  }
 },
 "nbformat": 4,
 "nbformat_minor": 1
}
