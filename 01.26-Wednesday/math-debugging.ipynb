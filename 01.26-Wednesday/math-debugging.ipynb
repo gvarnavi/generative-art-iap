{
 "cells": [
  {
   "cell_type": "markdown",
   "id": "5b9da267",
   "metadata": {},
   "source": [
    "# Math Debugging for KaTeX rendering"
   ]
  },
  {
   "cell_type": "markdown",
   "id": "3408ea39",
   "metadata": {},
   "source": [
    "Inline math: $\\frac{a}{b}$  "
   ]
  },
  {
   "cell_type": "markdown",
   "id": "0485f647",
   "metadata": {},
   "source": [
    "Math environment:  \n",
    "\n",
    "$$\\int_{a}^b f(x) dx$$  "
   ]
  },
  {
   "cell_type": "markdown",
   "id": "1501a52e",
   "metadata": {},
   "source": [
    "Matrices:  \n",
    "\n",
    "$$\\begin{bmatrix} 1 & 2 & 3\\\\ a & b & c \\end{bmatrix}$$"
   ]
  },
  {
   "cell_type": "markdown",
   "id": "a91e75c8",
   "metadata": {},
   "source": [
    "Aligned:  \n",
    "\n",
    "$$ \\begin{aligned} a &= x+y \\\\ \n",
    "b &= 4x +3y \\end{aligned} $$"
   ]
  },
  {
   "cell_type": "code",
   "execution_count": null,
   "id": "58c624a4",
   "metadata": {},
   "outputs": [],
   "source": []
  }
 ],
 "metadata": {
  "kernelspec": {
   "display_name": "Python 3 (ipykernel)",
   "language": "python",
   "name": "python3"
  },
  "language_info": {
   "codemirror_mode": {
    "name": "ipython",
    "version": 3
   },
   "file_extension": ".py",
   "mimetype": "text/x-python",
   "name": "python",
   "nbconvert_exporter": "python",
   "pygments_lexer": "ipython3",
   "version": "3.8.10"
  }
 },
 "nbformat": 4,
 "nbformat_minor": 5
}
