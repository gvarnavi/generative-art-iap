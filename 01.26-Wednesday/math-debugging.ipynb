{
 "cells": [
  {
   "cell_type": "markdown",
   "id": "c01f2f8c",
   "metadata": {},
   "source": [
    "# Math Debugging for KaTeX rendering"
   ]
  },
  {
   "cell_type": "markdown",
   "id": "af48e956",
   "metadata": {},
   "source": [
    "Inline math: $\\frac{a}{b}$  "
   ]
  },
  {
   "cell_type": "markdown",
   "id": "cb36aeb3",
   "metadata": {},
   "source": [
    "Math environment:  \n",
    "$$\\int_{a}^b f(x) dx$$  "
   ]
  },
  {
   "cell_type": "markdown",
   "id": "f67d984d",
   "metadata": {},
   "source": [
    "Matrices:  \n",
    "$$\\begin{bmatrix} 1 & 2 & 3\\\\ a & b & c \\end{bmatrix}$$"
   ]
  },
  {
   "cell_type": "code",
   "execution_count": null,
   "id": "5b8b58ea",
   "metadata": {},
   "outputs": [],
   "source": []
  }
 ],
 "metadata": {
  "kernelspec": {
   "display_name": "Python 3 (ipykernel)",
   "language": "python",
   "name": "python3"
  },
  "language_info": {
   "codemirror_mode": {
    "name": "ipython",
    "version": 3
   },
   "file_extension": ".py",
   "mimetype": "text/x-python",
   "name": "python",
   "nbconvert_exporter": "python",
   "pygments_lexer": "ipython3",
   "version": "3.8.10"
  }
 },
 "nbformat": 4,
 "nbformat_minor": 5
}
