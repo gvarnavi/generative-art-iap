{
 "cells": [
  {
   "cell_type": "markdown",
   "id": "6d2bf969",
   "metadata": {},
   "source": [
    "# Math Debugging for KaTeX rendering"
   ]
  },
  {
   "cell_type": "markdown",
   "id": "0519243a",
   "metadata": {},
   "source": [
    "Inline math: $\\frac{a}{b}$  "
   ]
  },
  {
   "cell_type": "markdown",
   "id": "8c356092",
   "metadata": {},
   "source": [
    "Math environment:  \n",
    "\n",
    "$$\\int_{a}^b f(x) dx$$  \n",
    "\n",
    "How would inline look then?  \n",
    "$\\int_{a}^b f(x) dx$"
   ]
  },
  {
   "cell_type": "code",
   "execution_count": null,
   "id": "387a91dc",
   "metadata": {},
   "outputs": [],
   "source": []
  }
 ],
 "metadata": {
  "kernelspec": {
   "display_name": "Python 3 (ipykernel)",
   "language": "python",
   "name": "python3"
  },
  "language_info": {
   "codemirror_mode": {
    "name": "ipython",
    "version": 3
   },
   "file_extension": ".py",
   "mimetype": "text/x-python",
   "name": "python",
   "nbconvert_exporter": "python",
   "pygments_lexer": "ipython3",
   "version": "3.8.10"
  }
 },
 "nbformat": 4,
 "nbformat_minor": 5
}
