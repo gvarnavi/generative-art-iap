{
 "cells": [
  {
   "cell_type": "markdown",
   "id": "a559bea8",
   "metadata": {},
   "source": [
    "# Math Debugging for KaTeX rendering"
   ]
  },
  {
   "cell_type": "markdown",
   "id": "58449426",
   "metadata": {},
   "source": [
    "Inline math: $\\frac{a}{b}$  "
   ]
  },
  {
   "cell_type": "markdown",
   "id": "3096f09f",
   "metadata": {},
   "source": [
    "Math environment:\n",
    "$$\n",
    "    \\int_{a}^b f(x) dx\n",
    "$$"
   ]
  },
  {
   "cell_type": "markdown",
   "id": "370839b3",
   "metadata": {},
   "source": [
    "Aligned equations:\n",
    "\\begin{aligned}\n",
    "    a &= x + y \\\\\n",
    "    b &= 2x + 4y\n",
    "\\end{aligned}"
   ]
  },
  {
   "cell_type": "markdown",
   "id": "6d997cd3",
   "metadata": {},
   "source": [
    "Aligned equations (inside math environment)\n",
    "<!---\n",
    "$$\n",
    "\\begin{aligned}\n",
    "    a &= x + y \\\\\n",
    "    b &= 2x + 4y\n",
    "\\end{aligned}\n",
    "$$\n",
    "-->"
   ]
  },
  {
   "cell_type": "markdown",
   "id": "2768ad38",
   "metadata": {},
   "source": [
    "Matrices:\n",
    "\\begin{bmatrix}\n",
    "1 & 2 & 3\\\\\n",
    "a & b & c\n",
    "\\end{bmatrix}"
   ]
  },
  {
   "cell_type": "markdown",
   "id": "db271bcb",
   "metadata": {},
   "source": [
    "Matrices (inside math environment)\n",
    "<!---\n",
    "$$\n",
    "\\begin{bmatrix}\n",
    "1 & 2 & 3\\\\\n",
    "a & b & c\n",
    "\\end{bmatrix}\n",
    "$$\n",
    "-->"
   ]
  },
  {
   "cell_type": "code",
   "execution_count": null,
   "id": "626b1726",
   "metadata": {},
   "outputs": [],
   "source": []
  }
 ],
 "metadata": {
  "kernelspec": {
   "display_name": "Python 3 (ipykernel)",
   "language": "python",
   "name": "python3"
  },
  "language_info": {
   "codemirror_mode": {
    "name": "ipython",
    "version": 3
   },
   "file_extension": ".py",
   "mimetype": "text/x-python",
   "name": "python",
   "nbconvert_exporter": "python",
   "pygments_lexer": "ipython3",
   "version": "3.8.10"
  }
 },
 "nbformat": 4,
 "nbformat_minor": 5
}
