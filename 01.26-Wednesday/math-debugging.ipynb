{
 "cells": [
  {
   "cell_type": "markdown",
   "id": "769f2727",
   "metadata": {},
   "source": [
    "# Math Debugging for KaTeX rendering"
   ]
  },
  {
   "cell_type": "markdown",
   "id": "31a8d1b8",
   "metadata": {},
   "source": [
    "Inline math: $\\frac{a}{b}$  "
   ]
  },
  {
   "cell_type": "markdown",
   "id": "bcfde865",
   "metadata": {},
   "source": [
    "Math environment:\n",
    "$$\n",
    "    \\int_{a}^b f(x) dx\n",
    "$$"
   ]
  },
  {
   "cell_type": "markdown",
   "id": "c027ccaf",
   "metadata": {},
   "source": [
    "Aligned equations:\n",
    "\\begin{aligned}\n",
    "    a &= x + y \\\\\n",
    "    b &= 2x + 4y\n",
    "\\end{aligned}"
   ]
  },
  {
   "cell_type": "markdown",
   "id": "2e611a38",
   "metadata": {},
   "source": []
  },
  {
   "cell_type": "markdown",
   "id": "72775872",
   "metadata": {},
   "source": [
    "Matrices:\n",
    "\\begin{bmatrix}\n",
    "1 & 2 & 3\\\\\n",
    "a & b & c\n",
    "\\end{bmatrix}"
   ]
  },
  {
   "cell_type": "markdown",
   "id": "03810508",
   "metadata": {},
   "source": []
  },
  {
   "cell_type": "code",
   "execution_count": null,
   "id": "1cc236bc",
   "metadata": {},
   "outputs": [],
   "source": []
  }
 ],
 "metadata": {
  "kernelspec": {
   "display_name": "Python 3 (ipykernel)",
   "language": "python",
   "name": "python3"
  },
  "language_info": {
   "codemirror_mode": {
    "name": "ipython",
    "version": 3
   },
   "file_extension": ".py",
   "mimetype": "text/x-python",
   "name": "python",
   "nbconvert_exporter": "python",
   "pygments_lexer": "ipython3",
   "version": "3.8.10"
  }
 },
 "nbformat": 4,
 "nbformat_minor": 5
}
