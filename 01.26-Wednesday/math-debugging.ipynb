{
 "cells": [
  {
   "cell_type": "markdown",
   "id": "a26cc8de",
   "metadata": {},
   "source": [
    "### Math Debugging for KaTeX rendering"
   ]
  },
  {
   "cell_type": "markdown",
   "id": "0046c729",
   "metadata": {},
   "source": [
    "Inline math: $\\frac{a}{b}$  "
   ]
  },
  {
   "cell_type": "markdown",
   "id": "61f262c6",
   "metadata": {},
   "source": [
    "Math environment:  \n",
    "\n",
    "$$\\int_{a}^b f(x) dx$$  "
   ]
  },
  {
   "cell_type": "markdown",
   "id": "b50d0bb5",
   "metadata": {},
   "source": [
    "Matrices:  \n",
    "\n",
    "$$\\begin{bmatrix} 1 & 2 & 3\\\\ a & b & c \\end{bmatrix}$$"
   ]
  },
  {
   "cell_type": "markdown",
   "id": "258ea9b2",
   "metadata": {},
   "source": [
    "Aligned:  \n",
    "\n",
    "$$ \\begin{aligned} a &= x+y \\\\\n",
    "b &= 4x +3y \\end{aligned} $$"
   ]
  },
  {
   "cell_type": "markdown",
   "id": "eeca820a",
   "metadata": {},
   "source": [
    "Takeaway: Somehow linebreaks (i.e. carriage returns) inside math blocks break the rendering.."
   ]
  },
  {
   "cell_type": "code",
   "execution_count": null,
   "id": "733e74f5",
   "metadata": {},
   "outputs": [],
   "source": []
  }
 ],
 "metadata": {
  "kernelspec": {
   "display_name": "Python 3 (ipykernel)",
   "language": "python",
   "name": "python3"
  },
  "language_info": {
   "codemirror_mode": {
    "name": "ipython",
    "version": 3
   },
   "file_extension": ".py",
   "mimetype": "text/x-python",
   "name": "python",
   "nbconvert_exporter": "python",
   "pygments_lexer": "ipython3",
   "version": "3.8.10"
  }
 },
 "nbformat": 4,
 "nbformat_minor": 5
}
