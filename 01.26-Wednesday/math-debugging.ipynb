{
 "cells": [
  {
   "cell_type": "markdown",
   "id": "d77cb74b",
   "metadata": {},
   "source": [
    "# Math Debugging for KaTeX rendering"
   ]
  },
  {
   "cell_type": "markdown",
   "id": "2afd59ad",
   "metadata": {},
   "source": [
    "Inline math: $\\frac{a}{b}$  "
   ]
  },
  {
   "cell_type": "markdown",
   "id": "1fc38aef",
   "metadata": {},
   "source": [
    "Math environment:\n",
    "$$\n",
    "    \\int_{a}^b f(x) dx\n",
    "$$"
   ]
  },
  {
   "cell_type": "markdown",
   "id": "23e898de",
   "metadata": {},
   "source": []
  },
  {
   "cell_type": "markdown",
   "id": "1359fa12",
   "metadata": {},
   "source": []
  },
  {
   "cell_type": "markdown",
   "id": "d98a38a5",
   "metadata": {},
   "source": []
  },
  {
   "cell_type": "markdown",
   "id": "0ad7acca",
   "metadata": {},
   "source": []
  },
  {
   "cell_type": "code",
   "execution_count": null,
   "id": "a07bd9fd",
   "metadata": {},
   "outputs": [],
   "source": []
  }
 ],
 "metadata": {
  "kernelspec": {
   "display_name": "Python 3 (ipykernel)",
   "language": "python",
   "name": "python3"
  },
  "language_info": {
   "codemirror_mode": {
    "name": "ipython",
    "version": 3
   },
   "file_extension": ".py",
   "mimetype": "text/x-python",
   "name": "python",
   "nbconvert_exporter": "python",
   "pygments_lexer": "ipython3",
   "version": "3.8.10"
  }
 },
 "nbformat": 4,
 "nbformat_minor": 5
}
