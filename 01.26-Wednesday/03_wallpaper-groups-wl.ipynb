{
 "cells": [
  {
   "cell_type": "markdown",
   "metadata": {},
   "source": [
    "# Wallpaper Groups\n",
    "\n",
    "So far, we've examined a strange attractors exhibiting specific point group symmetries. We can go further by enforcing our functions also preserve translational symmetry and allowing for glide planes.\n",
    "\n",
    "We will differentiate between two fundamental lattice types in 2D: square and hexagonal"
   ]
  },
  {
   "cell_type": "code",
   "execution_count": null,
   "metadata": {},
   "outputs": [],
   "source": [
    "latticeVectors[\"square\"] = {{1, 0}, {0, 1}};\n",
    "latticeVectors[\"hexagonal\"] = {{1, 0}, {-1/2, Sqrt[3]/2}};\n",
    "reciprocalVectors[\"square\"] = \n",
    "  2 \\[Pi] Transpose[Inverse[latticeVectors[\"square\"]]];\n",
    "reciprocalVectors[\"hexagonal\"] = \n",
    "  2 \\[Pi] Transpose[Inverse[latticeVectors[\"hexagonal\"]]];"
   ]
  },
  {
   "cell_type": "markdown",
   "metadata": {},
   "source": [
    "Let's ensure we got these correct by plotting the lattice points (visual debugging):"
   ]
  },
  {
   "cell_type": "code",
   "execution_count": null,
   "metadata": {
    "scrolled": true
   },
   "outputs": [],
   "source": [
    "Table[\n",
    "Graphics[Point[Tuples[Range[-2,2],2].latticeVectors[latticeType]]],\n",
    "{latticeType,{\"square\",\"hexagonal\"}}]"
   ]
  },
  {
   "cell_type": "markdown",
   "metadata": {},
   "source": [
    "<div class=\"alert alert-block alert-warning\">\n",
    "<b>Note: </b>\n",
    "Keen readers will be alarmed we've missed three out of the five Bravais lattice in 2D. Rest assured, we will recover these using our translation and symmetry group definitions below\n",
    "</div>"
   ]
  },
  {
   "cell_type": "markdown",
   "metadata": {},
   "source": [
    "## Symmetries\n",
    "### Translation Group\n",
    "\n",
    "We can ensure a function is translationally invariant, by using the periodic sinusoidal functions `Sin` and `Cos` as $f_1,f_2,f_3,f_4$ according to:\n",
    "\n",
    "$$ \\begin{pmatrix}x \\\\ y \\end{pmatrix} =\n",
    "\\begin{pmatrix}\n",
    "a f_1\\left[\\sum_{v \\in V} f_2[(x,y).v] + (x,y).v \\right] \\\\\n",
    "b f_3\\left[\\sum_{v \\in V} f_4[(x,y).v] + (x,y).v \\right]\n",
    "\\end{pmatrix}\n",
    "$$\n",
    "\n",
    "where $V$ is any finite subset of lattice vectors "
   ]
  },
  {
   "cell_type": "code",
   "execution_count": null,
   "metadata": {},
   "outputs": [],
   "source": [
    "translationGroup[latticeVectors_][a_, b_, {f1_, f2_, f3_, f4_}][{x_, y_}] :=\n",
    " {\n",
    "  a f1[Sum[f2[{x, y} . v] + {x, y} . v, {v, latticeVectors}]],\n",
    "  b f3[Sum[f4[{x, y} . v] + {x, y} . v, {v, latticeVectors}]]\n",
    " }"
   ]
  },
  {
   "cell_type": "markdown",
   "metadata": {},
   "source": [
    "We can check this is indeed translationally invariant:"
   ]
  },
  {
   "cell_type": "code",
   "execution_count": null,
   "metadata": {},
   "outputs": [],
   "source": [
    "FullSimplify[\n",
    " translationGroup[latticeVectors[\"hexagonal\"]][a, b, {Sin, Cos, Cos, Sin}]\n",
    " [{x, y}]]\n",
    " \n",
    "FullSimplify[\n",
    " translationGroup[latticeVectors[\"hexagonal\"]][a,b, {Sin, Cos, Cos, Sin}]\n",
    " [{x, y} + RandomInteger[{-4, 4}, 2].reciprocalVectors[\"hexagonal\"]]]"
   ]
  },
  {
   "cell_type": "markdown",
   "metadata": {},
   "source": [
    "### Point Group\n",
    "In 2D, we only have cylic ($C_n$) and dihedral ($D_n$) symmetries:"
   ]
  },
  {
   "cell_type": "code",
   "execution_count": null,
   "metadata": {},
   "outputs": [],
   "source": [
    "cyclic[n_] := \n",
    " With[{base = \n",
    " {{Cos[2 Pi/n], -Sin[2 Pi/n]}, {Sin[2 Pi/n],Cos[2 Pi/n]}}},\n",
    "  AffineTransform[MatrixPower[base, #]] & /@ Range[n]]\n",
    "  \n",
    "cyclic[4]"
   ]
  },
  {
   "cell_type": "code",
   "execution_count": null,
   "metadata": {},
   "outputs": [],
   "source": [
    "dihedral[n_] := \n",
    " With[\n",
    " {base = {{Cos[2 Pi/n], -Sin[2 Pi/n]}, {Sin[2 Pi/n],Cos[2 Pi/n]}}},\n",
    "  Union[cyclic[n], \n",
    "   AffineTransform[{{-1, 0}, {0, 1}} . MatrixPower[base, #]] & /@ \n",
    "    Range[n]]]\n",
    "    \n",
    "dihedral[4]"
   ]
  },
  {
   "cell_type": "markdown",
   "metadata": {},
   "source": [
    "### 'Extra' Symmetries\n",
    "Plane groups can also exhibit `glide` symmetry, a combination of translation and reflection.\n",
    "\n",
    "We define these explicitly for the 17 wallpaper groups:"
   ]
  },
  {
   "cell_type": "code",
   "execution_count": null,
   "metadata": {},
   "outputs": [],
   "source": [
    "planeGroupSymmetries =\n",
    "  <|\"p1\" -> <|\"Lattice\" -> latticeVectors[\"square\"],\n",
    "     \"Group Symmetries\" -> cyclic[1],\n",
    "     \"Extra Symmetries\" -> {}|>,\n",
    "   \n",
    "   \"p2\" -> <|\"Lattice\" -> latticeVectors[\"square\"],\n",
    "     \"Group Symmetries\" -> cyclic[2], \"Extra Symmetries\" -> {}|>,\n",
    "   \n",
    "   \"p1m1\" -> <|\"Lattice\" -> latticeVectors[\"square\"],\n",
    "     \"Group Symmetries\" -> dihedral[1], \n",
    "     \"Extra Symmetries\" -> {ReflectionTransform[{0, 1}]}|>,\n",
    "   \n",
    "   \"p1g1\" -> <|\"Lattice\" -> latticeVectors[\"square\"],\n",
    "     \"Group Symmetries\" -> dihedral[1], \n",
    "     \"Extra Symmetries\" -> {TranslationTransform[{Pi, 0}]@*\n",
    "        ReflectionTransform[{0, 1}]}|>,\n",
    "   \n",
    "   \"c1m1\" -> <|\"Lattice\" -> latticeVectors[\"square\"],\n",
    "     \"Group Symmetries\" -> dihedral[1], \n",
    "     \"Extra Symmetries\" -> {ReflectionTransform[{0, 1}], \n",
    "       TranslationTransform[{Pi, Pi}]@*\n",
    "        ReflectionTransform[{0, 1}]}|>,\n",
    "   \n",
    "   \"p2mm\" -> <|\"Lattice\" -> latticeVectors[\"square\"],\n",
    "     \"Group Symmetries\" -> dihedral[2], \n",
    "     \"Extra Symmetries\" -> {ReflectionTransform[{0, 1}], \n",
    "       ReflectionTransform[{1, 0}]}|>,\n",
    "   \n",
    "   \"p2gg\" -> <|\"Lattice\" -> latticeVectors[\"square\"],\n",
    "     \"Group Symmetries\" -> dihedral[2], \n",
    "     \"Extra Symmetries\" -> {TranslationTransform[{Pi, Pi}]@*\n",
    "        ReflectionTransform[{0, 1}], \n",
    "       TranslationTransform[{Pi,Pi}]@*\n",
    "        ReflectionTransform[{1, 0}]}|>,\n",
    "   \n",
    "   \"p2mg\" -> <|\"Lattice\" -> latticeVectors[\"square\"],\n",
    "     \"Group Symmetries\" -> dihedral[2], \n",
    "     \"Extra Symmetries\" -> {TranslationTransform[{Pi, 0}]@*\n",
    "        ReflectionTransform[{0, 1}], ReflectionTransform[{1, 0}]}|>,\n",
    "   \n",
    "   \"c2mm\" -> <|\n",
    "     <|\"Lattice\" -> latticeVectors[\"square\"],\n",
    "      \"Group Symmetries\" -> dihedral[2], \n",
    "      \"Extra Symmetries\" -> {ReflectionTransform[{1, 0}], \n",
    "        ReflectionTransform[{0, 1}], \n",
    "        TranslationTransform[{Pi, Pi}]@*\n",
    "         ReflectionTransform[{0, 1}], \n",
    "        TranslationTransform[{Pi, Pi}]@*\n",
    "         ReflectionTransform[{1, 0}]}|>|>,\n",
    "   \n",
    "   \"p4\" -> <|\"Lattice\" -> latticeVectors[\"square\"],\n",
    "     \"Group Symmetries\" -> cyclic[4], \"Extra Symmetries\" -> {}|>,\n",
    "   \n",
    "   \"p4mm\" -> <|\"Lattice\" -> latticeVectors[\"square\"],\n",
    "     \"Group Symmetries\" -> dihedral[4], \n",
    "     \"Extra Symmetries\" -> {ReflectionTransform[{0, 1}]}|>,\n",
    "   \n",
    "   \"p4gm\" -> <|\"Lattice\" -> latticeVectors[\"square\"],\n",
    "     \"Group Symmetries\" -> dihedral[4], \n",
    "     \"Extra Symmetries\" -> {TranslationTransform[{Pi, 0}]@*\n",
    "        ReflectionTransform[{0, 1}]}|>,\n",
    "   \n",
    "   \"p3\" -> <|\"Lattice\" -> latticeVectors[\"hexagonal\"],\n",
    "     \"Group Symmetries\" -> cyclic[3], \"Extra Symmetries\" -> {}|>,\n",
    "   \n",
    "   \"p3m1\" -> <|\"Lattice\" -> latticeVectors[\"hexagonal\"],\n",
    "     \"Group Symmetries\" -> dihedral[3], \n",
    "     \"Extra Symmetries\" -> {ReflectionTransform[{1, 0}]}|>,\n",
    "   \n",
    "   \"p31m\" -> <|\"Lattice\" -> latticeVectors[\"hexagonal\"],\n",
    "     \"Group Symmetries\" -> dihedral[3], \n",
    "     \"Extra Symmetries\" -> {ReflectionTransform[{0, 1}]}|>,\n",
    "   \n",
    "   \"p6\" -> <|\"Lattice\" -> latticeVectors[\"hexagonal\"],\n",
    "     \"Group Symmetries\" -> cyclic[6], \"Extra Symmetries\" -> {}|>,\n",
    "   \n",
    "   \"p6m\" -> <|\"Lattice\" -> latticeVectors[\"hexagonal\"],\n",
    "     \"Group Symmetries\" -> dihedral[6], \n",
    "     \"Extra Symmetries\" -> {ReflectionTransform[{0, 1}]}|>\n",
    "   |>;"
   ]
  },
  {
   "cell_type": "markdown",
   "metadata": {},
   "source": [
    "For example, for wallpaper group p4gm, we consider the additional glide plane:"
   ]
  },
  {
   "cell_type": "code",
   "execution_count": null,
   "metadata": {},
   "outputs": [],
   "source": [
    "planeGroupSymmetries[\"p4gm\"]"
   ]
  },
  {
   "cell_type": "markdown",
   "metadata": {},
   "source": [
    "### Function Equivariance\n",
    "We're looking to generate strange attractor functions which, when nested, produce the desired plane-group symmetry. We therefore need to define what it means for a function to have a particular symmetry.\n",
    "\n",
    "We'll define a function `f` to be **equivariant** with respect to symmetry $\\sigma$ if $f(\\sigma(x)) = \\sigma(f(x))$, i.e. the function and the symmetry operation commute.\n",
    "\n",
    "Putting this all-together, we arrive at our `wallpaperGroup` function, which takes the amplitudes, `a`, `b`, periodic functions $f_1,f_2,f_3,f_4$, and the wallpaper group - and returns a functional form exhibiting that symmetry: "
   ]
  },
  {
   "cell_type": "code",
   "execution_count": null,
   "metadata": {},
   "outputs": [],
   "source": [
    "Clear[wallpaperGroup]\n",
    "wallpaperGroup[wallpaper_][a_, b_, {f1_, f2_, f3_, f4_}][r_] := \n",
    " wallpaperGroup[wallpaper][a, b, {f1, f2, f3, f4}][r] = With[{\n",
    "    latticeVectors  = planeGroupSymmetries[wallpaper, \"Lattice\"],\n",
    "    groupSymmetries = planeGroupSymmetries[wallpaper, \"Group Symmetries\"], \n",
    "    extraSymmetries = planeGroupSymmetries[wallpaper, \"Extra Symmetries\"]\n",
    "    },\n",
    "   FullSimplify[\n",
    "    Sum[translationGroup[latticeVectors][a, b, {f1, f2, f3, f4}][\n",
    "        g[r]], {g, groupSymmetries}]/Length[groupSymmetries]\n",
    "    +\n",
    "     Sum[translationGroup[latticeVectors][a, \n",
    "         b, {f1, f2, f3, f4}][(\\[Sigma]@*g)[\n",
    "         r]]/(Length[extraSymmetries] Length[groupSymmetries]), {g, \n",
    "       groupSymmetries}, {\\[Sigma], extraSymmetries}]]\n",
    "]\n",
    "\n",
    "wallpaperGroup[\"p4gm\"][a, b, {Sin,Cos,Cos,Sin}][{x,y}]"
   ]
  },
  {
   "cell_type": "markdown",
   "metadata": {},
   "source": [
    "## Visualization Scheme\n",
    "Now that we have our general symmetry-preserving chaotic attractors, we can follow a similar scheme as in the strange attractor notebook to visualize these.\n",
    "\n",
    "To extenuate the fractal nature of these maps, we take this opportunity to demonstrate another visualization scheme called `Orbit Traps`.\n",
    "\n",
    "According to [Wikipedia](https://en.wikipedia.org/wiki/Orbit_trap):\n",
    ">An orbit trap is a method of colouring fractal images based upon how close an iterative function, used to create the fractal, approaches a geometric shape, called a \"trap\".\n",
    "\n",
    "We will use point traps. In order to preserve a wallpaper groups' periodic nature, we will use periodic point traps as-well."
   ]
  },
  {
   "cell_type": "code",
   "execution_count": null,
   "metadata": {},
   "outputs": [],
   "source": [
    "orbitTraps[radius_] := \n",
    "<|\n",
    "  1 -> {{0., 0.}}, \n",
    "  2 -> CirclePoints[2/Sqrt[3] radius, 3], \n",
    "  3 -> CirclePoints[Sqrt[2] radius, 4], \n",
    "  4 -> Prepend[CirclePoints[{2 radius, Pi/6}, 6], {0., 0.}]\n",
    "|>\n",
    "\n",
    "Multicolumn[\n",
    " Table[Graphics[Circle /@ orbitTraps[1][i], Axes -> True, \n",
    "   Ticks -> None,ImageSize->100], {i, 4}], 2, Frame -> All]"
   ]
  },
  {
   "cell_type": "markdown",
   "metadata": {},
   "source": [
    "Essentially, we'll keep iterating our wallpaper strange attractor - until our function 'falls' in one of our traps, and then return the normalized distance of that point to the center of the trap "
   ]
  },
  {
   "cell_type": "markdown",
   "metadata": {},
   "source": [
    "## Compiled Strange Attractors\n",
    "Like before, we'll compile our iteration code in `C` to get a reasonable speed-up!\n",
    "\n",
    "We define our main logic as a function, which takes our lattice function, and our particular orbit trap:"
   ]
  },
  {
   "cell_type": "code",
   "execution_count": null,
   "metadata": {},
   "outputs": [],
   "source": [
    "compilerFunction[latticeFunc_, costFunc_] := Compile[{\n",
    "   \n",
    "   {xmin, _Real}, {xmax, _Real},\n",
    "   {ymin, _Real}, {ymax, _Real},\n",
    "   {delta, _Real},\n",
    "   {itmax, _Integer}, {escapeRadius, _Real},\n",
    "   {a, _Real}, {b, _Real}},\n",
    "  \n",
    "  Block[{iters, x, y, cost},\n",
    "   Table[\n",
    "    iters = 0; {x, y} = {rx, ry}; cost = 1.0;\n",
    "    \n",
    "    While[(iters < itmax) && (cost >= 1),\n",
    "     iters++;\n",
    "     {x, y} = latticeFunc;\n",
    "     cost = costFunc;\n",
    "     ];\n",
    "    \n",
    "    cost\n",
    "    ,\n",
    "    {rx, xmin, xmax, delta},\n",
    "    {ry, ymin, ymax, delta}]],\n",
    "  \n",
    "  CompilationTarget -> \"C\", RuntimeOptions -> \"Speed\", \n",
    "  CompilationOptions -> {\"ExpressionOptimization\" -> False}]"
   ]
  },
  {
   "cell_type": "markdown",
   "metadata": {},
   "source": [
    "Pre-compute all $f_1,f_2,f_3,f_4$ function permutations for each wallpaper group:"
   ]
  },
  {
   "cell_type": "code",
   "execution_count": null,
   "metadata": {},
   "outputs": [],
   "source": [
    "sinusoids = Tuples[{Sin, Cos}, 4];\n",
    "precomputedLatticeFunctions = \n",
    "   Association[\n",
    "    Table[i -> \n",
    "      DeleteCases[\n",
    "       Association[\n",
    "        Table[j -> \n",
    "          wallpaperGroup[i][a, b, sinusoids[[j]]][{x, y}], {j, 16}]], \n",
    "          {0, 0} | {0, _} | {_, 0}], \n",
    "          {i,Keys[planeGroupSymmetries]}]];"
   ]
  },
  {
   "cell_type": "markdown",
   "metadata": {},
   "source": [
    "Pre-compute all orbit trap functions:"
   ]
  },
  {
   "cell_type": "code",
   "execution_count": null,
   "metadata": {},
   "outputs": [],
   "source": [
    "precomputedCostFunctions = \n",
    " Association[\n",
    "  Table[i -> \n",
    "    Min[Table[\n",
    "       Norm[pt escapeRadius - {x, y}], {pt, orbitTraps[1][i]}]]/\n",
    "     escapeRadius, {i, 4}]];"
   ]
  },
  {
   "cell_type": "markdown",
   "metadata": {},
   "source": [
    "And finally, write a wrapper function to compile the iterator for a particular wallpaper group using a `RandomChoice` of $f_1,f_2,f_3,f_4$"
   ]
  },
  {
   "cell_type": "code",
   "execution_count": null,
   "metadata": {},
   "outputs": [],
   "source": [
    "compilerWrapper[planeGroup_, orbitTrap_] := \n",
    " compilerFunction[\n",
    "  RandomChoice[precomputedLatticeFunctions[planeGroup]], \n",
    "  precomputedCostFunctions[orbitTrap]\n",
    "  ]\n",
    "\n",
    "cf[\"p2mg\"] = compilerWrapper[\"p2mg\", 1]"
   ]
  },
  {
   "cell_type": "markdown",
   "metadata": {},
   "source": [
    "## Visualization Function\n",
    "Finally, we write a visualization function, using some built-in color schemes:"
   ]
  },
  {
   "cell_type": "code",
   "execution_count": null,
   "metadata": {},
   "outputs": [],
   "source": [
    "Clear[visualizeWallpaper]\n",
    "visualizeWallpaper[wallpaperGroup_, orbitTrap_ , colFunction_] := \n",
    "With[\n",
    "{\n",
    "iterator=compilerWrapper[wallpaperGroup, orbitTrap],\n",
    "range = N[4 Pi]\n",
    "},\n",
    "  ArrayPlot[\n",
    "   Log[iterator[-range, range, -range, range, .1, 100, 2.5, \n",
    "      RandomReal[{0., 3.}], RandomReal[{0., 3.}]] + 1], \n",
    "   ColorFunction -> colFunction, ImagePadding -> None, \n",
    "   PlotRangePadding -> None, ImageSize -> 200,Frame -> False, \n",
    "   PlotLabel -> Style[wallpaperGroup, 16, Black]]\n",
    "]"
   ]
  },
  {
   "cell_type": "code",
   "execution_count": null,
   "metadata": {},
   "outputs": [],
   "source": [
    "visualizeWallpaper[\"p3m1\", 2, \"GrayYellowTones\"]"
   ]
  },
  {
   "cell_type": "code",
   "execution_count": null,
   "metadata": {},
   "outputs": [],
   "source": [
    "visualizeWallpaper[\"c2mm\", 4, ColorData[{\"AvocadoColors\",\"Reversed\"}]]"
   ]
  },
  {
   "cell_type": "markdown",
   "metadata": {},
   "source": [
    "## Your turn!\n",
    "Play around with some of the wallpaper groups and orbit traps.  \n",
    "As a reminder, here are the 17 wallpaper group names, and some built-in colorfunctions:"
   ]
  },
  {
   "cell_type": "code",
   "execution_count": null,
   "metadata": {},
   "outputs": [],
   "source": [
    "Keys[planeGroupSymmetries]"
   ]
  },
  {
   "cell_type": "code",
   "execution_count": null,
   "metadata": {},
   "outputs": [],
   "source": [
    "ColorData[\"Gradients\"]"
   ]
  },
  {
   "cell_type": "code",
   "execution_count": null,
   "metadata": {},
   "outputs": [],
   "source": []
  }
 ],
 "metadata": {
  "kernelspec": {
   "display_name": "Wolfram Language 12.2",
   "language": "Wolfram Language",
   "name": "wolframlanguage12.2"
  },
  "language_info": {
   "codemirror_mode": "mathematica",
   "file_extension": ".m",
   "mimetype": "application/vnd.wolfram.m",
   "name": "Wolfram Language",
   "pygments_lexer": "mathematica",
   "version": "12.0"
  }
 },
 "nbformat": 4,
 "nbformat_minor": 4
}
