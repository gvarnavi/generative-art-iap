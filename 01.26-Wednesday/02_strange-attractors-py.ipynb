{
 "cells": [
  {
   "cell_type": "markdown",
   "metadata": {
    "colab_type": "text",
    "id": "LUbV7PZbOShX"
   },
   "source": [
    "# Strange Attractors\n",
    "\"[They're] a little like old Uncle Jake, who is a bit eccentric. You’re not really surprised by what Uncle Jake does, but it’s still difficult to understand why he does what he does. But by calling him eccentric, you feel comfortable with his actions.\" *~ Symmetry in Chaos, Field and Golubitsky*\n",
    "\n",
    "---\n",
    "\n",
    "An attractor is a state toward which a dynamical system tends to evolve, and it can take various forms such as a fixed point or a limit cycle. An attractor is called **strange** if it has a fractal structure, which often arises in chaotic systems. Although a strange attractor is locally unstable, meaning nearby points diverge from one another due to sensitive dependence on initial conditions, it is globally stable in that these points never leave the attractor. These attractive orbits can be quite... attractive!"
   ]
  },
  {
   "cell_type": "markdown",
   "metadata": {
    "colab_type": "text",
    "id": "h6K4FcfeTm--"
   },
   "source": [
    "## Discrete-time systems\n",
    "\n",
    "First, let's look at some artistic trajectories that arise in discrete-time chaotic dynamical systems. We start by defining some library imports we will need in this notebook."
   ]
  },
  {
   "cell_type": "code",
   "execution_count": null,
   "metadata": {
    "colab": {},
    "colab_type": "code",
    "id": "L_pkRIE6Eim0"
   },
   "outputs": [],
   "source": [
    "import numpy as np\n",
    "import ipywidgets as widgets\n",
    "import gc\n",
    "from numba import njit\n",
    "from strange_attractors_utils import *\n",
    "from scipy.integrate import solve_ivp\n",
    "from IPython.display import HTML"
   ]
  },
  {
   "cell_type": "markdown",
   "metadata": {
    "colab_type": "text",
    "id": "BlkuuLdx1awz"
   },
   "source": [
    "One popular example is the family of **De Jong attractors**, which are given by the coupled system of equations:\n",
    "\n",
    "$$x_{n+1} = \\text{sin}(ay_n) - \\text{cos}(bx_n)$$\n",
    "\n",
    "$$y_{n+1} = \\text{sin}(cx_n) - \\text{cos}(dy_n)$$\n",
    "\n",
    "Let's write a function ```dejong``` that takes as input the current state as an array of $(x, y)$ coordinates, and a tuple of the model parameters $(a,b,c,d)$, and computes a new state array following the De Jong map.\n",
    "\n"
   ]
  },
  {
   "cell_type": "code",
   "execution_count": null,
   "metadata": {
    "colab": {},
    "colab_type": "code",
    "id": "e6PGQcsbTqbB"
   },
   "outputs": [],
   "source": [
    "@njit\n",
    "def dejong(state, args):\n",
    "    # unpack system parameters\n",
    "    a, b, c, d = args\n",
    "    \n",
    "    # unpack the state vector\n",
    "    x, y = state\n",
    "    \n",
    "    # map to the new state\n",
    "    return np.array([np.sin(a*y) - np.cos(b*x),\n",
    "                     np.sin(c*x) - np.cos(d*y)])"
   ]
  },
  {
   "cell_type": "code",
   "execution_count": null,
   "metadata": {},
   "outputs": [],
   "source": [
    "state = np.array([-0.3, 0.2])\n",
    "args = (-2., -2., -1.2, 2.)\n",
    "dejong(state, args)"
   ]
  },
  {
   "cell_type": "markdown",
   "metadata": {
    "colab_type": "text",
    "id": "PwxP89ERV_Xx"
   },
   "source": [
    "To visualize the orbit, we'll make a two-dimensional plot of the attractor that is colored by the number of times each point was visited over the course of many iterations. Because we are only interested in plotting the attracting orbit, we will create a function ```calc_orbit``` to iterate through and discard an initial transient of $2000$ iterations, then output only the subsequent iterations up to a maximum $N$."
   ]
  },
  {
   "cell_type": "code",
   "execution_count": null,
   "metadata": {
    "colab": {},
    "colab_type": "code",
    "id": "wRt9xCAHUBJL"
   },
   "outputs": [],
   "source": [
    "@njit\n",
    "def calc_orbit(out, fmap, s0, args, warmup=2000):\n",
    "    ''' Iterate the function fmap through a transient of warmup iterations and return an array of the final orbit.\n",
    "        Inputs:\n",
    "            out - output array to store final orbit\n",
    "            fmap - function of the iterative map\n",
    "            x0 - initial value\n",
    "            args - additional arguments taken by fmap\n",
    "            warmup - number of transient iterations\n",
    "    '''\n",
    "    # iterate through transient behavior\n",
    "    s = s0\n",
    "    for i in range(warmup):\n",
    "        s = fmap(s, args)\n",
    "        \n",
    "    # output long-term behavior\n",
    "    out[0,:] = fmap(s, args)\n",
    "    for i in range(len(out)-1):\n",
    "        out[i+1,:] = fmap(out[i,:], args)"
   ]
  },
  {
   "cell_type": "code",
   "execution_count": null,
   "metadata": {},
   "outputs": [],
   "source": [
    "N = int(5e6)\n",
    "s0 = np.array([-0.3, 0.2])\n",
    "args = (-2., -2., -1.2, 2.)\n",
    "out = np.zeros((N, len(s0)))\n",
    "\n",
    "calc_orbit(out, dejong, s0, args)\n",
    "print(out[-1,:])"
   ]
  },
  {
   "cell_type": "markdown",
   "metadata": {
    "colab_type": "text",
    "id": "sZlrGeoU6i_n"
   },
   "source": [
    "The visited states (coordinates) will generally be continuous numbers, but to form an image colored by visitation density, we'll need to bin the points into discrete image pixels. Thus, we define a function ```bin_data``` to bin the continuous $x$ and $y$ coordinates generated by ```calc_orbit``` into discrete image pixels."
   ]
  },
  {
   "cell_type": "code",
   "execution_count": null,
   "metadata": {
    "colab": {},
    "colab_type": "code",
    "id": "ltYYR9Ts611G"
   },
   "outputs": [],
   "source": [
    "@njit\n",
    "def bin_data(out, z, n):\n",
    "    ''' Map a continuous coordinate to a discrete point on a grid of length n.\n",
    "        Inputs:\n",
    "            out - output array of pixels\n",
    "            z - array of coordinate values\n",
    "            n - length of grid\n",
    "    '''\n",
    "    out[:] = (z - z.min())/(z.max() - z.min())*(n-1)"
   ]
  },
  {
   "cell_type": "code",
   "execution_count": null,
   "metadata": {},
   "outputs": [],
   "source": [
    "nx, ny = 500, 500\n",
    "bins = np.empty(out.shape, dtype=np.int64)\n",
    "bin_data(bins[:,0], out[:,0], nx)\n",
    "bin_data(bins[:,1], out[:,1], ny)\n",
    "print(bins[-1,:])"
   ]
  },
  {
   "cell_type": "markdown",
   "metadata": {
    "colab_type": "text",
    "id": "zcwA7vI47bpT"
   },
   "source": [
    "We want to color our pixels based on visitation density. The function ```get_counts``` takes our list of bins and counts the number of occurences of each pixel. Because the counts tend to be very big in some regions, and zero in others, we return the base-2 logarithm of the counts instead of the pure counts. This will also improve the contrast of our final image."
   ]
  },
  {
   "cell_type": "code",
   "execution_count": null,
   "metadata": {},
   "outputs": [],
   "source": [
    "def get_counts(bins):\n",
    "    ''' Compute number of occurrences of each binned coordinate value.\n",
    "        Inputs:\n",
    "            bins - array of visited pixels\n",
    "        Outputs:\n",
    "            counts - logarithm of counts\n",
    "    '''\n",
    "    inverse, counts = np.unique(bins[:,0] + bins[:,1]*1j, return_counts=True, return_inverse=True)[1:]\n",
    "    counts = np.log2(1 + counts[inverse])\n",
    "    return counts"
   ]
  },
  {
   "cell_type": "code",
   "execution_count": null,
   "metadata": {},
   "outputs": [],
   "source": [
    "counts = get_counts(bins)\n",
    "print(counts)"
   ]
  },
  {
   "cell_type": "markdown",
   "metadata": {
    "colab_type": "text",
    "id": "2FTDVj069jg0"
   },
   "source": [
    "Finally, we'll define a function ```make_map``` to populate each image pixel with the corresponding number of counts."
   ]
  },
  {
   "cell_type": "code",
   "execution_count": null,
   "metadata": {
    "colab": {},
    "colab_type": "code",
    "id": "fizDD7g-9nun"
   },
   "outputs": [],
   "source": [
    "@njit\n",
    "def make_map(image, bins, counts):\n",
    "    ''' Populate image pixels with corresponding counts.\n",
    "        Inputs:\n",
    "            image - two-dimensional image array\n",
    "            bins - array of visited pixels\n",
    "            counts - array of counts for each pixel\n",
    "    '''\n",
    "    for i in range(len(bins)):\n",
    "        image[bins[i,0], bins[i,1]] = counts[i]"
   ]
  },
  {
   "cell_type": "code",
   "execution_count": null,
   "metadata": {},
   "outputs": [],
   "source": [
    "image = np.zeros((nx, ny), dtype=np.int64)\n",
    "make_map(image, bins, counts)\n",
    "print('min: ', image.min(), 'max: ', image.max(), 'mean: ', image.mean())"
   ]
  },
  {
   "cell_type": "markdown",
   "metadata": {},
   "source": [
    "Now let's package all these steps into a function ```make_attractor``` to repurpose many times for various two-dimensional systems."
   ]
  },
  {
   "cell_type": "code",
   "execution_count": null,
   "metadata": {
    "colab": {},
    "colab_type": "code",
    "id": "40SI1xov_Vm0"
   },
   "outputs": [],
   "source": [
    "def make_attractor(image, fmap, s0, args, N, warmup=2000):\n",
    "    ''' Make an image colored by each point's visitation density.\n",
    "        Inputs:\n",
    "            image - output image\n",
    "            fmap - function of the iterative map\n",
    "            x0 - initial value\n",
    "            args - additional arguments taken by fmap\n",
    "            N -  total number of iterations\n",
    "            warmup - number of transient iterations\n",
    "    '''\n",
    "    # compute orbit\n",
    "    out = np.zeros((N, len(s0)))\n",
    "    calc_orbit(out, fmap, s0, args, warmup=warmup)\n",
    "\n",
    "    # format data to grid\n",
    "    nx, ny = image.shape\n",
    "    bins = np.zeros(out.shape, dtype=np.int64)\n",
    "    bin_data(bins[:,0], out[:,0], nx)\n",
    "    bin_data(bins[:,1], out[:,1], ny)\n",
    "\n",
    "    # populate image by visitation density\n",
    "    counts = get_counts(bins)\n",
    "    make_map(image, bins, counts)"
   ]
  },
  {
   "cell_type": "code",
   "execution_count": null,
   "metadata": {},
   "outputs": [],
   "source": [
    "nx, ny = 500, 500\n",
    "image = np.zeros((nx, ny), dtype=np.int64)\n",
    "\n",
    "N = int(5e6)\n",
    "s0 = np.array([-0.3, 0.2])\n",
    "args = (-2., -2., -1.2, 2.)\n",
    "make_attractor(image, dejong, s0, args, N)\n",
    "\n",
    "# display image\n",
    "f, ax = plot_attractor(image, palette='inferno');"
   ]
  },
  {
   "cell_type": "markdown",
   "metadata": {},
   "source": [
    "You can change the color palette used for plotting by changing the ```palette``` argument to the name of one of these [colormaps](https://matplotlib.org/3.1.0/tutorials/colors/colormaps.html).\n",
    "\n",
    "To save an image, you can run a cell like the following, where ```f``` is the handle to the figure object, i.e. ```f, ax = plot_attractor(image)```. It will be saved in the same directory as this notebook and should appear in the Jupyter navigation window, where you can select it and download it."
   ]
  },
  {
   "cell_type": "code",
   "execution_count": null,
   "metadata": {},
   "outputs": [],
   "source": [
    "f.savefig('my_figure.png', dpi=400)"
   ]
  },
  {
   "cell_type": "markdown",
   "metadata": {
    "colab_type": "text",
    "id": "yMA7yay1eSWb"
   },
   "source": [
    "You can test some suggested parameters using the widget below."
   ]
  },
  {
   "cell_type": "code",
   "execution_count": null,
   "metadata": {
    "colab": {},
    "colab_type": "code",
    "id": "vSAqfsqNYWqP"
   },
   "outputs": [],
   "source": [
    "nx, ny = 500, 500\n",
    "N = int(5e6)\n",
    "s0 = np.array([-0.3, 0.2])\n",
    "\n",
    "@widgets.interact_manual(args = ['leaf','whale','cocoon','ribbon','crescent','squid','heart'])\n",
    "def dejong_dropdown(args='leaf'):\n",
    "    # suggested parameter sets\n",
    "    leaf = (-2., -2., -1.2, 2.)\n",
    "    whale = (2.01, -2.53, 1.61, -0.33)\n",
    "    cocoon = (-2.850, 2.793, -2.697, 1.128)\n",
    "    ribbon = (1.5, 2.5, 0.731, 2.5)\n",
    "    crescent = (1.549, 1.104, 2.4, -2.1)\n",
    "    squid = (-1.33, -2., -1.2, 2.)\n",
    "    heart = (2.03, -2., -1.2, 2.)\n",
    "    \n",
    "    image = np.zeros((nx, ny), dtype=np.int64)\n",
    "    make_attractor(image, dejong, s0, eval(args), N)\n",
    "    plot_attractor(image, palette='inferno')\n",
    "    gc.collect()"
   ]
  },
  {
   "cell_type": "markdown",
   "metadata": {
    "colab_type": "text",
    "id": "bHe-8PCSSZPg"
   },
   "source": [
    "Try discovering your own parameters for a unique piece of abstract art. Remember that different parameter windows can produce strikingly different limiting behaviors, so try tuning one parameter at a time to avoid running into too many seemingly blank images! If you get stuck, you can always re-run the cell to reset the defaults, or copy the values of a suggested parameter set above and proceed from there."
   ]
  },
  {
   "cell_type": "code",
   "execution_count": null,
   "metadata": {
    "colab": {},
    "colab_type": "code",
    "id": "v9b3g_nwNsvB"
   },
   "outputs": [],
   "source": [
    "nx, ny = 500, 500\n",
    "N = int(5e6)\n",
    "s0 = np.array([-0.3, 0.2])\n",
    "\n",
    "a_slider = widgets.FloatSlider(value=-2., min=-3., max=3., step=0.01, description='a:', readout_format='.2f')\n",
    "b_slider = widgets.FloatSlider(value=-2., min=-3., max=3., step=0.01, description='b:', readout_format='.2f')\n",
    "c_slider = widgets.FloatSlider(value=-1.2, min=-3., max=3., step=0.01, description='c:', readout_format='.2f')\n",
    "d_slider = widgets.FloatSlider(value=2., min=-3., max=3., step=0.01, description='d:', readout_format='.2f')\n",
    "\n",
    "@widgets.interact_manual(a = a_slider, b = b_slider, c = c_slider, d = d_slider)\n",
    "def dejong_slider(a=-2., b=-2., c=-1.2, d=2.):\n",
    "    image = np.zeros((nx, ny), dtype=np.int64)\n",
    "    make_attractor(image, dejong, s0, (a,b,c,d), N)\n",
    "    plot_attractor(image, palette='inferno')\n",
    "    gc.collect()"
   ]
  },
  {
   "cell_type": "markdown",
   "metadata": {
    "colab_type": "text",
    "id": "SU9G9MJBryqY"
   },
   "source": [
    "Another interesting example is the family of **Clifford attractors**, which are given by the coupled system of equations:\n",
    "\n",
    "$$x_{n+1} = \\text{sin}(ay_n) - c\\text{cos}(ax_n)$$\n",
    "\n",
    "$$y_{n+1} = \\text{sin}(bx_n) - d\\text{cos}(by_n)$$\n",
    "\n",
    "Let's write a function ```clifford``` to compute the new state array following the Clifford map."
   ]
  },
  {
   "cell_type": "code",
   "execution_count": null,
   "metadata": {
    "colab": {},
    "colab_type": "code",
    "id": "gCo1XHLVstMI"
   },
   "outputs": [],
   "source": [
    "@njit\n",
    "def clifford(state, args):\n",
    "    # unpack system parameters\n",
    "    a, b, c, d = args\n",
    "    \n",
    "    # unpack the state vector\n",
    "    x, y = state\n",
    "    \n",
    "    # map to the new state\n",
    "    return np.array([np.sin(a*y) - c*np.cos(a*x),\n",
    "                     np.sin(b*x) - d*np.cos(b*y)])"
   ]
  },
  {
   "cell_type": "markdown",
   "metadata": {
    "colab_type": "text",
    "id": "bnTOLDSps9OC"
   },
   "source": [
    "Now let's plot as before using our visualization code!"
   ]
  },
  {
   "cell_type": "code",
   "execution_count": null,
   "metadata": {},
   "outputs": [],
   "source": [
    "nx, ny = 500, 500\n",
    "image = np.zeros((nx, ny), dtype=np.int64)\n",
    "\n",
    "N = int(5e6)\n",
    "s0 = np.array([-0.3, 0.2])\n",
    "args = (-1.4, 1.6, 1., 0.7)\n",
    "make_attractor(image, clifford, s0, args, N)\n",
    "\n",
    "# display image\n",
    "f, ax = plot_attractor(image, palette='inferno');"
   ]
  },
  {
   "cell_type": "markdown",
   "metadata": {},
   "source": [
    "Test some of the suggested parameters using the widget below."
   ]
  },
  {
   "cell_type": "code",
   "execution_count": null,
   "metadata": {
    "colab": {},
    "colab_type": "code",
    "id": "RuDBj5ujv2ex"
   },
   "outputs": [],
   "source": [
    "nx, ny = 500, 500\n",
    "N = int(5e6)\n",
    "s0 = np.array([-0.3, 0.2])\n",
    "\n",
    "@widgets.interact_manual(args = ['arcs','shell','roll','squiggle'])\n",
    "def clifford_dropdown(args='leaf'):\n",
    "    # suggested parameter sets\n",
    "    arcs = (-1.4, 1.6, 1., 0.7)\n",
    "    shell = (1.7, 1.7, 0.6, 1.2)\n",
    "    roll = (1.5, -1.8, 1.6, 0.9)\n",
    "    squiggle = (-1.8, -2.0, -0.5, -0.9)\n",
    "\n",
    "    image = np.zeros((nx, ny), dtype=np.int64)\n",
    "    make_attractor(image, clifford, s0, eval(args), N)\n",
    "    plot_attractor(image, palette='inferno')\n",
    "    gc.collect()"
   ]
  },
  {
   "cell_type": "markdown",
   "metadata": {
    "colab_type": "text",
    "id": "FcV30zhbv-IZ"
   },
   "source": [
    "Play around with the sliders to try and find some other abstract designs."
   ]
  },
  {
   "cell_type": "code",
   "execution_count": null,
   "metadata": {
    "colab": {},
    "colab_type": "code",
    "id": "rXse3DlAtCsG"
   },
   "outputs": [],
   "source": [
    "nx, ny = 500, 500\n",
    "N = int(5e6)\n",
    "s0 = np.array([-0.3, 0.2])\n",
    "\n",
    "a_slider = widgets.FloatSlider(value=-1.4, min=-2., max=2., step=0.01, description='a:', readout_format='.2f')\n",
    "b_slider = widgets.FloatSlider(value=1.6, min=-2., max=2., step=0.01, description='b:', readout_format='.2f')\n",
    "c_slider = widgets.FloatSlider(value=1., min=-2., max=2., step=0.01, description='c:', readout_format='.2f')\n",
    "d_slider = widgets.FloatSlider(value=0.7, min=-2., max=2., step=0.01, description='d:', readout_format='.2f')\n",
    "\n",
    "@widgets.interact_manual(a = a_slider, b = b_slider, c = c_slider, d = d_slider)\n",
    "def clifford_slider(a=-1.4, b=1.6, c=1., d=0.7):\n",
    "    image = np.zeros((nx, ny), dtype=np.int64)\n",
    "    make_attractor(image, clifford, s0, (a,b,c,d), N)\n",
    "    plot_attractor(image, palette='inferno')\n",
    "    gc.collect()"
   ]
  },
  {
   "cell_type": "markdown",
   "metadata": {
    "colab_type": "text",
    "id": "aT_FLbkUlBDY"
   },
   "source": [
    "### Symmetry\n",
    "\n",
    "*Adapted from Shaw, William T. Complex Analysis with Mathematica. Cambridge University Press, 2006.*\n",
    "\n",
    "Extraordinary patterns can arise when chaotic systems are constructed to obey some underlying symmetry. The simplest examples are complex polynomial maps that are symmetric under the actions of the **cyclic group** $Z_n$ of rotations by $2 \\pi/n$, or the **dihedral group** $D_n$, consisting of rotations by $2 \\pi/n$ and a reflection. Note that this $n$ is different from the $n$ we have been using to denote our iteration steps, so we will let $k$ denote our iteration steps to avoid confusion!\n",
    "\n",
    "The general functional form of such maps is given by:\n",
    "\n",
    "$$z_{k+1} = f(z_k) = z_k(a + bz_k\\bar{z_k} + c\\text{Re}(z_k^n) +i\\omega) + d\\bar{z_k}^{n-1}$$\n",
    "\n",
    "where $a,b,c,d$, and $\\omega$ are real, and $n$ is an integer. These are cyclically symmetric and inherit dihedral symmetry when $\\omega = 0$.\n",
    "\n",
    "Below, we implement a slight variant of this form which we term the nonlinear map:\n",
    "\n",
    "$$f_\\text{nonlinear}(z_k) = z_k(a + bz_k\\bar{z_k} + c\\text{Re}(z_k^n) + \\lambda |z_k| \\text{cos}(\\text{arg}(z_k)np) +i\\omega) + d\\bar{z_k}^{n-1}$$\n",
    "\n",
    "where arg denotes the argument (angle) of a complex number, and where $a,b,c,d,\\lambda, \\omega$ are real, and $n$ and $p$ are integers."
   ]
  },
  {
   "cell_type": "code",
   "execution_count": null,
   "metadata": {
    "colab": {},
    "colab_type": "code",
    "id": "9-72Iq-Re6AB"
   },
   "outputs": [],
   "source": [
    "@njit\n",
    "def nonlinear(state, args):\n",
    "    # unpack system parameters\n",
    "    a, b, c, d, l, w, n, p = args\n",
    "\n",
    "    # unpack the state vector\n",
    "    x, y = state\n",
    "    z = complex(x, y)\n",
    "    \n",
    "    # map to the new state\n",
    "    F = (a + b*z*np.conj(z) + c*(z**n).real + l*np.abs(z)*np.cos(np.angle(z)*n*p) + w*1j)*z + d*np.conj(z)**(n-1)\n",
    "    return np.array([F.real, F.imag])"
   ]
  },
  {
   "cell_type": "code",
   "execution_count": null,
   "metadata": {},
   "outputs": [],
   "source": [
    "nx, ny = 500, 500\n",
    "image = np.zeros((nx, ny), dtype=np.int64)\n",
    "\n",
    "N = int(5e6)\n",
    "s0 = np.array([-0.3, 0.2])\n",
    "args = (1.56, -1., 0.1, -0.82, 0., 0., 3, 1)\n",
    "make_attractor(image, nonlinear, s0, args, N)\n",
    "\n",
    "# display image\n",
    "f, ax = plot_attractor(image, palette='inferno');"
   ]
  },
  {
   "cell_type": "markdown",
   "metadata": {
    "colab_type": "text",
    "id": "0Eb07vlys5Pe"
   },
   "source": [
    "Try out some of the suggested parameter sets for the different symmetries."
   ]
  },
  {
   "cell_type": "code",
   "execution_count": null,
   "metadata": {
    "colab": {},
    "colab_type": "code",
    "id": "etRpEARGs5vC"
   },
   "outputs": [],
   "source": [
    "nx, ny = 500, 500\n",
    "N = int(5e6)\n",
    "s0 = np.array([-0.3, 0.2])\n",
    "\n",
    "@widgets.interact_manual(args = ['threegadget','triangle','quadgig','flint','pentagon','star','sanddollar',\n",
    "                                 'flower','hexagon','heptagon','churwin','swirlygig','bloom'])\n",
    "def nonlinear_dropdown(args='sanddollar'):\n",
    "    # dihedral symmetry parameter sets\n",
    "    threegadget = (1.56, -1., 0.1, -0.82, 0., 0., 3, 1)\n",
    "    triangle = (1.455, -1.0, 0.03, -0.8, -0.025, 0., 3, 0)\n",
    "    quadgig = (-1.86, 2., 0., 1., 0., 0., 4, 0)\n",
    "    flint = (2.5, -2.5, 0., 0.9, 0., 0., 3, 1)\n",
    "    pentagon = (2.6, -2., 0., -0.5, 0., 0., 5, 1)\n",
    "    star = (-2.32, 2.32, 0., 0.75, 0., 0., 5, 1)\n",
    "    sanddollar = (-2.34, 2., 0.2, 0.1, 0., 0., 5, 1)\n",
    "    flower = (-2.38, 10.0, -12.3, 0.75, 0.02, 0., 5, 1)\n",
    "    hexagon = (-2.7, 5., 1.5, 1., 0., 0., 6, 1)\n",
    "    heptagon = (-2.08, 1.0, -0.1, 0.167, 0., 0., 7, 1)\n",
    "    churwin = (2.409, -2.5, -0.2, 0.81, 0., 0., 24, 1)\n",
    "\n",
    "    # cyclical symmetry parameter sets\n",
    "    swirlygig = (-1.86, 2., 0., 1., 0., 0.1, 4, 0)\n",
    "    bloom = (-2.5, 5., -1.9, 1., 0., 0.188, 5, 0)\n",
    "\n",
    "    image = np.zeros((nx, ny), dtype=np.int64)\n",
    "    make_attractor(image, nonlinear, s0, eval(args), N)\n",
    "    plot_attractor(image, palette='inferno')\n",
    "    gc.collect()"
   ]
  },
  {
   "cell_type": "markdown",
   "metadata": {
    "colab_type": "text",
    "id": "itCAsVf4x071"
   },
   "source": [
    "Another interesting family of symmetric maps may be constructed with periodic functions like sinusoids. Below, we implement one variant:\n",
    "\n",
    "$$x_{n+1} = mx_n + a\\text{sin}(2 \\pi x_n) + b\\text{sin}(2 \\pi x_n)\\text{cos}(2 \\pi y_n) + c \\text{sin}(4 \\pi x_n) + d \\text{sin}(6 \\pi x_n) \\text{cos}(4 \\pi y_n)$$\n",
    "\n",
    "$$y_{n+1} = my_n + a\\text{sin}(2 \\pi y_n) + b\\text{cos}(2 \\pi x_n)\\text{sin}(2 \\pi y_n) + c \\text{sin}(4 \\pi y_n) + d \\text{cos}(4 \\pi x_n) \\text{sin}(6 \\pi y_n)$$"
   ]
  },
  {
   "cell_type": "code",
   "execution_count": null,
   "metadata": {
    "colab": {},
    "colab_type": "code",
    "id": "YBfP-mxox59Z"
   },
   "outputs": [],
   "source": [
    "@njit\n",
    "def periodic(state, args):\n",
    "    # unpack system parameters\n",
    "    a, b, c, d, m = args\n",
    "\n",
    "    # unpack the state vector\n",
    "    x, y = state\n",
    "    \n",
    "    # map to the new state\n",
    "    return np.array([m*x + a*np.sin(2.*np.pi*x) + b*np.sin(2.*np.pi*x)*np.cos(2.*np.pi*y)\n",
    "                     + c*np.sin(4.*np.pi*x) + d*np.sin(6.*np.pi*x)*np.cos(4.*np.pi*y),\n",
    "                     m*y + a*np.sin(2.*np.pi*y) + b*np.cos(2.*np.pi*x)*np.sin(2.*np.pi*y)\n",
    "                     + c*np.sin(4.*np.pi*y) + d*np.cos(4.*np.pi*x)*np.sin(6.*np.pi*y)])"
   ]
  },
  {
   "cell_type": "code",
   "execution_count": null,
   "metadata": {},
   "outputs": [],
   "source": [
    "nx, ny = 500, 500\n",
    "image = np.zeros((nx, ny), dtype=np.int64)\n",
    "\n",
    "N = int(5e6)\n",
    "s0 = np.array([-0.3, 0.2])\n",
    "args = (0.25, -0.3, 0.1, 0.3, 1.)\n",
    "make_attractor(image, periodic, s0, args, N)\n",
    "\n",
    "# display image\n",
    "f, ax = plot_attractor(image, palette='inferno');"
   ]
  },
  {
   "cell_type": "markdown",
   "metadata": {
    "colab_type": "text",
    "id": "-voWuiAywSjH"
   },
   "source": [
    "We can take advantage of the built-in periodicity to produce beautiful tiled patterns. The function ```plot_attractor_quilt``` simply tiles the calculated image a specified number of repetitions before plotting."
   ]
  },
  {
   "cell_type": "code",
   "execution_count": null,
   "metadata": {},
   "outputs": [],
   "source": [
    "f, ax = plot_attractor_quilt(image, palette='inferno', tile=3);"
   ]
  },
  {
   "cell_type": "markdown",
   "metadata": {
    "colab_type": "text",
    "id": "njf-Xqtgxc62"
   },
   "source": [
    "Explore some other parameters!"
   ]
  },
  {
   "cell_type": "code",
   "execution_count": null,
   "metadata": {
    "colab": {},
    "colab_type": "code",
    "id": "SzXVhKmDxCnC"
   },
   "outputs": [],
   "source": [
    "nx, ny = 500, 500\n",
    "N = int(5e6)\n",
    "s0 = np.array([-0.3, 0.2])\n",
    "\n",
    "@widgets.interact_manual(args = ['clover','flower','plus','plus2','plate','cross'], tile = [2,3,4])\n",
    "def periodic_dropdown(args='clover', tile=3):\n",
    "    # suggested parameter sets\n",
    "    clover = (0.25, -0.3, 0.2, 0.3, 1.)\n",
    "    flower = (0.25, -0.3, 0.1, 0.3, 1.)\n",
    "    plus = (0.2, -0.2, 0.2, 0.3, 1.)\n",
    "    plus2 = (0.2, -0.25, 0.2, 0.3, 1.)\n",
    "    plate = (0.2, -0.2, 0., 0.3, 1.)\n",
    "    cross = (0.2, -0.2, 0., 0.3, 0.)\n",
    "\n",
    "    image = np.zeros((nx, ny), dtype=np.int64)\n",
    "    make_attractor(image, periodic, s0, eval(args), N)\n",
    "    plot_attractor_quilt(image, palette='inferno', tile=tile)\n",
    "    gc.collect()"
   ]
  },
  {
   "cell_type": "markdown",
   "metadata": {
    "colab_type": "text",
    "id": "Nl8UMQ4h03JL"
   },
   "source": [
    "## Continuous-time systems\n",
    "\n",
    "Chaotic dynamical systems parameterized by continuous time can also generate interesting orbits! And because chaotic systems are characterized by a sensitive dependence on intital conditions, the possible trajectories can diverge rapidly even when the starting conditions differ only slightly. To investigate these properties, we will look at the evolution of some famous three-dimensional chaotic systems over time.\n",
    "\n",
    "One very well known chaotic attractor is the **Lorenz attractor**, which arises from the evolution of the differential equations:\n",
    "\n",
    "$$\\begin{aligned}\n",
    "x' &= a(y - x) \\\\\n",
    "y' &= x(b - z) - y \\\\\n",
    "z' &= xy - cz\n",
    "\\end{aligned}$$\n",
    "\n",
    "We will implement a function ```lorenz``` to evaluate these equations."
   ]
  },
  {
   "cell_type": "code",
   "execution_count": null,
   "metadata": {
    "colab": {},
    "colab_type": "code",
    "id": "rJe6kKJm1BAE"
   },
   "outputs": [],
   "source": [
    "@njit\n",
    "def lorenz(t, state, args):\n",
    "    # unpack system parameters\n",
    "    a, b, c = args\n",
    "    \n",
    "    # unpack the state vector\n",
    "    x, y, z = state\n",
    "    \n",
    "    # evaluate system of differential equations at new state\n",
    "    return np.array([a*(y - x),\n",
    "                     x*(b - z) - y,\n",
    "                     x*y - c*z])"
   ]
  },
  {
   "cell_type": "code",
   "execution_count": null,
   "metadata": {},
   "outputs": [],
   "source": [
    "t = 0\n",
    "s0 = np.array([1.,1.,1.])\n",
    "args = (10., 28., 8./3.)\n",
    "dsdt = lorenz(t, s0, args)\n",
    "print(dsdt)"
   ]
  },
  {
   "cell_type": "markdown",
   "metadata": {
    "colab_type": "text",
    "id": "B3_A4sasbI4Q"
   },
   "source": [
    "Note that in contrast to discrete systems, we now have a function that gives us not the next state, but the local time derivative that tells us how to evolve the system. To solve the differential equations, we will use the function ```solve_ivp``` from the ```scipy``` library. Let's define a function ```calc_trajectory``` to format our input conditions and output a list of three arrays $x, y, z$ of the system's trajectory."
   ]
  },
  {
   "cell_type": "code",
   "execution_count": null,
   "metadata": {},
   "outputs": [],
   "source": [
    "def calc_trajectory(fode, s0, args, times):\n",
    "    ''' Solve an ordinary differential equation over a specified time.\n",
    "        Inputs:\n",
    "            fode - function of the ordinary differential equation to solve\n",
    "            s0 - initial condition\n",
    "            args - additional arguments taken by fode\n",
    "            times -  array of time points at which to solve\n",
    "        Outputs:\n",
    "            out - solution to the ode at the specified time points\n",
    "    '''\n",
    "    # solve using scipy solver\n",
    "    out = solve_ivp(lambda t, s: fode(t, s, args), (times[0], times[-1]), s0, t_eval=times).y\n",
    "    return out"
   ]
  },
  {
   "cell_type": "markdown",
   "metadata": {
    "colab_type": "text",
    "id": "Lqjwlu1JdViU"
   },
   "source": [
    "Now, let's calculate and plot the trajectory in three dimensions."
   ]
  },
  {
   "cell_type": "code",
   "execution_count": null,
   "metadata": {},
   "outputs": [],
   "source": [
    "s0 = np.array([1.,1.,1.])\n",
    "args = (10., 28., 8./3.)\n",
    "times = np.linspace(0., 50., int(1e4))\n",
    "out = calc_trajectory(lorenz, s0, args, times)\n",
    "\n",
    "# plot trajectory\n",
    "f, ax = plot_trajectory(out, palette='CMRmap')"
   ]
  },
  {
   "cell_type": "markdown",
   "metadata": {
    "colab_type": "text",
    "id": "8gBNxxepfBAO"
   },
   "source": [
    "Let's implement another famous example, the **Rossler attractor**. The Rossler system is given by:\n",
    "\n",
    "$$\\begin{aligned}\n",
    "x' &= -y - z \\\\\n",
    "y' &= x + ay \\\\\n",
    "z' &= b + z(x - c)\n",
    "\\end{aligned}$$"
   ]
  },
  {
   "cell_type": "code",
   "execution_count": null,
   "metadata": {
    "colab": {},
    "colab_type": "code",
    "id": "BjvNHfkX2VQI"
   },
   "outputs": [],
   "source": [
    "@njit\n",
    "def rossler(t, state, args):\n",
    "    # unpack system parameters\n",
    "    a, b, c = args\n",
    "    \n",
    "    # unpack the state vector\n",
    "    x, y, z = state\n",
    "    \n",
    "    # evaluate system of differential equations at new state\n",
    "    return np.array([-y - z,\n",
    "                     x + a*y,\n",
    "                     b + z*(x - c)])"
   ]
  },
  {
   "cell_type": "markdown",
   "metadata": {
    "colab_type": "text",
    "id": "zNuIJli6iWuW"
   },
   "source": [
    "We can test it out by updating our earlier code with the Rossler attractor parameters and changing the system name."
   ]
  },
  {
   "cell_type": "code",
   "execution_count": null,
   "metadata": {},
   "outputs": [],
   "source": [
    "s0 = np.array([1.,1.,0.])\n",
    "args = (0.1, 0.1, 14.)\n",
    "times = np.linspace(0., 200., int(1e4))\n",
    "out = calc_trajectory(rossler, s0, args, times)\n",
    "\n",
    "# plot trajectory\n",
    "f, ax = plot_trajectory(out, palette='CMRmap')"
   ]
  },
  {
   "cell_type": "markdown",
   "metadata": {
    "colab_type": "text",
    "id": "KPXTZ7zajf7X"
   },
   "source": [
    "### Sensitive dependence on initial conditions\n",
    "\n",
    "Let's make an animation that reveals how the system evolves given slightly different initial conditions. The animation code used below was adapted from [this blog](https://jakevdp.github.io/blog/2013/02/16/animating-the-lorentz-system-in-3d/), which includes a number of other physics-inspired Python coding challenges you may want to try!"
   ]
  },
  {
   "cell_type": "code",
   "execution_count": null,
   "metadata": {},
   "outputs": [],
   "source": [
    "L = 12                                        # a random starting point will be generated on [-L,L]\n",
    "N_paths = 20                                  # number of different initial conditions to test\n",
    "s0 = 2*L*np.random.random((N_paths, 3)) - L   # array of initial conditions\n",
    "args = (10., 28., 8./3.)\n",
    "times = np.linspace(0., 4., 500)\n",
    "\n",
    "out = [[]]*N_paths\n",
    "for i, s in enumerate(s0):\n",
    "    out[i] = calc_trajectory(lorenz, s0[i], args, times)"
   ]
  },
  {
   "cell_type": "code",
   "execution_count": null,
   "metadata": {
    "colab": {},
    "colab_type": "code",
    "id": "QY1iozsqXBtD"
   },
   "outputs": [],
   "source": [
    "ani = animate_trajectory(out, palette='rainbow')\n",
    "HTML(ani.to_html5_video())"
   ]
  },
  {
   "cell_type": "code",
   "execution_count": null,
   "metadata": {},
   "outputs": [],
   "source": []
  }
 ],
 "metadata": {
  "@webio": {
   "lastCommId": null,
   "lastKernelId": null
  },
  "colab": {
   "authorship_tag": "ABX9TyMhzAzSfHaJbnkkvG/cikeO",
   "collapsed_sections": [],
   "include_colab_link": true,
   "name": "strange_attractors.ipynb",
   "provenance": []
  },
  "kernelspec": {
   "display_name": "Python 3",
   "language": "python",
   "name": "python3"
  },
  "language_info": {
   "codemirror_mode": {
    "name": "ipython",
    "version": 3
   },
   "file_extension": ".py",
   "mimetype": "text/x-python",
   "name": "python",
   "nbconvert_exporter": "python",
   "pygments_lexer": "ipython3",
   "version": "3.7.5"
  }
 },
 "nbformat": 4,
 "nbformat_minor": 1
}
