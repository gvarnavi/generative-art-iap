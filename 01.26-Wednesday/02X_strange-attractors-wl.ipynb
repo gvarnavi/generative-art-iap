{
 "cells": [
  {
   "cell_type": "markdown",
   "metadata": {},
   "source": [
    "# Strange Attractors\n",
    "\n",
    "## Chaos Theory\n",
    "\n",
    "We begin by investigating Chaos, and how we can impose certain symmetries on it."
   ]
  },
  {
   "cell_type": "code",
   "execution_count": null,
   "metadata": {},
   "outputs": [],
   "source": [
    "Entity[\"MathWorld\", \"Chaos\"][\"BasicDefinitions\"][[1]]"
   ]
  },
  {
   "cell_type": "code",
   "execution_count": null,
   "metadata": {},
   "outputs": [],
   "source": [
    "Entity[\"MathWorld\", \"Chaos\"][\"LongTypesetDescription\"]"
   ]
  },
  {
   "cell_type": "markdown",
   "metadata": {},
   "source": [
    "### Chaos Game\n",
    "Well, let's at-least see how it relates to the fractal systems we've been looking at:\n",
    "\n",
    "We'll start by choosing a regular polygon with n sides"
   ]
  },
  {
   "cell_type": "code",
   "execution_count": null,
   "metadata": {},
   "outputs": [],
   "source": [
    "GraphicsRow[Graphics[RegularPolygon[#]]&/@Range[3,5]]"
   ]
  },
  {
   "cell_type": "markdown",
   "metadata": {},
   "source": [
    "Starting from a random point, we iterate using the following algorithm:\n",
    "- Pick one of the polygon vertices at random\n",
    "- Travel a fraction of the distance to that vertex\n",
    "- Repeat"
   ]
  },
  {
   "cell_type": "code",
   "execution_count": null,
   "metadata": {},
   "outputs": [],
   "source": [
    "chaosGame[{n_Integer?Positive, r_}, pts_ : 1000, drop_ : 10] := \n",
    "Module[{v, sc = 1., p, i, p0},\n",
    "  (*Random Starting point*)\n",
    "  p0 = RandomReal[{-1, 1}, 2];\n",
    "  (*Vertices*)\n",
    "  v = CirclePoints[n];\n",
    "  (*Iteration*)\n",
    "  p = NestList[r Plus[#, RandomChoice[v] ] &, p0, pts + drop];\n",
    "  (*Drop first couple of iterations*)\n",
    "  Drop[p, drop]];"
   ]
  },
  {
   "cell_type": "code",
   "execution_count": null,
   "metadata": {},
   "outputs": [],
   "source": [
    "triangle = Graphics@Point@chaosGame[{3, 0.5}, 5000];\n",
    "square = Graphics@Point@chaosGame[{4, 0.4}, 5000];\n",
    "pentagon = Graphics@Point@chaosGame[{5, 0.3}, 5000];\n",
    "GraphicsRow[{triangle, square, pentagon}, ImageSize -> Large]"
   ]
  },
  {
   "cell_type": "markdown",
   "metadata": {},
   "source": [
    "## Strange Attractors\n",
    ">\"[They're] a little like old Uncle Jake, who is a bit eccentric. You're not really surprised by what Uncle Jake does, but it's still difficult to understand why he does what he does. But by calling him eccentric, you feel comfortable with his actions\"  \n",
    "~ Symmetry in Chaos, Field and Golubitsky\n",
    "\n",
    "### De-Jong Attractor\n",
    "The De Jong Attractor is given by the following formula:\n",
    "\n",
    "$$\\begin{aligned}\n",
    "x_{n+1} &= sin(a y_n) - cos(b x_n)\\\\\n",
    "y_{n+1} &= sin(c x_n) - cos(d y_n)\n",
    "\\end{aligned}\n",
    "$$"
   ]
  },
  {
   "cell_type": "code",
   "execution_count": null,
   "metadata": {},
   "outputs": [],
   "source": [
    "naiveDeJong[{x_, y_}, {a_, b_, c_, d_}] :=\n",
    " {Sin[a y] - Cos[b  x], \n",
    "  Sin[c x] - Cos[d  y]}"
   ]
  },
  {
   "cell_type": "code",
   "execution_count": null,
   "metadata": {},
   "outputs": [],
   "source": [
    "naiveDeJong[{1., 1.}, {1, 2, 3, 4}]"
   ]
  },
  {
   "cell_type": "code",
   "execution_count": null,
   "metadata": {},
   "outputs": [],
   "source": [
    "naiveDeJong[%, {1, 2, 3, 4}]"
   ]
  },
  {
   "cell_type": "code",
   "execution_count": null,
   "metadata": {},
   "outputs": [],
   "source": [
    "Graphics[Point[\n",
    "  NestList[naiveDeJong[#, {1.641, 1.902, 0.316, 1.525}] &, {1., 1.}, \n",
    "   100]],ImageSize->Small]"
   ]
  },
  {
   "cell_type": "code",
   "execution_count": null,
   "metadata": {},
   "outputs": [],
   "source": [
    "Graphics[Point[\n",
    "  NestList[naiveDeJong[#, {1.641, 1.902, 0.316, 1.525}] &, {1., 1.}, \n",
    "   10000]],ImageSize->Small]"
   ]
  },
  {
   "cell_type": "markdown",
   "metadata": {},
   "source": [
    "#### Binning and Coloring\n",
    "- High-level implementation"
   ]
  },
  {
   "cell_type": "code",
   "execution_count": null,
   "metadata": {},
   "outputs": [],
   "source": [
    "ArrayPlot[\n",
    "BinCounts[\n",
    "  NestList[naiveDeJong[#, {1.641, 1.902, 0.316, 1.525}] &, {1., 1.}, \n",
    "   10^5], {-2, 2, 0.005}, {-2, 2, 0.005}],ImageSize->Small]"
   ]
  },
  {
   "cell_type": "markdown",
   "metadata": {},
   "source": [
    "This is very faint, we could either:\n",
    "- Increase the number of iterations\n",
    "- Make our bins 'fatter' (i.e. more hits per bin)\n",
    "- Appy a non-linear smoothing function to the hits"
   ]
  },
  {
   "cell_type": "code",
   "execution_count": null,
   "metadata": {},
   "outputs": [],
   "source": [
    "ArrayPlot[\n",
    "Log[(BinCounts[\n",
    "    NestList[naiveDeJong[#, {1.641, 1.902, 0.316, 1.525}] &, {1., 1.},\n",
    "      10^5], {-2, 2, 0.005}, {-2, 2, 0.005}] + 1)],ImageSize->Small]"
   ]
  },
  {
   "cell_type": "markdown",
   "metadata": {},
   "source": [
    "This is both slow, and memory-intensive, since we need to store all the points in memory.\n",
    "\n",
    "#### Compiled Binning\n",
    "Instead, we can compile in C, binning along the way:"
   ]
  },
  {
   "cell_type": "code",
   "execution_count": null,
   "metadata": {},
   "outputs": [],
   "source": [
    "dejongCompiled = \n",
    " Compile[\n",
    " {{xmin, _Real}, {xmax, _Real}, {ymin, _Real}, {ymax, _Real},{delta, _Real}, \n",
    " {itmax, _Integer}, {a, _Real, 0}, {b, _Real, 0}, {c, _Real, 0}, {d, _Real, 0}},\n",
    " \n",
    "  Block[{bins, dimx, dimy, x, y, tx, ty}, \n",
    "   bins = ConstantArray[0, Floor[{xmax - xmin, ymax - ymin}/delta] + {1, 1}];  \n",
    "   {dimx, dimy} = Dimensions[bins];\n",
    "   \n",
    "   {x, y} = {0., 0.};\n",
    "   Do[\n",
    "   {x, y} = {Sin[a y] - Cos[b x], Sin[c x] - Cos[d y]};\n",
    "   \n",
    "    tx = Floor[(x - xmin)/delta] + 1;\n",
    "    ty = Floor[(y - ymin)/delta] + 1;\n",
    "    \n",
    "    If[tx >= 1 && tx <= dimx && ty >= 1 && ty <= dimy, \n",
    "     bins[[tx, ty]] += 1\n",
    "     \n",
    "     ], {i, 1, itmax}];\n",
    "     \n",
    "   bins]\n",
    "   , CompilationTarget :> \"C\", RuntimeOptions -> \"Speed\"]"
   ]
  },
  {
   "cell_type": "code",
   "execution_count": null,
   "metadata": {},
   "outputs": [],
   "source": [
    "ArrayPlot[\n",
    " Log[dejongCompiled[-2., 2., -2., 2., 0.005, 10000000, 1.641, 1.902, \n",
    "    0.316, 1.525] + 1], Frame -> False, ImageSize -> Small]"
   ]
  },
  {
   "cell_type": "markdown",
   "metadata": {},
   "source": [
    "Let's add some colour!"
   ]
  },
  {
   "cell_type": "code",
   "execution_count": null,
   "metadata": {},
   "outputs": [],
   "source": [
    "ArrayPlot[\n",
    " Log[dejongCompiled[-2., 2., -2., 2., 0.005, 10000000, 1.641, 1.902, \n",
    "    0.316, 1.525] + 1], Frame -> False, ImageSize -> Small, \n",
    " ColorFunction -> (ColorData[\"SunsetColors\"][1 - #] &)]"
   ]
  },
  {
   "cell_type": "markdown",
   "metadata": {},
   "source": [
    "### Imposing Dihedral Symmetry\n",
    "Here, we'll investigate the particular case of Dihedral symmetry and quote some iterating functions we'll use.  \n",
    "In the Wallpaper groups notebook later today, we'll derive a more general method to extend this.\n",
    "\n",
    "#### $D_n$ Symmetries\n",
    "Dihedral symmetry (also known as polygon symmetry) is satisfied by two operations:\n",
    "- Reflection along k\n",
    "- Rotation R by 360/n degrees\n",
    "\n",
    "It's easier to use complex notation.\n",
    "Remember how multiplication by a complex number of magnitude 1 and phase 360/n implies a clockwise R rotation.  \n",
    "Taking k to be the real x-axis, then we can write Dihedral symmetry operations as:\n",
    "$$\n",
    "\\begin{aligned}\n",
    "k(z) &= \\bar{z} \\\\\n",
    "R(z) &= \\rho z\n",
    "\\end{aligned}\n",
    "$$\n",
    "\n",
    "##### Symmetry-imposing logistic mapping\n",
    "The logistic map is given by:\n",
    "$$G(z) = \\lambda z (1-z \\bar{z})$$"
   ]
  },
  {
   "cell_type": "code",
   "execution_count": null,
   "metadata": {},
   "outputs": [],
   "source": [
    "Graphics[{PointSize[0], \n",
    "  Point[Flatten[\n",
    "    Table[Thread[{r, \n",
    "       Nest[r # (1 - #) &, Range[0, 1, 0.01], 1000]}], \n",
    "       {r, 0, 4,0.01}], 1]]},ImageSize->Small]"
   ]
  },
  {
   "cell_type": "markdown",
   "metadata": {},
   "source": [
    "We seek to find a correction to G(z), such that when added to make F(z) we obtain:\n",
    "\n",
    "$$\n",
    "\\begin{aligned}\n",
    "F(k(z)) = k(F(z)) \\\\\n",
    "F(R(z)) = R(F(z))\n",
    "\\end{aligned}\n",
    "$$\n",
    "\n",
    "We'll start by checking the simplest function with Dihedral symmetry is given by $\\bar{z}^{n-1}$"
   ]
  },
  {
   "cell_type": "code",
   "execution_count": null,
   "metadata": {},
   "outputs": [],
   "source": [
    "ansatz[z_] := Conjugate[z]^(n - 1)\n",
    "kappa[z_] := Conjugate[z]"
   ]
  },
  {
   "cell_type": "code",
   "execution_count": null,
   "metadata": {},
   "outputs": [],
   "source": [
    "ansatz[kappa[z]]\n",
    "kappa[ansatz[z]]"
   ]
  },
  {
   "cell_type": "markdown",
   "metadata": {},
   "source": [
    "These don't look the same at first glance.  \n",
    "This is because the Wolfram Language makes no assumptions on the nature of z and n (i.e. real, complex, etc). We'll use Complex Expand, which assumes all the symbols are Real:"
   ]
  },
  {
   "cell_type": "code",
   "execution_count": null,
   "metadata": {},
   "outputs": [],
   "source": [
    "ansatz[kappa[z]] // ComplexExpand\n",
    "kappa[ansatz[z]] // ComplexExpand\n",
    "SameQ[% == %%]"
   ]
  },
  {
   "cell_type": "markdown",
   "metadata": {},
   "source": [
    "Now let's check the rotation, R.  \n",
    "We'll use polar coordinates to show this:"
   ]
  },
  {
   "cell_type": "code",
   "execution_count": null,
   "metadata": {},
   "outputs": [],
   "source": [
    "rotatePolar[{r_, theta_}, n_] := {r, theta + (360 Degree)/n}\n",
    "ansatzPolar[{r_, theta_}, n_] := {r^(n - 1), -(n - 1) theta}"
   ]
  },
  {
   "cell_type": "code",
   "execution_count": null,
   "metadata": {},
   "outputs": [],
   "source": [
    "ansatzPolar[rotatePolar[{r, \\[Theta]}, n], n]\n",
    "rotatePolar[ansatzPolar[{r, \\[Theta]}, n], n]"
   ]
  },
  {
   "cell_type": "markdown",
   "metadata": {},
   "source": [
    "The magnitudes look the same, let's make sure the phases are too:"
   ]
  },
  {
   "cell_type": "code",
   "execution_count": null,
   "metadata": {},
   "outputs": [],
   "source": [
    "Simplify[\n",
    "ansatzPolar[rotatePolar[{r, \\[Theta]}, n], n][[2]]\n",
    "-rotatePolar[ansatzPolar[{r, \\[Theta]}, n], n][[2]]\n",
    "]"
   ]
  },
  {
   "cell_type": "markdown",
   "metadata": {},
   "source": [
    "Perfect, our symmetrized loggistic equation can therefore be corrected to read:\n",
    "$$F(z) = \\lambda z (1-z \\bar{z}) + \\gamma \\bar{z}^{n-1}$$"
   ]
  },
  {
   "cell_type": "markdown",
   "metadata": {},
   "source": [
    "### Complex and non-linear mappings\n",
    "We can keep playing this game to find more complex mappings which preserve symmetry.  \n",
    "Here, we list two general implementations (from Symmetry in Chaos, Field and Golubitsky), We'll look at more general implementations later:\n",
    "\n",
    "$$\n",
    "\\begin{aligned}\n",
    "F_{complex}(z) &= \\left( \\lambda + \\alpha z \\bar{z} + \\beta \\Re[z^n]\\right)z + \\gamma \\bar{z}^{n-1} \\\\\n",
    "F_{nonlinear}(z) &= \\left( \\lambda + \\alpha z \\bar{z} + \\beta \\Re[z^n] + \\delta \\Re[\\left(\\frac{z}{|z|}\\right)^{np}]|z|\\right)z + \\gamma \\bar{z}^{n-1}\n",
    "\\end{aligned}\n",
    "$$"
   ]
  },
  {
   "cell_type": "code",
   "execution_count": null,
   "metadata": {},
   "outputs": [],
   "source": [
    "attractorComplex = Compile[{\n",
    "   {xmin, _Real}, {xmax, _Real}, {ymin, _Real}, {ymax, _Real},{delta, _Real},\n",
    "   {itmax, _Integer}, {n, _Integer},\n",
    "   {lambda, _Real}, {a, _Real}, {b, _Real}, {c, _Real}, {omega,_Real}}, \n",
    "   \n",
    "   Block[{bins, dim, x, y, tx, ty, z},\n",
    "   \n",
    "   bins = ConstantArray[0, Floor[{xmax - xmin, ymax - ymin}/delta] + {1, 1}];\n",
    "   dim = Dimensions[bins];\n",
    "   z = -0.3 + 0.2 I;\n",
    "   \n",
    "   Do[\n",
    "    z = (lambda + a z Conjugate[z] + b Re[z^n] + omega I) z + c Conjugate[z]^(n - 1);\n",
    "    x = Re[z]; y = Im[z];\n",
    "    \n",
    "    tx = Floor[(x - xmin)/delta] + 1;\n",
    "    ty = Floor[(y - ymin)/delta] + 1;\n",
    "    If[tx >= 1 && tx <= dim[[1]] && ty >= 1 && ty <= dim[[2]], \n",
    "     bins[[tx, ty]] += 1];\n",
    "    \n",
    "    z, {i, 1, itmax}];\n",
    "   bins], CompilationTarget -> \"C\", RuntimeOptions -> \"Speed\"]\n",
    "   \n",
    "   \n",
    "attractorNonLinear = \n",
    " Compile[{{xmin, _Real}, {xmax, _Real}, {ymin, _Real}, {ymax, _Real},\n",
    "{delta, _Real}, {itmax, _Integer}, {n, _Integer}, {lambda, _Real},\n",
    "{a, _Real}, {b, _Real}, {c, _Real}, {d, _Real}, {p, _Integer}}, \n",
    "  Block[{bins, dim, x, y, tx, ty, z, b1, radii, normed, coordinates}, \n",
    "   \n",
    "   bins = ConstantArray[0, Floor[{xmax - xmin, ymax - ymin}/delta] + {1, 1}];\n",
    "   dim = Dimensions[bins];\n",
    "   z = -0.3 + 0.2 I;\n",
    "   \n",
    "   Do[\n",
    "    z = (lambda + a z Conjugate[z] + b Re[z^n] + d Re[(z/Abs[z])^n p] Abs[z]) z + c Conjugate[z]^(n - 1);\n",
    "    x = Re[z]; y = Im[z];\n",
    "    \n",
    "    tx = Floor[(x - xmin)/delta] + 1;\n",
    "    ty = Floor[(y - ymin)/delta] + 1;\n",
    "    If[tx >= 1 && tx <= dim[[1]] && ty >= 1 && ty <= dim[[2]], \n",
    "     bins[[tx, ty]] += 1];\n",
    "    \n",
    "    z, {i, 1, itmax}];\n",
    "   bins], CompilationTarget -> \"C\", RuntimeOptions -> \"Speed\"]"
   ]
  },
  {
   "cell_type": "markdown",
   "metadata": {},
   "source": [
    "#### Gallery\n",
    "- Complex Attractors"
   ]
  },
  {
   "cell_type": "code",
   "execution_count": null,
   "metadata": {},
   "outputs": [],
   "source": [
    "AbsoluteTiming[\n",
    " bins = N[attractorComplex[-1., 1., -1., 1., 0.001, 5 10^6, 6, -2.7,5.0, 1.5, 1.0, 0.0]];]\n",
    "ArrayPlot[Log[bins + 1],ColorFunction -> (ColorData[\"SunsetColors\", #] &),ImageSize->300]"
   ]
  },
  {
   "cell_type": "code",
   "execution_count": null,
   "metadata": {},
   "outputs": [],
   "source": [
    "AbsoluteTiming[bins = N[attractorComplex[-1.5, 1.5, -1.5, 1.5, 0.001, 5 10^6,7, -2.08, 1.0, -0.1, 0.167, 0.0]];]\n",
    "ArrayPlot[Log[bins + 1],ColorFunction -> (ColorData[\"SunsetColors\", #] &),ImageSize->300]"
   ]
  },
  {
   "cell_type": "markdown",
   "metadata": {},
   "source": [
    "- Nonlinear Attractors"
   ]
  },
  {
   "cell_type": "code",
   "execution_count": null,
   "metadata": {},
   "outputs": [],
   "source": [
    "AbsoluteTiming[bins = N[attractorNonLinear[-1.5, 1.5, -1.5, 1.5, 0.001, 5 10^6, 3, 1., -2.1, 0.0, 1.0, 1.0, 1]];]\n",
    "ArrayPlot[Log[bins + 1], ColorFunction -> (ColorData[\"AvocadoColors\", #] &),ImageSize->300]"
   ]
  },
  {
   "cell_type": "code",
   "execution_count": null,
   "metadata": {},
   "outputs": [],
   "source": [
    "AbsoluteTiming[bins = N[attractorNonLinear[-1., 1., -1., 1., 0.001, 5 10^6, 9, -2.5,4.5, -0.7, 1.0, -0.9, 0]];]\n",
    "ArrayPlot[Log[bins + 1],ColorFunction -> (ColorData[\"AvocadoColors\", #] &),ImageSize->300]"
   ]
  },
  {
   "cell_type": "code",
   "execution_count": null,
   "metadata": {},
   "outputs": [],
   "source": [
    "AbsoluteTiming[ bins = N[attractorNonLinear[-.5, .5, -.5, .5, 0.001, 5 10^6, 5, -2.38, 10.0, -12.3, 0.75, 0.02, 1]];]\n",
    "ArrayPlot[Log[bins + 1], ColorFunction -> (ColorData[\"AvocadoColors\", #] &),ImageSize->300]"
   ]
  },
  {
   "cell_type": "code",
   "execution_count": null,
   "metadata": {},
   "outputs": [],
   "source": [
    "AbsoluteTiming[bins = N[attractorNonLinear[-1.6, 1.6, -1.6, 1.6, 0.001, 10^7, 6, -2.42, 1.0, -0.04, 0.14, 0.088, 0]];]\n",
    "ArrayPlot[Log[bins + 1],ColorFunction -> (ColorData[\"AvocadoColors\", #] &),ImageSize->300]"
   ]
  },
  {
   "cell_type": "code",
   "execution_count": null,
   "metadata": {},
   "outputs": [],
   "source": [
    "AbsoluteTiming[bins = N[attractorNonLinear[-1.5, 1.5, -1.5, 1.5, 0.001, 5 10^6, 3, 1.455, -1.0, 0.03, -0.8, -0.025, 0]];]\n",
    "ArrayPlot[Log[bins + 1], ColorFunction -> (ColorData[\"AvocadoColors\", #] &),ImageSize->300]"
   ]
  },
  {
   "cell_type": "markdown",
   "metadata": {},
   "source": [
    "### Quilts (Tiling the plane)\n",
    "Chaotic attractors can be designed to look pleasing when tiled together.  \n",
    "The trick is to design a pattern without seams between tiles, Mathematically, this is equivalent to patterning on a torus.\n",
    "\n",
    "This can be done by building a pattern out of elements that fit nicely within the tile. Sinusoids, with their characteristic frequencies, make nice building blocks.\n",
    "\n",
    "The attractor rules for patterning onto a torus consist of two Fourier expansions:\n",
    "\n",
    "$$\n",
    "\\begin{aligned}\n",
    "x_{n+1} = \\sum_{m\\geq0 \\;\\&\\; n\\geq>0} a_{m,n}*sin(2 \\pi m x_n)*cos(2 \\pi n y_n)\\\\\n",
    "y_{n+1} = \\sum_{m\\geq0 \\;\\&\\; n\\geq>0} b_{m,n}*sin(2 \\pi m x_n)*cos(2 \\pi n y_n)\n",
    "\\end{aligned}\n",
    "$$\n",
    "\n",
    "For example, we can build an attractor using 4 such terms on a square lattice:"
   ]
  },
  {
   "cell_type": "code",
   "execution_count": null,
   "metadata": {},
   "outputs": [],
   "source": [
    "squarePattern[alpha_, beta_, gamma_, epsilon_, m_, v_][{x_, y_}] := \n",
    " m*{x, y} + v + alpha*{Sin[2*Pi*x], Sin[2*Pi*y]}  (*m=1,n=0*)+ \n",
    "  beta*{Sin[2*Pi*x]*Cos[2*Pi*y], Sin[2*Pi*y]*Cos[2*Pi*x]} (*m=1,n=1*)+\n",
    "   gamma*{Sin[4*Pi*x], Sin[4*Pi*y]} (*m=2,n=0*)+ \n",
    "    epsilon*{Sin[6*Pi*x]*Cos[4*Pi*y], Sin[6*Pi*y]*Cos[4*Pi*x]} (*m=3,n=2*)"
   ]
  },
  {
   "cell_type": "code",
   "execution_count": null,
   "metadata": {},
   "outputs": [],
   "source": [
    "data = NestList[squarePattern[0.25, -0.3, 0.2, 0.3, 1, {0, 0}], \n",
    "   RandomReal[{0.2, 0.7}, 2], 1000000];\n",
    "   \n",
    "dataBinCounts = BinCounts[data, 0.001, 0.001];\n",
    "ArrayPlot[Log[dataBinCounts + 1], Frame -> False, \n",
    " ColorFunction -> \"SunsetColors\",ImageSize->300]"
   ]
  },
  {
   "cell_type": "markdown",
   "metadata": {},
   "source": [
    "This is rather slow, let's compile in C again:"
   ]
  },
  {
   "cell_type": "code",
   "execution_count": null,
   "metadata": {},
   "outputs": [],
   "source": [
    "attractorTiling = \n",
    " Compile[{{xmin, _Real}, {xmax, _Real}, {ymin, _Real}, {ymax, _Real}, \n",
    "{delta, _Real}, {itmax, _Integer}, {lambda, _Real}, \n",
    "{a, _Real}, {b,_Real}, {c, _Real}, {m, _Real}, {v, _Real, 1}}, \n",
    "  Block[{bins, dim, x, y, tx, ty, z}, \n",
    "   bins = ConstantArray[0,Floor[{xmax - xmin, ymax - ymin}/delta] + {1, 1}];\n",
    "   dim = Dimensions[bins];\n",
    "   {x, y} = {0.3, 0.2};\n",
    "   \n",
    "   Do[{x, y} = {\n",
    "   m x + v[[1]] + lambda Sin[2 Pi x] + a (Sin[2 Pi x] Cos[2 Pi y]) + b Sin[4 Pi x] + c (Sin[6 Pi x] Cos [4 Pi y]), \n",
    "      m y + v[[2]] + lambda Sin[2 Pi y] + a ( Sin[2 Pi y] Cos[2 Pi x]) + b Sin[4 Pi y] + c ( Sin[6 Pi y] Cos [4 Pi x])\n",
    "      };\n",
    "    \n",
    "    (*bining*)\n",
    "    tx = Floor[(x - xmin)/delta] + 1;\n",
    "    ty = Floor[(y - ymin)/delta] + 1;\n",
    "    If[tx >= 1 && tx <= dim[[1]] && ty >= 1 && ty <= dim[[2]], \n",
    "     bins[[tx, ty]] += 1], {i, 1, itmax}]; \n",
    "     bins],\n",
    "     \n",
    "  CompilationTarget -> \"C\", RuntimeOptions -> \"Speed\"]"
   ]
  },
  {
   "cell_type": "code",
   "execution_count": null,
   "metadata": {},
   "outputs": [],
   "source": [
    "ArrayPlot[\n",
    " Log[attractorTiling[0, 1, 0, 1, 0.001, 3000000, 0.25, -.3, .2, .3,1, {0, 0}] + 1], \n",
    "    ColorFunction -> ColorData[\"SunsetColors\"],Frame -> False, ImageSize->300]"
   ]
  },
  {
   "cell_type": "markdown",
   "metadata": {},
   "source": [
    "Finally, we want to assemble our quilts:"
   ]
  },
  {
   "cell_type": "code",
   "execution_count": null,
   "metadata": {},
   "outputs": [],
   "source": [
    "Block[{\n",
    "bins = \n",
    "   N[attractorTiling[0, 1, 0, 1, 0.003,3000000, 0.25, -.3, .2, .3, 1, {0, 0}]]},\n",
    " ArrayPlot[Log[PadRight[bins, {1002, 1002}, bins] + 1], ImageSize -> 300, Frame -> False, \n",
    "  ColorFunction -> (ColorData[\"SunsetColors\", #^1.5] &)]]"
   ]
  },
  {
   "cell_type": "code",
   "execution_count": null,
   "metadata": {},
   "outputs": [],
   "source": []
  }
 ],
 "metadata": {
  "kernelspec": {
   "display_name": "Wolfram Language 12.2",
   "language": "Wolfram Language",
   "name": "wolframlanguage12.2"
  },
  "language_info": {
   "codemirror_mode": "mathematica",
   "file_extension": ".m",
   "mimetype": "application/vnd.wolfram.m",
   "name": "Wolfram Language",
   "pygments_lexer": "mathematica",
   "version": "12.0"
  }
 },
 "nbformat": 4,
 "nbformat_minor": 4
}
