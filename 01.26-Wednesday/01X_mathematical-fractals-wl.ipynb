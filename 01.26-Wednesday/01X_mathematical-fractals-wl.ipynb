{
 "cells": [
  {
   "cell_type": "markdown",
   "metadata": {},
   "source": [
    "# Mathematical Fractals\n",
    "\n",
    "\"A fractal is a way of seeing infinity.\" ~ *Benoit Mandelbrot*\n",
    "\n",
    "## Julia Set\n",
    "\n",
    "We investigate a simple quadratic mapping given by:\n",
    "\n",
    "$$ z_{n+1} = z_n^2 + c $$\n",
    "\n",
    "We're interested in the set of \"exceptional points\", z.  \n",
    "I.e. those which do not escape to complex infinity after a quadratic mapping is applied repeatedly."
   ]
  },
  {
   "cell_type": "markdown",
   "metadata": {},
   "source": [
    "<div class=\"alert alert-block alert-warning\">\n",
    "<b>Note: </b>\n",
    "This is the simplest case of an 'orbit trap' - we'll investigate these further later today.\n",
    "</div>"
   ]
  },
  {
   "cell_type": "code",
   "execution_count": null,
   "metadata": {},
   "outputs": [],
   "source": [
    "naiveJulia[{zReal_, zIm_}, c_, maxIters_ : 100, escapeRadius_ : 1] :=\n",
    " \n",
    " NestWhile[#^2 + c &, zReal + zIm I, \n",
    "  Abs[#] < escapeRadius &, 1, \n",
    "  maxIters]"
   ]
  },
  {
   "cell_type": "code",
   "execution_count": null,
   "metadata": {},
   "outputs": [],
   "source": [
    "ArrayPlot[\n",
    " Table[naiveJulia[{r, i}, I, 10, 2], \n",
    " {r, -1.5, 1.5, 0.005}, \n",
    " {i, -1.5, 1.5, 0.005}\n",
    " ],ImageSize->Small]"
   ]
  },
  {
   "cell_type": "markdown",
   "metadata": {},
   "source": [
    "Compare with built-in Julia-set function:"
   ]
  },
  {
   "cell_type": "code",
   "execution_count": null,
   "metadata": {},
   "outputs": [],
   "source": [
    "JuliaSetPlot[I,ImageSize->Small]"
   ]
  },
  {
   "cell_type": "markdown",
   "metadata": {},
   "source": [
    "This particular Julia set is called 'the dendritic fractal' and is related to the second fractal we'll investigate!"
   ]
  },
  {
   "cell_type": "markdown",
   "metadata": {},
   "source": [
    "## Mandelbrot Set\n",
    "The connected set of these \"exceptional points\" in the Julia Set forms the Mandelbrot set.  \n",
    "This is again given by the same quadratic mapping:\n",
    "\n",
    "$$ z_{n+1} = z_n^2 + c $$\n",
    "\n",
    "The difference being we'll now iterate over the complex number c with an initial starting point, namely 0. + 0 I."
   ]
  },
  {
   "cell_type": "code",
   "execution_count": null,
   "metadata": {},
   "outputs": [],
   "source": [
    "naiveMandelBrot[{cReal_, cIm_}, maxIters_ : 100, escapeRadius_ : 2] :=\n",
    "  If[Length[\n",
    "    NestWhileList[#^2 + (cReal + cIm I) &,\n",
    "     0. + 0. I, \n",
    "     Abs[#] < escapeRadius &, 1, maxIters]] > maxIters, 1, 0]"
   ]
  },
  {
   "cell_type": "code",
   "execution_count": null,
   "metadata": {},
   "outputs": [],
   "source": [
    "ArrayPlot[\n",
    " Table[naiveMandelBrot[{r, i}, 10, 2], \n",
    " {r, -2, 2, 0.004}, \n",
    " {i, -2, 2, 0.004}],ImageSize->Small]"
   ]
  },
  {
   "cell_type": "markdown",
   "metadata": {},
   "source": [
    "We'll add a bit more detail by counting the iterations on the boundary (scaled by the max iteration), increasing the number of iterations and adding color."
   ]
  },
  {
   "cell_type": "code",
   "execution_count": null,
   "metadata": {},
   "outputs": [],
   "source": [
    "lessNaiveMandelBrot[{cReal_, cIm_}, maxIters_ : 100, escapeRadius_ : 2] := \n",
    " Sqrt[Length[\n",
    "    NestWhileList[#^2 + (cReal + cIm I) &, \n",
    "    0. + 0. I, \n",
    "    Abs[#] < escapeRadius &, 1, maxIters]]/maxIters]"
   ]
  },
  {
   "cell_type": "code",
   "execution_count": null,
   "metadata": {},
   "outputs": [],
   "source": [
    "ArrayPlot[\n",
    " Table[lessNaiveMandelBrot[{r, i}, 100, 2], \n",
    " {r, -2, 2, 0.004}, \n",
    " {i, -2, 2, 0.004}], \n",
    " ColorFunction -> ColorData[\"SunsetColors\"],\n",
    " ImageSize->Small]"
   ]
  },
  {
   "cell_type": "markdown",
   "metadata": {},
   "source": [
    "Compare this with the built-in Mandelbrot-set function:"
   ]
  },
  {
   "cell_type": "code",
   "execution_count": null,
   "metadata": {},
   "outputs": [],
   "source": [
    "MandelbrotSetPlot[ImageSize->Small]"
   ]
  },
  {
   "cell_type": "markdown",
   "metadata": {},
   "source": [
    "The 'naive' implementation is getting rather slow.  \n",
    "Let's compile it in C!"
   ]
  },
  {
   "cell_type": "code",
   "execution_count": null,
   "metadata": {},
   "outputs": [],
   "source": [
    "mnd = Compile[{{maxiter, _Integer}, {zinit, _Complex}, {dt, _Real}}, \n",
    "  Module[{z, c, iters},\n",
    "   Table[\n",
    "    \n",
    "    z = zinit;\n",
    "    c = cr + I*ci;\n",
    "    iters = 0.;\n",
    "    \n",
    "    While[(iters < maxiter) && (Abs@z < 2), \n",
    "     \n",
    "     iters++;\n",
    "     z = z^2 + c];\n",
    "     \n",
    "    Sqrt[iters/maxiter], \n",
    "    {cr, -2, 2, dt}, \n",
    "    {ci, -2, 2, dt}]],\n",
    "    \n",
    "  CompilationTarget -> \"C\", \n",
    "  RuntimeOptions -> \"Speed\"]"
   ]
  },
  {
   "cell_type": "code",
   "execution_count": null,
   "metadata": {},
   "outputs": [],
   "source": [
    "Timing[lst = mnd[100, 0 + 0 I, .01];]\n",
    "ArrayPlot[lst, \n",
    "ColorFunction -> ColorData[\"SunsetColors\"],\n",
    "ImageSize->Small]"
   ]
  },
  {
   "cell_type": "markdown",
   "metadata": {},
   "source": [
    "We get  can get interesting behaviour by changing the starting point dynamically."
   ]
  },
  {
   "cell_type": "code",
   "execution_count": null,
   "metadata": {
    "scrolled": true
   },
   "outputs": [],
   "source": [
    "Timing[lst = mnd[100, .5 + .5 I, .01];]\n",
    "ArrayPlot[lst,\n",
    "ColorFunction -> ColorData[\"SunsetColors\"],\n",
    "ImageSize->Small]"
   ]
  },
  {
   "cell_type": "markdown",
   "metadata": {},
   "source": [
    "<div class=\"alert alert-block alert-danger\">\n",
    "<b>Alert:</b> Unfortunately the Jupyter front-end for Mathematica has limited support for `Dynamic` functionality. We'll make a movie here, see the Wolfram cloud notebook for an interactive version\n",
    "</div>"
   ]
  },
  {
   "cell_type": "code",
   "execution_count": null,
   "metadata": {},
   "outputs": [],
   "source": [
    "frames=Table[\n",
    " ArrayPlot[mnd[100, (1. + 1. I) p, 0.01],\n",
    "  ColorFunction -> ColorData[\"SunsetColors\"], Frame -> False],\n",
    " {p, Subdivide[30]}];\n",
    "\n",
    "Export[\"gifs/mandelbrot-blowing-in-the-wind-animation.gif\", frames,\n",
    "ImageSize->300,\"AnimationRepetitions\" -> Infinity]"
   ]
  },
  {
   "cell_type": "markdown",
   "metadata": {},
   "source": [
    "![mandelbrot](gifs/mandelbrot-blowing-in-the-wind-animation.gif \"mandelbrot\")"
   ]
  },
  {
   "cell_type": "markdown",
   "metadata": {},
   "source": [
    "## Complex Polynomial Roots\n",
    "In mathematics, a Littlewood polynomial is a polynomial all of whose coefficients are +1 or -1.  \n",
    "The complex roots of such polynomials often show fractal behavior!"
   ]
  },
  {
   "cell_type": "code",
   "execution_count": null,
   "metadata": {},
   "outputs": [],
   "source": [
    "Graphics[{PointSize[Tiny], \n",
    "  Point@Flatten[(({Re[z], Im[z]} /. #) & /@ \n",
    "        NSolve[z^Range[0, 11] . # == 0, z]) \n",
    "        & /@ Tuples[{-1, 1}, 12], \n",
    "    1]}, ImageSize -> 400]"
   ]
  },
  {
   "cell_type": "markdown",
   "metadata": {},
   "source": [
    "This is a very \"terse\" one-liner. Let's analyze it:"
   ]
  },
  {
   "cell_type": "code",
   "execution_count": null,
   "metadata": {},
   "outputs": [],
   "source": [
    "z^Range[0, 5]\n",
    "z^Range[0, 5] . {3, 4, 0, 1, 2, 6}"
   ]
  },
  {
   "cell_type": "markdown",
   "metadata": {},
   "source": [
    "The above two lines are a compact line of generating a complex polynomial.  \n",
    "To make Littlewood polynomials in particular, say of degree 11, we take all length-12 combinations of -1 and 1:"
   ]
  },
  {
   "cell_type": "code",
   "execution_count": null,
   "metadata": {},
   "outputs": [],
   "source": [
    "Length[tups=Tuples[{-1, 1}, 12]]\n",
    "RandomChoice[tups]"
   ]
  },
  {
   "cell_type": "markdown",
   "metadata": {},
   "source": [
    "Putting it all together:"
   ]
  },
  {
   "cell_type": "code",
   "execution_count": null,
   "metadata": {},
   "outputs": [],
   "source": [
    "z^Range[0, 11] . RandomChoice[Tuples[{-1, 1}, 12]]"
   ]
  },
  {
   "cell_type": "markdown",
   "metadata": {},
   "source": [
    "We then proceed to solve for the complex roots of the Littlewood polynomial:"
   ]
  },
  {
   "cell_type": "code",
   "execution_count": null,
   "metadata": {},
   "outputs": [],
   "source": [
    "NSolve[\n",
    "z^Range[0, 11] . RandomChoice[Tuples[{-1, 1}, 12]] == 0,\n",
    "z]"
   ]
  },
  {
   "cell_type": "code",
   "execution_count": null,
   "metadata": {},
   "outputs": [],
   "source": []
  }
 ],
 "metadata": {
  "kernelspec": {
   "display_name": "Wolfram Language 12.2",
   "language": "Wolfram Language",
   "name": "wolframlanguage12.2"
  },
  "language_info": {
   "codemirror_mode": "mathematica",
   "file_extension": ".m",
   "mimetype": "application/vnd.wolfram.m",
   "name": "Wolfram Language",
   "pygments_lexer": "mathematica",
   "version": "12.0"
  }
 },
 "nbformat": 4,
 "nbformat_minor": 4
}
