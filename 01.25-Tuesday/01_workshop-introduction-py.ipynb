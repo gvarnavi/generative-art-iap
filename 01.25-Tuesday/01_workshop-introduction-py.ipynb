{
 "cells": [
  {
   "cell_type": "markdown",
   "metadata": {
    "slideshow": {
     "slide_type": "slide"
    }
   },
   "source": [
    "# Generative Art Workshop 2022\n",
    "### George Varnavides, Jovana Andrejevic, Nina Andrejevic\n",
    "\n",
    "\n",
    "### Resources\n",
    "- **Website:** [**https://gvarnavides.com/generative-art-workshop-website/**](https://gvarnavides.com/generative-art-workshop-website/)\n",
    "- **Github repository:** [**https://github.com/gvarnavi/generative-art-iap**](https://github.com/gvarnavi/generative-art-iap)\n",
    "\n",
    "\n",
    "### Schedule\n",
    "#### Tuesday, January 25, 10am - 12:30pm ET\n",
    "- Class Overview\n",
    "- Geometric Fractals\n",
    "- Lindenmayer Systems"
   ]
  },
  {
   "cell_type": "markdown",
   "metadata": {
    "slideshow": {
     "slide_type": "slide"
    }
   },
   "source": [
    "#### Wednesday, January 26, 10am - 12:30pm ET\n",
    "- Mathematical Fractals\n",
    "- Strange Attractors\n",
    "- Wallpaper Groups\n",
    "\n",
    "#### Thursday, January 27, 10am - 12:30pm ET\n",
    "- Cellular Automata\n",
    "- Discrete and Continuous Physical Systems\n",
    "\n",
    "#### Friday, January 28, 10am - 12:30pm ET\n",
    "- Reaction-Diffusion Systems\n",
    "- Generative Adversarial Network Art"
   ]
  },
  {
   "cell_type": "markdown",
   "metadata": {
    "slideshow": {
     "slide_type": "slide"
    }
   },
   "source": [
    "# Introduction to Generative Art\n",
    "\n",
    "### What is generative art?\n",
    "\n",
    "*Generative art is art or design generated through an autonomous process.*\n",
    "\n",
    "An autonomous process is a way of algorithmically generating new shapes, colors, patterns, and even sounds. By simply creating rules that dictate the creation process, we can enable a computer to follow those rules to produce new works.\n",
    "\n",
    "**Example: Cellular Automaton**\n",
    "![cellular automaton](https://drive.google.com/uc?id=1kAXZdw3KHweTD3lHKMw9MHmhtFCzGAkC)"
   ]
  },
  {
   "cell_type": "markdown",
   "metadata": {
    "slideshow": {
     "slide_type": "slide"
    }
   },
   "source": [
    "## Examples in nature...\n",
    "\n",
    "![fractal](https://drive.google.com/uc?id=1-IRC2TaTwqP95d68DsM56F6DPExfMgP4)"
   ]
  },
  {
   "cell_type": "markdown",
   "metadata": {
    "slideshow": {
     "slide_type": "slide"
    }
   },
   "source": [
    "## In this class...\n",
    "![fractal](https://drive.google.com/uc?id=1A7543pbxFRnZdaHB-OLtCuBwL0dtiwoX)"
   ]
  },
  {
   "cell_type": "markdown",
   "metadata": {
    "slideshow": {
     "slide_type": "slide"
    }
   },
   "source": [
    "![pattern](https://drive.google.com/uc?id=1r2PWXhKb6uarfgZMlX-D59s1KrjCGYZI)"
   ]
  },
  {
   "cell_type": "markdown",
   "metadata": {
    "slideshow": {
     "slide_type": "slide"
    }
   },
   "source": [
    "![chaos](https://drive.google.com/uc?id=1w_z6EBw3G7wg8vzxh2cRT4tWGtPOoou7)"
   ]
  },
  {
   "cell_type": "markdown",
   "metadata": {
    "slideshow": {
     "slide_type": "slide"
    }
   },
   "source": [
    "## Examples from AI...\n",
    "\n",
    "### Paintings by Generative Adversarial Networks (GANs)\n",
    "![keragan](https://drive.google.com/uc?id=1jSDgYwAU3eJsY8BzZLvPLpJpRjE-55Qt)"
   ]
  },
  {
   "cell_type": "markdown",
   "metadata": {
    "slideshow": {
     "slide_type": "slide"
    }
   },
   "source": [
    "### Pokemon by GANs\n",
    "![pokemon.gif](https://drive.google.com/uc?export=view&id=1GFxCnScolnbX4wOBlPs7DH5btGXzsJoL)"
   ]
  },
  {
   "cell_type": "markdown",
   "metadata": {
    "slideshow": {
     "slide_type": "slide"
    }
   },
   "source": [
    "## Accessing course material\n",
    "\n",
    "The course is taught primarily through Jupyter notebooks accessible on the course [**Website**](https://gvarnavides.com/generative-art-workshop-website/) and [**GitHub repository**](https://github.com/gvarnavi/generative-art-iap). No installation is required on your end!\n",
    "\n",
    "### Course website\n",
    "![website](https://drive.google.com/uc?id=16ygypKl7T_GvBdT4aRNoTdBwaqvJj3rQ)"
   ]
  },
  {
   "cell_type": "markdown",
   "metadata": {
    "slideshow": {
     "slide_type": "slide"
    }
   },
   "source": [
    "### GitHub repository\n",
    "![github](https://drive.google.com/uc?id=14SklMkMte7vVrmFnNb7tVB-o1n9NVO_n)"
   ]
  },
  {
   "cell_type": "markdown",
   "metadata": {
    "slideshow": {
     "slide_type": "slide"
    }
   },
   "source": [
    "### Navigate to notebooks\n",
    "![step1](https://drive.google.com/uc?id=1q3pAO6wWsb61PZ8nTgMGgZ_D3vNZZmoi)"
   ]
  },
  {
   "cell_type": "markdown",
   "metadata": {
    "slideshow": {
     "slide_type": "slide"
    }
   },
   "source": [
    "### Opening an interactive notebook\n",
    "Select the day and topic, choose the notebook in one of the available programming languages, and click the badge at the top to open an interactive version of the notebook.\n",
    "![step2](https://drive.google.com/uc?id=1ynb-0yrOf6JGegzuI7q5ANqMgCVTZAIj)"
   ]
  },
  {
   "cell_type": "markdown",
   "metadata": {
    "slideshow": {
     "slide_type": "slide"
    }
   },
   "source": [
    "### Downloading a local copy\n",
    "![step3](https://drive.google.com/uc?id=1aEjtpHAJAKiupGaPMZfDloqDJ1ABjHx4)"
   ]
  }
 ],
 "metadata": {
  "celltoolbar": "Slideshow",
  "kernelspec": {
   "display_name": "Python 3 (ipykernel)",
   "language": "python",
   "name": "python3"
  },
  "language_info": {
   "codemirror_mode": {
    "name": "ipython",
    "version": 3
   },
   "file_extension": ".py",
   "mimetype": "text/x-python",
   "name": "python",
   "nbconvert_exporter": "python",
   "pygments_lexer": "ipython3",
   "version": "3.9.5"
  }
 },
 "nbformat": 4,
 "nbformat_minor": 4
}
