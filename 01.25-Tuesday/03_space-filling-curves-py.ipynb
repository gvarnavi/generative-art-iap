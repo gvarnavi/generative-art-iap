{
 "cells": [
  {
   "cell_type": "markdown",
   "metadata": {},
   "source": [
    "[![Open In Colab](https://colab.research.google.com/assets/colab-badge.svg)](https://colab.research.google.com/github/gvarnavi/generative-art-iap/blob/master/01.25-Tuesday/03_space-filling-curves-py.ipynb)"
   ]
  },
  {
   "cell_type": "markdown",
   "metadata": {},
   "source": [
    "# Continuous line drawing with space-filling curves\n",
    "\n",
    "![Continuous-line-drawing](https://raw.githubusercontent.com/gvarnavi/generative-art-iap/master/01.25-Tuesday/visuals/continuous_line_drawing.png)\n",
    "\n",
    "Space-filling curves are a type of fractal that can fill the 2D plane. Notably, space-filling curves have finite area, but infinite length. Here we will look at a particular type of space-filling curve, the Hilbert curve, and see how we can use it to make continuous line drawings. The figure below illustrates the first four levels of the Hilbert curve on a regular grid.\n",
    "\n",
    "![Hilbert-curve](https://raw.githubusercontent.com/gvarnavi/generative-art-iap/master/01.25-Tuesday/visuals/hilbert_curve.png)\n",
    "\n",
    "A good way to think about the Hilbert curve is that it provides a mapping between an $(x,y)$ coordinate in 2D and a corresponding numeric label. This mapping gives us a unique traversal order through the grid points, as shown below:\n",
    "\n",
    "![Hilbert-curve-labeled](https://raw.githubusercontent.com/gvarnavi/generative-art-iap/master/01.25-Tuesday/visuals/hilbert_curve_labeled.png)\n",
    "\n",
    "Let's look at how this mapping can be determined in more detail. The following figure shows an iterative approach by which the numeric label for a given $(x,y)$ coordinate can be determined, down to the 3rd level of refinement. The key steps are as follows:\n",
    "1. Starting with the most significant bits, begin determining the numeric index by identifying the quadrant in which the point lies.\n",
    "2. To begin the next iteration, adjust the origin to the center of the current quadrant, and define new quadrants with half the size.\n",
    "3. Determine the next pair of digits.\n",
    "4. Adjust the origin to the center of the current quadrant.\n",
    "5. If the previous iteration ended in one of the lower two quadrants, perform a reflection about the line $y=x$ (lower left) or $y=-x$ (lower right) relative to the newly-centered axes.\n",
    "\n",
    "![Hilbert-process](https://raw.githubusercontent.com/gvarnavi/generative-art-iap/master/01.25-Tuesday/visuals/hilbert_process.png)\n",
    "\n",
    "Let's see this in code:"
   ]
  },
  {
   "cell_type": "code",
   "execution_count": null,
   "metadata": {},
   "outputs": [],
   "source": [
    "%matplotlib inline\n",
    "import numpy as np\n",
    "import matplotlib.pyplot as plt\n",
    "\n",
    "# map a coordinate to its corresponding linear index based on the Hilbert\n",
    "# space-filling curve.\n",
    "def coord2index(x,y,lv):\n",
    "    # (x,y) is the coordinate to map\n",
    "    # lv sets the grid resolution and number of digits to allow for the\n",
    "    # index; indices will range from 0 to 4^lv-1.\n",
    "    # assume the coordinate is confined to the square [-1,1]x[-1,1].\n",
    "    d=0.5\n",
    "    i=0\n",
    "    # number of digits in binary is 2*lv.\n",
    "    for j in range(lv):\n",
    "        # bit shift by 2; more significant bits are handled first\n",
    "        i<<=2\n",
    "        \n",
    "        # update the bits\n",
    "        if x<0 and y<0:     i|=0  # (00)\n",
    "        elif x<0 and y>=0:  i|=1  # (01)\n",
    "        elif x>=0 and y>=0: i|=2  # (10)\n",
    "        else:               i|=3  # (11)\n",
    "            \n",
    "        # update quadrant centers\n",
    "        if x>0: x-=d\n",
    "        else:   x+=d\n",
    "        if y>0: y-=d\n",
    "        else:\n",
    "            y+=d\n",
    "            # apply a reflection to the lower two quadrants\n",
    "            # to set up for next iteration\n",
    "            tmp=y\n",
    "            y=-x if i&1 else x\n",
    "            x=-tmp if i&1 else tmp\n",
    "            \n",
    "        # rescale\n",
    "        d*=0.5\n",
    "    return i"
   ]
  },
  {
   "cell_type": "markdown",
   "metadata": {},
   "source": [
    "While we traditionally see the Hilbert curve on a grid, this mapping gives us a traversal order through any set of points in 2D. Provided the domain is subdivided far enough, we can obtain a unique label for each point, then connect them in order of smallest to largest, even if the numeric labels are not necessarily consecutive.\n",
    "\n",
    "![Hilbert-examples](https://raw.githubusercontent.com/gvarnavi/generative-art-iap/master/01.25-Tuesday/visuals/hilbert_examples.png)\n",
    "\n",
    "With this idea in mind, let's apply the Hilbert space-filling curve to create continuous line drawings! First, we create a helper function that takes a collection of points, rescales them to a maximal extent of $[-1,1]$, and computes and returns consecutive indices to use in traversing a path through the points based on the Hilbert space-filling curve."
   ]
  },
  {
   "cell_type": "code",
   "execution_count": null,
   "metadata": {},
   "outputs": [],
   "source": [
    "# Return consecutive indices for a set of points.\n",
    "def get_hilbert_indices(pts,lv=12):\n",
    "    # Map the coordinates onto a region with maximal extent [-1,1].\n",
    "    hi = np.max(pts)\n",
    "    lo = np.min(pts)\n",
    "    pts = 2*(pts-lo)/(hi-lo)-1\n",
    "    x = pts[:,0]\n",
    "    y = pts[:,1]\n",
    "\n",
    "    # Get the (possibly non-consecutive) indices for the points.\n",
    "    inds = np.zeros(len(pts))\n",
    "    for i,(xx,yy) in enumerate(zip(x,y)):\n",
    "        inds[i] = coord2index(xx,yy,lv)\n",
    "\n",
    "    # Return sequential indices using argsort.\n",
    "    return np.argsort(inds)"
   ]
  },
  {
   "cell_type": "markdown",
   "metadata": {},
   "source": [
    "Next we define routines for loading, downsampling, and plotting an image."
   ]
  },
  {
   "cell_type": "code",
   "execution_count": null,
   "metadata": {},
   "outputs": [],
   "source": [
    "from skimage.io import imread\n",
    "from skimage.measure import block_reduce\n",
    "\n",
    "def load_image(img_path, max_size=500):   \n",
    "    im = imread(img_path, as_gray=True)\n",
    "\n",
    "    # ensure image is on [0,255].\n",
    "    if np.max(im) < 2:\n",
    "        im *= 255.\n",
    "\n",
    "    # downsample the image a bit if it's too big.\n",
    "    m,n = im.shape\n",
    "    while max(m,n) > max_size:\n",
    "        im = block_reduce(im, block_size=(2,2), func=np.mean, cval=255.)\n",
    "        m,n = im.shape\n",
    "    print(\"Image dimensions:\",m,n)\n",
    "    return im\n",
    "\n",
    "def image_plot(figsize=(7,7)):\n",
    "    plt.close()\n",
    "    fig, ax = plt.subplots(1,1,figsize=figsize)\n",
    "    ax.axis('equal')\n",
    "    ax.axis('off')\n",
    "    fig.tight_layout()\n",
    "    return fig, ax"
   ]
  },
  {
   "cell_type": "markdown",
   "metadata": {},
   "source": [
    "Let's look at a test image below."
   ]
  },
  {
   "cell_type": "code",
   "execution_count": null,
   "metadata": {},
   "outputs": [],
   "source": [
    "# If running on Google Colab, clone the repo to access\n",
    "# the sample image directory. Otherwise skip this cell.\n",
    "!git clone https://github.com/gvarnavi/generative-art-iap.git\n",
    "%cd generative-art-iap/01.25-Tuesday"
   ]
  },
  {
   "cell_type": "code",
   "execution_count": null,
   "metadata": {},
   "outputs": [],
   "source": [
    "# Load a test image\n",
    "im = load_image(\"images/sample.png\")\n",
    "m,n = im.shape\n",
    "\n",
    "fig, ax = image_plot()\n",
    "ax.imshow(im, cmap=plt.cm.gray, vmin=0, vmax=255)\n",
    "plt.show()"
   ]
  },
  {
   "cell_type": "markdown",
   "metadata": {},
   "source": [
    "What we'd like to do is sample this image based on intensity: Dark regions are sampled more often, and light regions less often. A procedure for this is described in the following paper, which we'll use as our basis for sampling:\n",
    "\n",
    ">Bosch, R., & Herman, A. Continuous line drawings via the traveling salesman problem. Operations research letters, 32(4), 302-303 (2004)\n",
    "https://doi.org/10.1016/j.orl.2003.10.001.\n",
    "\n",
    "In fact, this paper demonstrates how to perform continuous line drawings through a different approach, by solving the Traveling Salesman Problem.\n",
    "\n",
    "The key steps in the sampling process are:\n",
    "1. Subdivide the image into blocks of size $bls \\times bls$.\n",
    "2. For each block $(i,j)$, compute the average intensity (grayscale value) $\\mu_{ij}$.\n",
    "3. For each block $(i,j)$, compute the number of samples $g_{ij}$ to take within that block based on its average intensity. We will use the formula\n",
    "\n",
    "$$\n",
    "g_{ij} = \\gamma - \\lfloor \\gamma\\left(\\frac{\\mu_{ij}}{256}\\right)^{\\beta} \\rfloor\n",
    "$$\n",
    "\n",
    "where $\\gamma$ is an integer that adjusts the number of levels of different sampling density, and $\\beta$ adjusts the contrast between dark and light.\n",
    "\n",
    "4. For each block $(i,j)$, sample $g_{ij}$ points uniformly inside the 2D region corresponding to that block."
   ]
  },
  {
   "cell_type": "code",
   "execution_count": null,
   "metadata": {},
   "outputs": [],
   "source": [
    "# Subdivide image into blsxbls blocks (i,j), and sample g_ij points in each block based on intensity.\n",
    "def sample_image(im, bls=3, gamma=20, beta=1.):\n",
    "    # compute the mean value of each block.\n",
    "    mu = block_reduce(im, block_size=(bls,bls), func=np.mean,\n",
    "                      cval=np.mean(np.hstack([im[:,-1],im[-1,:]])))\n",
    "    m, n = mu.shape\n",
    "    \n",
    "    # calculate number of samples to make in each block.\n",
    "    g = gamma - np.floor(gamma*(mu/256)**beta).astype(np.int)\n",
    "    \n",
    "    # Sample g(i,j) points uniformly in each bls*bls block (i,j).\n",
    "    N = np.sum(g) # total number of points to sample\n",
    "    print(\"Number of points:\",N)\n",
    "    x = np.zeros(N)\n",
    "    y = np.zeros(N)\n",
    "    k = 0\n",
    "    for i in range(m):\n",
    "        for j in range(n):\n",
    "            xs = np.random.uniform(low=j, high=j+1, size=g[i,j])\n",
    "            ys = np.random.uniform(low=m-i-1, high=m-i, size=g[i,j])\n",
    "            x[k:k+g[i,j]] = xs\n",
    "            y[k:k+g[i,j]] = ys\n",
    "            k += g[i,j]\n",
    "        \n",
    "    pts = np.unique(np.c_[x,y], axis=0)\n",
    "    bounds = (0,n,0,m)\n",
    "    return pts, bounds"
   ]
  },
  {
   "cell_type": "markdown",
   "metadata": {},
   "source": [
    "Let's sample our test image using a block size of 3."
   ]
  },
  {
   "cell_type": "code",
   "execution_count": null,
   "metadata": {},
   "outputs": [],
   "source": [
    "bls = 3\n",
    "pts, bounds = sample_image(im, bls)\n",
    "\n",
    "fig, ax = image_plot()\n",
    "ax.scatter(pts[:,0], pts[:,1], s=0.5, color='k')\n",
    "plt.show()"
   ]
  },
  {
   "cell_type": "markdown",
   "metadata": {},
   "source": [
    "With the collection of points to traverse, we can now obtain the Hilbert indices and plot our continuous line drawing!"
   ]
  },
  {
   "cell_type": "code",
   "execution_count": null,
   "metadata": {},
   "outputs": [],
   "source": [
    "inds = get_hilbert_indices(pts)\n",
    "\n",
    "# use indices to reorder x and y in correct traversal order by index.\n",
    "x = pts[inds,0]\n",
    "y = pts[inds,1]\n",
    "\n",
    "fig, ax = image_plot()\n",
    "ax.plot(x, y, lw=0.5, color='k')\n",
    "plt.show()"
   ]
  },
  {
   "cell_type": "markdown",
   "metadata": {},
   "source": [
    "This works as expected, but it can be improved. For example, notice how the points are not so evenly spaced, and the resulting line is jittery. Can we do something to regularize the spacing?\n",
    "\n",
    "One approach we can use follows from Voronoi tessellations. Given a set of points and the corresponding [Voronoi tessellation](https://en.wikipedia.org/wiki/Voronoi_diagram), we can use a very simple procedure known as [Lloyd's algorithm](https://en.wikipedia.org/wiki/Lloyd%27s_algorithm) to smooth the spacing of points. Lloyd's algorithm works by iteratively moving each point to the centroid of its Voronoi cell, then recomputing the Voronoi diagram. Over time, the Voronoi tessellation approaches a centroidal Voronoi tessellation, in which the points coincide with their cell centroids. The effects of Lloyd's algorithm on a small set of points is illustrated below.\n",
    "![Voronoi-Lloyd](https://raw.githubusercontent.com/gvarnavi/generative-art-iap/master/01.25-Tuesday/visuals/voronoi_lloyd.png)"
   ]
  },
  {
   "cell_type": "markdown",
   "metadata": {},
   "source": [
    "We can use the Voronoi package from scipy.spatial to compute the Voronoi diagram. A bit of extra care is needed to ensure the boundaries of the domain are rectangular. This involves appending mirrored versions of the boundary points across their nearest edge to obtain straight Voronoi cell boundaries, and is handled by the following routine ```bounded_voronoi```."
   ]
  },
  {
   "cell_type": "code",
   "execution_count": null,
   "metadata": {},
   "outputs": [],
   "source": [
    "from scipy.spatial import Voronoi\n",
    "\n",
    "# Compute a Voronoi diagram with rectangular bounds.\n",
    "def bounded_voronoi(pts, bounds):\n",
    "    # create the initial Voronoi diagram.\n",
    "    vor = Voronoi(pts, incremental=True)\n",
    "\n",
    "    # find vertices that lie outside the bounded domain, and store their index.\n",
    "    # Also include -1, which is scipy's flag for a vertex outside the Voronoi diagram.\n",
    "    out_vert_ids = [-1]+[i for i,v in enumerate(vor.vertices) if not in_bounds(v, bounds)]\n",
    "\n",
    "    # identify which points have cell vertices outside the domain, and store their index.\n",
    "    bound_ids = [i for i,r in enumerate(vor.point_region)\n",
    "                 if any(v in out_vert_ids for v in vor.regions[r])]\n",
    "\n",
    "    # mirror the boundary points and add them to the diagram. This makes the cells of\n",
    "    # all our original points bounded in the rectangular domain.\n",
    "    pts_add = mirror_points(pts[bound_ids,:], bounds)\n",
    "    vor.add_points(pts_add)\n",
    "    return vor\n",
    "\n",
    "def mirror_points(pts, bounds):\n",
    "    # inspired by: https://stackoverflow.com/questions/28665491/getting-a-bounded-polygon\n",
    "    #-coordinates-from-voronoi-cells.\n",
    "    # mirror the points over the boundaries of the bounding box to obtain bounded\n",
    "    # polygons for all voronoi cells of interest.\n",
    "    xmin, xmax, ymin, ymax = bounds\n",
    "    xmid = 0.5*(xmin+xmax)\n",
    "    ymid = 0.5*(ymin+ymax)\n",
    "    pts_n = np.copy(pts[pts[:,1]>ymid]); pts_s = np.copy(pts[pts[:,1]<ymid])\n",
    "    pts_e = np.copy(pts[pts[:,0]>xmid]); pts_w = np.copy(pts[pts[:,0]<xmid])\n",
    "    pts_n[:,1] = ymax+(ymax-pts_n[:,1])\n",
    "    pts_s[:,1] = ymin-(pts_s[:,1]-ymin)\n",
    "    pts_e[:,0] = xmax+(xmax-pts_e[:,0])\n",
    "    pts_w[:,0] = xmin-(pts_w[:,0]-xmin)\n",
    "    pts_c = np.vstack([pts_n,pts_s,pts_e,pts_w])\n",
    "    return pts_c\n",
    "\n",
    "def in_bounds(pt, bounds):\n",
    "    xmin, xmax, ymin, ymax = bounds\n",
    "    return (xmin <= pt[0] <= xmax) and (ymin <= pt[1] <= ymax)"
   ]
  },
  {
   "cell_type": "markdown",
   "metadata": {},
   "source": [
    "Finally we set up a function to iteratively compute the Voronoi diagram, then adjust the point coordinates to their cooresponding cell centroids."
   ]
  },
  {
   "cell_type": "code",
   "execution_count": null,
   "metadata": {},
   "outputs": [],
   "source": [
    "from numba import njit\n",
    "\n",
    "# Converge to a centroidal voronoi diagram.\n",
    "def centroidal_voronoi(pts, bounds, iters=1):\n",
    "    N = len(pts) # the number of points to adjust.\n",
    "    for k in range(iters):\n",
    "        vor = bounded_voronoi(pts, bounds)\n",
    "        \n",
    "        # find the polygons corresponding to the original points' Voronoi cells. Each\n",
    "        # polygon is represented by a list of vertex coordinates, with the last matching\n",
    "        # the first to form a closed loop. To use njit, we will need to unravel the list\n",
    "        # of lists of vertex ids and use a pointer to indicate the start of each new\n",
    "        # polygon's vertex set.\n",
    "        vert_ids = [vor.regions[r]+[vor.regions[r][0]] for r in vor.point_region[:N]]\n",
    "        vert_ptr = np.cumsum(np.array([0]+[len(verts) for verts in vert_ids]))\n",
    "        vert_ids = np.array([v for verts in vert_ids for v in verts])\n",
    "        vert_pos = np.array(vor.vertices)\n",
    "        \n",
    "        # update the current set of points to the centroids of the cells.\n",
    "        pts = get_centroids(vert_ids, vert_ptr, vert_pos)\n",
    "    return pts\n",
    "\n",
    "@njit\n",
    "def centroid(pts):\n",
    "    # compute the centroid of a closed polygon with coordinates given by pts.\n",
    "    # the first and last coordinates should be the same.\n",
    "    area=0; c=np.zeros(2)\n",
    "    for i in range(len(pts)-1):\n",
    "        s = pts[i,0]*pts[i+1,1]-pts[i+1,0]*pts[i,1]\n",
    "        area += s\n",
    "        c+=s*(pts[i]+pts[i+1])\n",
    "    c = np.abs(c)/(3*np.abs(area))\n",
    "    return c\n",
    "\n",
    "@njit\n",
    "def get_centroids(vert_ids, vert_ptr, vert_pos):\n",
    "    N = len(vert_ptr)-1\n",
    "    centroids = np.zeros((N,2))\n",
    "    for i in range(N):\n",
    "        verts = vert_ids[vert_ptr[i]:vert_ptr[i+1]]\n",
    "        pos = vert_pos[verts]\n",
    "        centroids[i] = centroid(pos)\n",
    "    return centroids"
   ]
  },
  {
   "cell_type": "markdown",
   "metadata": {},
   "source": [
    "Let's see how this works on our existing coordinate set:"
   ]
  },
  {
   "cell_type": "code",
   "execution_count": null,
   "metadata": {},
   "outputs": [],
   "source": [
    "%%time\n",
    "\n",
    "pts = centroidal_voronoi(pts, bounds, 2)\n",
    "\n",
    "fig, ax = image_plot()\n",
    "ax.scatter(pts[:,0], pts[:,1], s=0.5, color='k')\n",
    "plt.show()"
   ]
  },
  {
   "cell_type": "code",
   "execution_count": null,
   "metadata": {},
   "outputs": [],
   "source": [
    "inds = get_hilbert_indices(pts)\n",
    "\n",
    "# use indices to reorder x and y in correct traversal order by index.\n",
    "x = pts[inds,0]\n",
    "y = pts[inds,1]\n",
    "\n",
    "fig, ax = image_plot()\n",
    "ax.plot(x, y, lw=0.5, color='k')\n",
    "plt.show()"
   ]
  },
  {
   "cell_type": "markdown",
   "metadata": {},
   "source": [
    "Finally, we can experiment with some famous art!"
   ]
  },
  {
   "cell_type": "code",
   "execution_count": null,
   "metadata": {},
   "outputs": [],
   "source": [
    "# load in an image.\n",
    "im = load_image(\"images/girl_with_pearl_earring.jpg\")\n",
    "m, n = im.shape\n",
    "\n",
    "plt.close()\n",
    "fig, ax = image_plot()\n",
    "ax.imshow(im, cmap=plt.cm.gray, vmin=0, vmax=255)\n",
    "plt.show()"
   ]
  },
  {
   "cell_type": "code",
   "execution_count": null,
   "metadata": {},
   "outputs": [],
   "source": [
    "%%time\n",
    "\n",
    "# sample the image.\n",
    "bls = 3\n",
    "pts, bounds = sample_image(im, bls, gamma=20, beta=1./4)\n",
    "\n",
    "# smooth.\n",
    "pts = centroidal_voronoi(pts, bounds, 2)\n",
    "\n",
    "# find drawing path.\n",
    "inds = get_hilbert_indices(pts)\n",
    "\n",
    "# define x and y in traversal order.\n",
    "x = pts[inds,0]\n",
    "y = pts[inds,1]"
   ]
  },
  {
   "cell_type": "code",
   "execution_count": null,
   "metadata": {},
   "outputs": [],
   "source": [
    "# plot.\n",
    "fig, ax = image_plot()\n",
    "ax.plot(x, y, lw=0.5, color='k')\n",
    "plt.show()"
   ]
  },
  {
   "cell_type": "markdown",
   "metadata": {},
   "source": [
    "We can also vary the line color, for example by segment length."
   ]
  },
  {
   "cell_type": "code",
   "execution_count": null,
   "metadata": {},
   "outputs": [],
   "source": [
    "from matplotlib.collections import LineCollection\n",
    "\n",
    "points = np.array([x,y]).T.reshape(-1,1,2)\n",
    "segments = np.concatenate([points[:-1], points[1:]], axis=1)\n",
    "lengths = np.array([np.sqrt((p1[0]-p2[0])**2+(p1[1]-p2[1])**2) for p1,p2 in zip(segments[:,0,:],segments[:,1,:])])\n",
    "lengths = np.log(lengths)"
   ]
  },
  {
   "cell_type": "code",
   "execution_count": null,
   "metadata": {},
   "outputs": [],
   "source": [
    "plt.close()\n",
    "fig, ax = image_plot()\n",
    "lc = LineCollection(segments, array=lengths, cmap=plt.cm.magma, linewidth=1)\n",
    "ax.add_collection(lc)\n",
    "ax.set_xlim(bounds[:2])\n",
    "ax.set_ylim(bounds[2:])\n",
    "plt.show()"
   ]
  },
  {
   "cell_type": "markdown",
   "metadata": {},
   "source": [
    "#### Your turn!\n",
    "Try using a different image of your choice to create a continuous line drawing. Some tips for successful drawing:\n",
    "- Images with high contrast elements work best.\n",
    "- The centroidal Voronoi step can take a while, especially for a large number of points. Experiment with the desired settings by initially excluding this step, then turn it back on when you're ready to refine.\n",
    "- Sometimes the centroidal Voronoi can hit a snag if we try to add a point that closely coincides with an existing one. If this occurs, you can re-run the sampling to get a different random set of points. However, this should not happen very often."
   ]
  }
 ],
 "metadata": {
  "kernelspec": {
   "display_name": "Python 3",
   "language": "python",
   "name": "python3"
  },
  "language_info": {
   "codemirror_mode": {
    "name": "ipython",
    "version": 3
   },
   "file_extension": ".py",
   "mimetype": "text/x-python",
   "name": "python",
   "nbconvert_exporter": "python",
   "pygments_lexer": "ipython3",
   "version": "3.8.3"
  }
 },
 "nbformat": 4,
 "nbformat_minor": 4
}
