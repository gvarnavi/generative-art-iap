{
 "cells": [
  {
   "cell_type": "markdown",
   "metadata": {},
   "source": [
    "# Geometric L-Systems\n",
    "L-systems or \"Lindernmayer Systems\" originated from botany and refer to recursive systems used to model variety of organisms using:\n",
    "- An alphabet\n",
    "- An axiom (or initial state)\n",
    "- A set of replacement rules"
   ]
  },
  {
   "cell_type": "markdown",
   "metadata": {},
   "source": [
    "## Algae growth\n",
    "Let's look at a simple example first, a two-rule system used to model algae growth:\n",
    "\n",
    "![algae-growth](https://natureofcode.com/book/imgs/chapter08/ch08_24.png)\n",
    "\n",
    "- Alphabet: 'A' & 'B'\n",
    "- Axiom: 'A'\n",
    "- Rules: 'A'&rarr; 'AB', 'B' &rarr; 'A'"
   ]
  },
  {
   "cell_type": "markdown",
   "metadata": {},
   "source": [
    "We'll (ab)use the `translate` string method to perform our string replacements.\n",
    "Note: The key-value pairs in the translation table need to be in Unicode ordinal (i.e. integer representation)"
   ]
  },
  {
   "cell_type": "code",
   "execution_count": 1,
   "metadata": {},
   "outputs": [
    {
     "name": "stdout",
     "output_type": "stream",
     "text": [
      "AB\n",
      "ABA\n",
      "ABAAB\n"
     ]
    }
   ],
   "source": [
    "substitutionRulesAlgae={ord('A'):'AB', ord('B'):'A'}\n",
    "print('A'.translate(substitutionRulesAlgae))\n",
    "print('A'.translate(substitutionRulesAlgae).translate(substitutionRulesAlgae))\n",
    "print('A'.translate(substitutionRulesAlgae).translate(substitutionRulesAlgae).translate(substitutionRulesAlgae))"
   ]
  },
  {
   "cell_type": "markdown",
   "metadata": {},
   "source": [
    "We wrap this in a simple function to allow nesting:"
   ]
  },
  {
   "cell_type": "code",
   "execution_count": 2,
   "metadata": {},
   "outputs": [],
   "source": [
    "def substitutionSystem(numIters,axiom,rules):\n",
    "    string = axiom\n",
    "    for i in range(numIters):\n",
    "        string = string.translate(rules)\n",
    "    return string"
   ]
  },
  {
   "cell_type": "code",
   "execution_count": 3,
   "metadata": {},
   "outputs": [
    {
     "name": "stdout",
     "output_type": "stream",
     "text": [
      "A\n",
      "AB\n",
      "ABA\n",
      "ABAAB\n",
      "ABAABABA\n",
      "ABAABABAABAAB\n"
     ]
    }
   ],
   "source": [
    "for i in range(6):\n",
    "    print(substitutionSystem(i,'A',substitutionRulesAlgae))"
   ]
  },
  {
   "cell_type": "markdown",
   "metadata": {},
   "source": [
    "## Turtle Graphics\n",
    "Most operations of interest can be defined by the following \"standard\" alphabet:\n",
    "\n",
    "- F: Move forward by a specified distance & draw a line\n",
    "- G: Move forward by a specified distance w/o drawing a line\n",
    "- +: Turn right by a specified angle\n",
    "- -: Turn left by a specified angle  \n",
    "\n",
    "This is commonly referred to as 'Turtle graphics'.  \n",
    "Imagine a turtle sitting on your computer screen following a limited set of commands.\n",
    "\n",
    "\n",
    "This is a very popular way of teaching recursion, so it's built-in python.  \n",
    "Here we load a slightly different package to work inline in a Jupyter notebook."
   ]
  },
  {
   "cell_type": "code",
   "execution_count": 4,
   "metadata": {},
   "outputs": [],
   "source": [
    "from ipyturtle import Turtle"
   ]
  },
  {
   "cell_type": "markdown",
   "metadata": {},
   "source": [
    "This package creates a `Turtle` object which takes `forward`, `right`, and `left` methods we use below:"
   ]
  },
  {
   "cell_type": "code",
   "execution_count": 5,
   "metadata": {},
   "outputs": [],
   "source": [
    "def drawLsystem(turtle, instructions, angle, distance, drawLetters):\n",
    "    for cmd in instructions:\n",
    "        if cmd in drawLetters:\n",
    "            turtle.forward(distance)\n",
    "        elif cmd == '+':\n",
    "            turtle.right(angle)\n",
    "        elif cmd == '-':\n",
    "            turtle.left(angle)"
   ]
  },
  {
   "cell_type": "markdown",
   "metadata": {},
   "source": [
    "We initialize our canvas:"
   ]
  },
  {
   "cell_type": "code",
   "execution_count": 6,
   "metadata": {
    "scrolled": true
   },
   "outputs": [
    {
     "data": {
      "application/vnd.jupyter.widget-view+json": {
       "model_id": "858a15ccf2574e1da8a17938fd033ffa",
       "version_major": 2,
       "version_minor": 0
      },
      "text/plain": [
       "Turtle()"
      ]
     },
     "metadata": {},
     "output_type": "display_data"
    }
   ],
   "source": [
    "t=Turtle(fixed=False, width=450, height=150)\n",
    "t.hideturtle()\n",
    "t.penup()\n",
    "t.back(50)\n",
    "t.right(90)\n",
    "t.back(200)\n",
    "t.pendown()\n",
    "t"
   ]
  },
  {
   "cell_type": "markdown",
   "metadata": {},
   "source": [
    "And instruct our turtle to follow the instructions given by this L-System:"
   ]
  },
  {
   "cell_type": "code",
   "execution_count": 7,
   "metadata": {},
   "outputs": [
    {
     "name": "stdout",
     "output_type": "stream",
     "text": [
      "F-F++F-F-F-F++F-F++F-F++F-F-F-F++F-F-F-F++F-F-F-F++F-F++F-F++F-F-F-F++F-F++F-F++F-F-F-F++F-F++F-F++F-F-F-F++F-F-F-F++F-F-F-F++F-F++F-F++F-F-F-F++F-F-F-F++F-F-F-F++F-F++F-F++F-F-F-F++F-F-F-F++F-F-F-F++F-F++F-F++F-F-F-F++F-F++F-F++F-F-F-F++F-F++F-F++F-F-F-F++F-F-F-F++F-F-F-F++F-F++F-F++F-F-F-F++F-F++F-F++F-F-F-F++F-F++F-F++F-F-F-F++F-F-F-F++F-F-F-F++F-F++F-F++F-F-F-F++F-F++F-F++F-F-F-F++F-F++F-F++F-F-F-F++F-F-F-F++F-F-F-F++F-F++F-F++F-F-F-F++F-F-F-F++F-F-F-F++F-F++F-F++F-F-F-F++F-F-F-F++F-F-F-F++F-F++F-F++F-F-F-F++F-F++F-F++F-F-F-F++F-F++F-F++F-F-F-F++F-F-F-F++F-F-F-F++F-F++F-F++F-F-F-F++F-F\n"
     ]
    }
   ],
   "source": [
    "substitutionRules={ord('F'):'F-F++F-F'}\n",
    "instructions=substitutionSystem(4,'F',substitutionRules)\n",
    "print(instructions)"
   ]
  },
  {
   "cell_type": "code",
   "execution_count": 8,
   "metadata": {},
   "outputs": [],
   "source": [
    "drawLsystem(t, instructions, 60, 5,['F'])"
   ]
  },
  {
   "cell_type": "markdown",
   "metadata": {},
   "source": [
    "## Push & Pop Systems\n",
    "For more complicated L-systems, we can define two more characters in our alphabet to allow us to branch. In order to do this we need to drop a pin at one location, continue our operations, and then return back to the pin's location. \n",
    "\n",
    "To allow for nested branching, we use a stack allowing us to `push` and `pop` these pinned locations."
   ]
  },
  {
   "cell_type": "code",
   "execution_count": 9,
   "metadata": {},
   "outputs": [],
   "source": [
    "def drawLsystemPushPop(turtle, instructions, angle, distance, drawLetters):\n",
    "    stack = []\n",
    "    for cmd in instructions:\n",
    "        if cmd in drawLetters:\n",
    "            turtle.forward(distance)\n",
    "        elif cmd == '+':\n",
    "            turtle.right(angle)\n",
    "        elif cmd == '-':\n",
    "            turtle.left(angle)\n",
    "        elif cmd == '[':\n",
    "            currentAngle = turtle.heading()\n",
    "            xpos, ypos = turtle.position()\n",
    "            stack.append((currentAngle, xpos, ypos)) # push state\n",
    "            turtle.right(angle)\n",
    "        elif cmd == ']':\n",
    "            currentAngle, xpos, ypos = stack.pop()  # pop state\n",
    "            turtle._turtle_heading=currentAngle\n",
    "            turtle._turtle_location_x=xpos\n",
    "            turtle._turtle_location_y=ypos\n",
    "            turtle.left(angle)"
   ]
  },
  {
   "cell_type": "markdown",
   "metadata": {},
   "source": [
    "Let's initialize a slightly larger canvas:"
   ]
  },
  {
   "cell_type": "code",
   "execution_count": 10,
   "metadata": {},
   "outputs": [
    {
     "data": {
      "application/vnd.jupyter.widget-view+json": {
       "model_id": "8f162534a937457e918cf57d41af0ed6",
       "version_major": 2,
       "version_minor": 0
      },
      "text/plain": [
       "Turtle()"
      ]
     },
     "metadata": {},
     "output_type": "display_data"
    }
   ],
   "source": [
    "t2=Turtle(fixed=False, width=450, height=300)\n",
    "t2.hideturtle()\n",
    "t2.penup()\n",
    "t2.right(90)\n",
    "t2.back(200)\n",
    "t2.pendown()\n",
    "t2"
   ]
  },
  {
   "cell_type": "markdown",
   "metadata": {},
   "source": [
    "and define an L-system with push and pops in its ruleset.\n",
    "In particular, we've introduced:\n",
    "- [: Save current location & turn right\n",
    "- ]: Restore previous location & turn left"
   ]
  },
  {
   "cell_type": "code",
   "execution_count": 11,
   "metadata": {},
   "outputs": [],
   "source": [
    "substitutionRulesPushPop={ord('F'):'FF',ord('X'):'F-[[X]+X]+F[+FX]-X'}\n",
    "instructionsPushPop=substitutionSystem(4,'X',substitutionRulesPushPop)\n",
    "drawLsystemPushPop(t2, instructionsPushPop, 15, 8.5,['F','X'])"
   ]
  },
  {
   "cell_type": "markdown",
   "metadata": {},
   "source": [
    "## Your turn!\n",
    "Play around with the `drawLsystem` or `drawLsystemPushPop` functions to come up with your own fractals.  \n",
    "[Paul Bourke's website](http://paulbourke.net/fractals/lsys/) is an excellent starting point for L-system rules!"
   ]
  },
  {
   "cell_type": "code",
   "execution_count": null,
   "metadata": {},
   "outputs": [],
   "source": []
  }
 ],
 "metadata": {
  "kernelspec": {
   "display_name": "Python 3",
   "language": "python",
   "name": "python3"
  },
  "language_info": {
   "codemirror_mode": {
    "name": "ipython",
    "version": 3
   },
   "file_extension": ".py",
   "mimetype": "text/x-python",
   "name": "python",
   "nbconvert_exporter": "python",
   "pygments_lexer": "ipython3",
   "version": "3.8.5"
  }
 },
 "nbformat": 4,
 "nbformat_minor": 4
}
