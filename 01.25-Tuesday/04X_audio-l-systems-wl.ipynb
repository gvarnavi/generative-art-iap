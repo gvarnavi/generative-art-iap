{
 "cells": [
  {
   "cell_type": "markdown",
   "metadata": {},
   "source": [
    "# Audio L-Systems\n",
    "\n",
    "The symmetry and repetition found in L-Systems hints that they could be used to compose music.  \n",
    "This has been attempted a few different ways, most of which don't sound good.  \n",
    "\n",
    "Peter Worth and Susan Stepney published a pleasing translation in their paper, [\"Growing Music: musical interpretations of L-Systems\"](https://pdfs.semanticscholar.org/8c2f/caaf3153779ec3e838b416cd6e6d7feecdb9.pdf) "
   ]
  },
  {
   "cell_type": "markdown",
   "metadata": {},
   "source": [
    "<div class=\"alert alert-block alert-danger\">\n",
    "<b>Alert:</b> Getting sound apps over docker containers is possible, but not trivial. The following will therefore not work in our binder. We will use the wolfram-cloud version in class, and of-course you can always clone the repository locally and run this\n",
    "</div>"
   ]
  },
  {
   "cell_type": "markdown",
   "metadata": {},
   "source": [
    "## Creating Rules\n",
    "- Visually\n",
    "  - F: move forward\n",
    "  - X: do nothing\n",
    "  - 2: turn counter-clockwise by an angle $\\theta$\n",
    "  - 4: turn clockwise by an angle $\\theta$\n",
    "  - 6: save location\n",
    "  - 8: return to saved location\n",
    "  \n",
    "- Musically\n",
    "  - F: play pitch\n",
    "  - X: rest\n",
    "  - 2: go up one note in the given key\n",
    "  - 4: go down one note in the given key\n",
    "  - 6: save pitch\n",
    "  - 8: return to saved pitch"
   ]
  },
  {
   "cell_type": "markdown",
   "metadata": {},
   "source": [
    "## Generating Sheet Music\n",
    "\n",
    "The music rules can be written in a format very similar to the one used for visual L-Systems. Given the following set of instructions:"
   ]
  },
  {
   "cell_type": "code",
   "execution_count": null,
   "metadata": {},
   "outputs": [],
   "source": [
    "nest[state_, rules_, iter_]:=Nest[Flatten[# /. rules] &, state, iter]\n",
    "instructions = \n",
    " nest[{\"X\"}, {\"X\" -> {\"F\", 6, 4, \"X\", 8, 6, 2, \"X\", 8, \"F\", \"X\"}, \n",
    "   \"F\" -> {\"F\", \"F\"}}, 3]"
   ]
  },
  {
   "cell_type": "markdown",
   "metadata": {},
   "source": [
    "These instructions can be visualized as before:"
   ]
  },
  {
   "cell_type": "code",
   "execution_count": null,
   "metadata": {},
   "outputs": [],
   "source": [
    "visualizeLSystemPushPop[state_, rotAngle_,drawLetters_] :=\n",
    " Module[{currentAngle = 0, currentLocation = {0, 0}, \n",
    "   currentState = {}, savedState = {}, savedAngle = 0, \n",
    "   savedLocation = {0, 0}},\n",
    "  (Switch[#,\n",
    "      6, savedState = {savedAngle, savedLocation, savedState},\n",
    "      8, {savedAngle, savedLocation, savedState} = savedState,\n",
    "      _?(Or @@ Thread[# == drawLetters] &),\n",
    "      currentState = {currentState, \n",
    "        Line@{savedLocation, \n",
    "          savedLocation += {Cos@savedAngle, Sin@savedAngle}}}];\n",
    "     If[# == 2 || # == 4, savedAngle += I^# rotAngle]) & /@ state;\n",
    "  Graphics[Flatten@currentState, ImageSize -> 500]\n",
    "  ]\n",
    "  \n",
    "visualizeLSystemPushPop[instructions, Pi/4, {\"F\"}] "
   ]
  },
  {
   "cell_type": "markdown",
   "metadata": {},
   "source": [
    "and converted to sheet music using:"
   ]
  },
  {
   "cell_type": "code",
   "execution_count": null,
   "metadata": {},
   "outputs": [],
   "source": [
    "rawConvertToMusic[state_, playLetters_] := \n",
    " Module[{currentAngle = 0, currentPitch = 8, currentState = {1}, \n",
    "   savedState = {}, savedAngle = 0, savedPitch = 8},\n",
    "  (Switch[#,\n",
    "      6, savedState = {savedAngle, savedPitch, savedState},\n",
    "      8, {savedAngle, savedPitch, savedState} = savedState,\n",
    "      _?(Or @@ Thread[# == playLetters] &),\n",
    "      currentState = {currentState, savedPitch + savedAngle}];\n",
    "     If[# == 2 || # == 4, savedAngle += I^# ]) & /@ state;\n",
    "  Clip[#, {1, 10}] & /@ (Flatten@currentState)[[2 ;;]]\n",
    "  ]"
   ]
  },
  {
   "cell_type": "code",
   "execution_count": null,
   "metadata": {},
   "outputs": [],
   "source": [
    "rawConvertToMusic[instructions, {\"F\"}]"
   ]
  },
  {
   "cell_type": "code",
   "execution_count": null,
   "metadata": {},
   "outputs": [],
   "source": [
    "ListPlot[rawConvertToMusic[instructions, {\"F\"}], Frame -> True]"
   ]
  },
  {
   "cell_type": "markdown",
   "metadata": {},
   "source": [
    "We can play this using Mathematica. e.g. using a c Major scale"
   ]
  },
  {
   "cell_type": "code",
   "execution_count": null,
   "metadata": {},
   "outputs": [],
   "source": [
    "cMajor = {None, \"C3\", \"D3\", \"E3\", \"F3\", \"G3\", \"A3\", \"B3\", \"C4\", \"D4\", \n",
    "   \"E4\", \"F4\", \"G4\", \"A4\", \"B4\", \"C5\"};"
   ]
  },
  {
   "cell_type": "code",
   "execution_count": null,
   "metadata": {},
   "outputs": [],
   "source": [
    "EmitSound[\n",
    " Sound[SoundNote[cMajor[[#]], 0.5, \"Cello\"]] & /@ \n",
    "  rawConvertToMusic[instructions, {\"F\"}]]"
   ]
  },
  {
   "cell_type": "markdown",
   "metadata": {},
   "source": [
    "<div class=\"alert alert-block alert-warning\">\n",
    "<b>Note: </b>\n",
    "`EmitSound` will proceed to play the entire sequence unless interrupted by another `EmitSound` command. As such, we define a simple 'get-out-of-jail' card\n",
    "</div>"
   ]
  },
  {
   "cell_type": "code",
   "execution_count": null,
   "metadata": {},
   "outputs": [],
   "source": [
    "stopSound[] := EmitSound[SoundNote[0]]"
   ]
  },
  {
   "cell_type": "markdown",
   "metadata": {},
   "source": [
    "## Cleaning up the Music\n",
    "Our music will sound a lot better if we can combine long notes:"
   ]
  },
  {
   "cell_type": "code",
   "execution_count": null,
   "metadata": {},
   "outputs": [],
   "source": [
    "EmitSound[\n",
    " Sound[SoundNote[cMajor[[#]], 0.5, \"Cello\"]] & /@ {2, 2, 2, 2}]"
   ]
  },
  {
   "cell_type": "code",
   "execution_count": null,
   "metadata": {},
   "outputs": [],
   "source": [
    "EmitSound[Sound[SoundNote[cMajor[[#]], 2, \"Cello\"]] & /@ {2}]"
   ]
  },
  {
   "cell_type": "markdown",
   "metadata": {},
   "source": [
    "This function counts repeated F's as held notes:"
   ]
  },
  {
   "cell_type": "code",
   "execution_count": null,
   "metadata": {},
   "outputs": [],
   "source": [
    "combineNotes[sequence_] := \n",
    " Module[{currentPitch = 1, tally = 1, currentCombined = {}, \n",
    "   paddedSequence},\n",
    "  paddedSequence = \n",
    "   Append[sequence, 1]; (*ensures that all notes are counted*)\n",
    "  \n",
    "  Switch[#,\n",
    "     currentPitch, tally += 1,\n",
    "     _, AppendTo[currentCombined, {currentPitch, tally}]; tally = 1; \n",
    "     currentPitch = #] & /@ paddedSequence;\n",
    "  currentCombined]"
   ]
  },
  {
   "cell_type": "markdown",
   "metadata": {},
   "source": [
    "The functions can be combined to make a general L-System player:"
   ]
  },
  {
   "cell_type": "code",
   "execution_count": null,
   "metadata": {},
   "outputs": [],
   "source": [
    "convertToSound[{note_, duration_}, tempo_, instrument_ : \"Cello\", key_ : cMajor] :=\n",
    " SoundNote[key[[note]], duration*60/tempo, instrument]\n",
    " \n",
    " playSequence[sequence_, tempo_, instrument_ : \"Cello\", key_ : cMajor] := \n",
    " Module[{rawSequence, combinedSequence},\n",
    "  rawSequence = rawConvertToMusic[sequence, {\"F\"}];\n",
    "  combinedSequence = combineNotes[rawSequence];\n",
    "  EmitSound[\n",
    "   convertToSound[#, tempo, instrument, key] & /@ combinedSequence]]"
   ]
  },
  {
   "cell_type": "markdown",
   "metadata": {},
   "source": [
    "## A Few Tunes\n",
    "\n",
    "### Koch Snowflake"
   ]
  },
  {
   "cell_type": "code",
   "execution_count": null,
   "metadata": {},
   "outputs": [],
   "source": [
    "kochSnowflake = \n",
    "  nest[{\"F\", 2, 2, \"F\", 2, 2, \n",
    "    \"F\"}, {\"F\" -> {\"F\", 4, \"F\", 2, 2, \"F\", 4, \"F\"}}, 2];\n",
    "    \n",
    "kochSnowFlakeGraphic=\n",
    "With[{str = SubstitutionSystem[{\"F\" -> \"F+F--F+F\"}, \"F--F--F\", 3]},\n",
    " GraphicsGrid[\n",
    "  Partition[\n",
    "   Graphics[\n",
    "      Line@AnglePath[\n",
    "        StringCases[#, {\"F\" -> {1, 0}, \"+\" -> {0, Pi/3}, \n",
    "          \"-\" -> {0, -Pi/3}}]], ImageSize -> 500] & /@ str, 4], \n",
    "  ImageSize -> 500]]"
   ]
  },
  {
   "cell_type": "code",
   "execution_count": null,
   "metadata": {},
   "outputs": [],
   "source": [
    "rawConvertToMusic[kochSnowflake, {\"F\"}]\n",
    "playSequence[kochSnowflake, 120]"
   ]
  },
  {
   "cell_type": "markdown",
   "metadata": {},
   "source": [
    "### Pythagoras Tree"
   ]
  },
  {
   "cell_type": "code",
   "execution_count": null,
   "metadata": {},
   "outputs": [],
   "source": [
    "pythagorasTree = \n",
    "  nest[{\"A\"}, {\"B\" -> {\"B\", \"B\"}, \"A\" -> {\"B\", 6, 2, \"A\", 8, 4, \"A\"}},\n",
    "    6];\n",
    "    \n",
    "visualizeLSystemPushPop[\n",
    " nest[{\"A\"}, {\"B\" -> {\"B\", \"B\"}, \"A\" -> {\"B\", 6, 2, \"A\", 8, 4, \"A\"}}, \n",
    "  6], \\[Pi]/4, {\"A\", \"B\"}]"
   ]
  },
  {
   "cell_type": "code",
   "execution_count": null,
   "metadata": {},
   "outputs": [],
   "source": [
    "rawConvertToMusic[pythagorasTree, {\"A\", \"B\"}]\n",
    "playSequence[pythagorasTree /. {\"A\" -> \"F\", \"B\" -> \"F\"}, 1000]"
   ]
  },
  {
   "cell_type": "markdown",
   "metadata": {},
   "source": [
    "## L-System \"symphonies\""
   ]
  },
  {
   "cell_type": "code",
   "execution_count": null,
   "metadata": {},
   "outputs": [],
   "source": [
    "kochSnowFlakeGraphic"
   ]
  },
  {
   "cell_type": "markdown",
   "metadata": {},
   "source": [
    "Instead of playing only one track, we'll add multiple tracks - each at a different recursion level!"
   ]
  },
  {
   "cell_type": "code",
   "execution_count": null,
   "metadata": {},
   "outputs": [],
   "source": [
    "cello = nest[{\"F\", 2, 2, \"F\", 2, 2, \"F\"}, \n",
    "    {\"F\" -> {\"F\", 4, \"F\", 2, 2, \"F\", 4, \"F\"}}, 1];\n",
    "viola = nest[{\"F\", 2, 2, \"F\", 2, 2, \"F\"},\n",
    "    {\"F\" -> {\"F\", 4, \"F\", 2, 2, \"F\", 4, \"F\"}}, 2];\n",
    "violin = nest[{\"F\", 2, 2, \"F\", 2, 2, \"F\"},\n",
    "    {\"F\" -> {\"F\", 4, \"F\", 2, 2, \"F\", 4, \"F\"}}, 3];"
   ]
  },
  {
   "cell_type": "code",
   "execution_count": null,
   "metadata": {},
   "outputs": [],
   "source": [
    "violinKey = {None, \"C4\", \"D4\", \"E4\", \"F4\", \"G4\", \"A4\", \"B4\", \"C5\", \n",
    "   \"D5\", \"E5\", \"F5\", \"G5\", \"A5\", \"B5\", \"C6\", \"D6\", \"E6\", \"F6\", \"G6\", \n",
    "   \"A6\" \"B6\", \"C7\"};\n",
    "\n",
    "violaKey = {None, \"A3\", \"B3\", \"C4\", \"D4\", \"E4\", \"F4\", \"G4\", \"A4\", \n",
    "   \"B4\", \"C5\", \"D5\", \"E5\", \"F5\", \"G5\", \"A5\", \"B5\", \"C6\", \"D6\", \"E6\", \n",
    "   \"F6\", \"G6\", \"A6\"};\n",
    "\n",
    "celloKey = {None, \"A1\", \"B1\", \"C2\", \"D2\", \"E2\", \"F2\", \"G2\", \"A2\", \n",
    "   \"B2\", \"C3\", \"D3\", \"E3\", \"F3\", \"G3\", \"A3\", \"B3\", \"C4\", \"D4\", \"E4\", \n",
    "   \"F4\", \"G4\", \"A4\"};"
   ]
  },
  {
   "cell_type": "markdown",
   "metadata": {},
   "source": [
    "We write some functions to combine notes again for the symphony"
   ]
  },
  {
   "cell_type": "code",
   "execution_count": null,
   "metadata": {},
   "outputs": [],
   "source": [
    "combineNotesSymphony[sequence_] := \n",
    " Module[{currentPitch = 1, beginning = 1, end = 1, \n",
    "   currentCombined = {}, paddedSequence},\n",
    "  paddedSequence = \n",
    "   Append[sequence, 1]; (*ensures that all notes are counted*)\n",
    "  \n",
    "  Switch[#,\n",
    "     currentPitch, end += 1,\n",
    "     _, AppendTo[currentCombined, {currentPitch, {beginning, end}}]; \n",
    "     beginning = end; end += 1; currentPitch = #] & /@ \n",
    "   paddedSequence;\n",
    "  currentCombined]\n",
    "  \n",
    "  sequenceSymphony[sequence_, tempo_, instrument_ : \"Cello\", key_ : cMajor] := \n",
    "  Module[{rawSequence, combinedSequence},\n",
    "  rawSequence = rawConvertToMusic[sequence, {\"F\"}];\n",
    "  combinedSequence = combineNotesSymphony[rawSequence];\n",
    "  (convertToSound[#, tempo, instrument, key] & /@ combinedSequence)]"
   ]
  },
  {
   "cell_type": "code",
   "execution_count": null,
   "metadata": {},
   "outputs": [],
   "source": [
    "EmitSound@Join[\n",
    "  (sequenceSymphony[violin, 400, \"Violin\", \n",
    "    violinKey]), (sequenceSymphony[viola, 100, \"Viola\", \n",
    "    violaKey]), (sequenceSymphony[cello, 25, \"Cello\", celloKey])]"
   ]
  },
  {
   "cell_type": "code",
   "execution_count": null,
   "metadata": {},
   "outputs": [],
   "source": []
  }
 ],
 "metadata": {
  "kernelspec": {
   "display_name": "Wolfram Language 12.2",
   "language": "Wolfram Language",
   "name": "wolframlanguage12.2"
  },
  "language_info": {
   "codemirror_mode": "mathematica",
   "file_extension": ".m",
   "mimetype": "application/vnd.wolfram.m",
   "name": "Wolfram Language",
   "pygments_lexer": "mathematica",
   "version": "12.0"
  }
 },
 "nbformat": 4,
 "nbformat_minor": 4
}
